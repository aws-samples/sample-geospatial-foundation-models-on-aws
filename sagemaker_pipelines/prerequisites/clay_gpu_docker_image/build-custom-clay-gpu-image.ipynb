{
 "cells": [
  {
   "cell_type": "markdown",
   "id": "58f24bfe-4126-492d-95b0-3a7278d6da51",
   "metadata": {},
   "source": [
    "### Docker image to run Clay model in GPU instances"
   ]
  },
  {
   "cell_type": "markdown",
   "id": "8094577b-d6a3-43e4-b03e-99332d6dc7d9",
   "metadata": {},
   "source": [
    "#### Clone Clay model repo at specific commit\n",
    "\n",
    "see here for the clay GitHub repository: https://github.com/Clay-foundation/model/tree/main"
   ]
  },
  {
   "cell_type": "code",
   "execution_count": null,
   "id": "e6f983be-7719-4e3b-9513-fd2569154d4b",
   "metadata": {
    "tags": []
   },
   "outputs": [],
   "source": [
    "!pip install gitpython"
   ]
  },
  {
   "cell_type": "code",
   "execution_count": null,
   "id": "617b305f-0a2b-4dc6-a2cb-9d27d9df596d",
   "metadata": {
    "tags": []
   },
   "outputs": [],
   "source": [
    "URL = \"https://github.com/Clay-foundation/model.git\"\n",
    "SHA = \"32518ce\" # LATEST COMMIT PRE v.1.5, see here: https://github.com/Clay-foundation/model/commit/32518ceed8f75f116f3325bdb68c62eeab9ddbae"
   ]
  },
  {
   "cell_type": "code",
   "execution_count": null,
   "id": "f78d2cea-9850-4829-bcaf-56392938543a",
   "metadata": {
    "tags": []
   },
   "outputs": [],
   "source": [
    "from git import Repo\n",
    "\n",
    "def clone_repo_at_commit(git_url, local_dir, commit_hash):\n",
    "    \"\"\"\n",
    "    Clone a git repository at a specific commit\n",
    "    \n",
    "    Args:\n",
    "        git_url (str): URL of the git repository\n",
    "        local_dir (str): Local directory where to clone the repository\n",
    "        commit_hash (str): The specific commit hash to checkout\n",
    "    \"\"\"\n",
    "    try:\n",
    "        # Clone the repository\n",
    "        repo = Repo.clone_from(git_url, local_dir)\n",
    "        \n",
    "        # Checkout the specific commit\n",
    "        repo.git.checkout(commit_hash)\n",
    "        \n",
    "        print(f\"Successfully cloned repository at commit {commit_hash}\")\n",
    "        \n",
    "    except Exception as e:\n",
    "        print(f\"Error occurred: {str(e)}\")"
   ]
  },
  {
   "cell_type": "code",
   "execution_count": null,
   "id": "43a98d6a-17fc-4e0d-ab03-9a8742fc2bc1",
   "metadata": {
    "tags": []
   },
   "outputs": [],
   "source": [
    "clone_repo_at_commit(git_url=URL, local_dir=\"./clay_assets\", commit_hash=SHA)"
   ]
  },
  {
   "cell_type": "markdown",
   "id": "9860b278-1d8c-403f-9545-8c0dbe1ba06c",
   "metadata": {},
   "source": [
    "#### Download model checkpoint from HuggingFace\n",
    "\n",
    "see here for the Clay HF repository: https://huggingface.co/made-with-clay/Clay"
   ]
  },
  {
   "cell_type": "code",
   "execution_count": null,
   "id": "bebbe510-19db-4e48-9b04-a6b017a681ee",
   "metadata": {
    "tags": []
   },
   "outputs": [],
   "source": [
    "import os\n",
    "artifact_dir=\"./clay_assets/checkpoints/\"\n",
    "os.makedirs(artifact_dir,exist_ok=True)"
   ]
  },
  {
   "cell_type": "code",
   "execution_count": null,
   "id": "ab87a46a-f601-4a7b-93c7-84fcf6e228d5",
   "metadata": {
    "tags": []
   },
   "outputs": [],
   "source": [
    "hf_ckpt_path = \"https://huggingface.co/made-with-clay/Clay/resolve/main/v1/clay-v1-base.ckpt\""
   ]
  },
  {
   "cell_type": "code",
   "execution_count": null,
   "id": "934eed50-6400-408d-8330-6bc88494824e",
   "metadata": {
    "tags": []
   },
   "outputs": [],
   "source": [
    "!wget --quiet -P {artifact_dir} {hf_ckpt_path}"
   ]
  },
  {
   "cell_type": "markdown",
   "id": "2fb2dc95-7074-4582-939a-0c82aa6bc912",
   "metadata": {},
   "source": [
    "#### Write the Dockerfile"
   ]
  },
  {
   "cell_type": "code",
   "execution_count": null,
   "id": "d214441c-052f-4e78-a8d3-3f4fbf2b7435",
   "metadata": {
    "tags": []
   },
   "outputs": [],
   "source": [
    "%%writefile Dockerfile\n",
    "\n",
    "#Build from sagemaker distro image: https://gallery.ecr.aws/sagemaker/sagemaker-distribution\n",
    "FROM public.ecr.aws/sagemaker/sagemaker-distribution:1.8.0-gpu\n",
    "\n",
    "ARG NB_USER=\"sagemaker-user\"\n",
    "ARG NB_UID=1000\n",
    "ARG NB_GID=100\n",
    "\n",
    "ENV MAMBA_USER=$NB_USER\n",
    "\n",
    "USER $ROOT\n",
    "\n",
    "# Install system dependencies\n",
    "RUN apt-get update && apt-get install -y \\\n",
    "    wget \\\n",
    "    && rm -rf /var/lib/apt/lists/*\n",
    "\n",
    "# Install Mamba\n",
    "RUN wget -qO- https://micromamba.snakepit.net/api/micromamba/linux-64/latest | tar -xvj bin/micromamba \\\n",
    "    && mv bin/micromamba /usr/local/bin/ \\\n",
    "    && rm -rf bin\n",
    "\n",
    "# Set up Mamba environment\n",
    "ENV MAMBA_ROOT_PREFIX=/opt/conda\n",
    "ENV PATH=$MAMBA_ROOT_PREFIX/bin:$PATH\n",
    "\n",
    "# Copy environment files\n",
    "COPY environment.yml /tmp/environment.yml\n",
    "COPY requirements.txt /tmp/requirements.txt\n",
    "\n",
    "# Create and activate the environment, install dependencies, and pip requirements\n",
    "RUN micromamba create -f /tmp/environment.yml && \\\n",
    "    micromamba run -n claymodel pip install -r /tmp/requirements.txt && \\\n",
    "    micromamba clean --all --yes\n",
    "\n",
    "# Set environment variable for the environment name\n",
    "ENV ENV_NAME=claymodel\n",
    "\n",
    "# Set the default environment for inference\n",
    "ENV SAGEMAKER_JOB_CONDA_ENV=claymodel\n",
    "\n",
    "# Set the default environment path\n",
    "ENV PATH /opt/conda/envs/$ENV_NAME/bin:$PATH\n",
    "\n",
    "# Copy model files\n",
    "COPY  clay_assets/ /home/sagemaker-user/clay-model\n",
    "\n",
    "# Add healthcheck to verify code is running at default path\n",
    "HEALTHCHECK --interval=30s --timeout=3s \\\n",
    "  CMD pgrep -f \"python3 /opt/ml/processing/input/code/\" || exit 1\n",
    "\n",
    "# Set the entrypoint to activate the environment\n",
    "ENTRYPOINT [\"/bin/bash\", \"-c\"]"
   ]
  },
  {
   "cell_type": "markdown",
   "id": "27da184d-2b21-408b-8048-3f5cf04788c1",
   "metadata": {},
   "source": [
    "#### Build and tag Docker image"
   ]
  },
  {
   "cell_type": "code",
   "execution_count": null,
   "id": "682eb835",
   "metadata": {
    "tags": []
   },
   "outputs": [],
   "source": [
    "import boto3\n",
    "import sagemaker\n",
    "\n",
    "# Create a SageMaker session\n",
    "sagemaker_session = sagemaker.Session()\n",
    "\n",
    "# Get the region\n",
    "ECR_REGION = sagemaker_session.boto_region_name\n",
    "\n",
    "# Get the account number\n",
    "sts_client = boto3.client('sts')\n",
    "ECR_ACCOUNT_ID = sts_client.get_caller_identity()[\"Account\"]\n",
    "\n",
    "#Set Repo and Image name\n",
    "REPO_NAME=\"clay-gpu-container-new\"\n",
    "IMG_NAME=f\"{REPO_NAME}:latest\"\n",
    "\n",
    "print(f\"Region: {ECR_REGION}\")\n",
    "print(f\"Account Number: {ECR_ACCOUNT_ID}\")\n",
    "print(f\"ECR Repository Name: {REPO_NAME}\")\n",
    "print(f\"Image Name: {IMG_NAME}\")"
   ]
  },
  {
   "cell_type": "code",
   "execution_count": null,
   "id": "e4ad8d50-e3cf-4505-8d24-af4b43dc341e",
   "metadata": {
    "tags": []
   },
   "outputs": [],
   "source": [
    "!aws ecr get-login-password --region {ECR_REGION} | docker login --username AWS --password-stdin {ECR_ACCOUNT_ID}.dkr.ecr.{ECR_REGION}.amazonaws.com"
   ]
  },
  {
   "cell_type": "code",
   "execution_count": null,
   "id": "47087e96-6d7d-4601-b776-5a47789a4e2d",
   "metadata": {
    "tags": []
   },
   "outputs": [],
   "source": [
    "!docker build --quiet -f Dockerfile -t {IMG_NAME} ."
   ]
  },
  {
   "cell_type": "code",
   "execution_count": null,
   "id": "5ed0f5ef-65c7-4737-8132-89b26338a146",
   "metadata": {
    "tags": []
   },
   "outputs": [],
   "source": [
    "!docker tag {IMG_NAME} {ECR_ACCOUNT_ID}.dkr.ecr.{ECR_REGION}.amazonaws.com/{IMG_NAME}"
   ]
  },
  {
   "cell_type": "markdown",
   "id": "a95af95b-7d1b-454b-b6cb-f3aa407e7156",
   "metadata": {},
   "source": [
    "#### Push to ECR"
   ]
  },
  {
   "cell_type": "markdown",
   "id": "0661642e-bfa8-4323-b866-9750798fd75c",
   "metadata": {},
   "source": [
    "Ensure that the ECR repository exists. Create it if it does not."
   ]
  },
  {
   "cell_type": "code",
   "execution_count": null,
   "id": "ebcc69c9-f63b-4c00-8ef7-75730211f15d",
   "metadata": {
    "tags": []
   },
   "outputs": [],
   "source": [
    "def ensure_ecr_repository(repository_name, region=ECR_REGION):\n",
    "    \"\"\"\n",
    "    Check if ECR repository exists and create it if it doesn't.\n",
    "    \n",
    "    Args:\n",
    "        repository_name (str): Name of the ECR repository\n",
    "        region (str, optional): AWS region. If None, uses default region\n",
    "    \n",
    "    Returns:\n",
    "        dict: Repository details\n",
    "    \"\"\"\n",
    "    try:\n",
    "        # Initialize ECR client\n",
    "        ecr_client = boto3.client('ecr', region_name=region)\n",
    "        \n",
    "        try:\n",
    "            # Try to describe the repository to check if it exists\n",
    "            response = ecr_client.describe_repositories(\n",
    "                repositoryNames=[repository_name]\n",
    "            )\n",
    "            print(f\"Repository '{repository_name}' already exists\")\n",
    "            return response['repositories'][0]\n",
    "            \n",
    "        except ecr_client.exceptions.RepositoryNotFoundException:\n",
    "            # Repository doesn't exist, create it\n",
    "            print(f\"Creating repository '{repository_name}'...\")\n",
    "            response = ecr_client.create_repository(\n",
    "                repositoryName=repository_name,\n",
    "                imageScanningConfiguration={'scanOnPush': True},\n",
    "                encryptionConfiguration={'encryptionType': 'AES256'}\n",
    "            )\n",
    "            print(f\"Repository '{repository_name}' created successfully\")\n",
    "            return response['repository']\n",
    "            \n",
    "    except Exception as e:\n",
    "        print(f\"Error managing ECR repository: {str(e)}\")\n",
    "        raise"
   ]
  },
  {
   "cell_type": "code",
   "execution_count": null,
   "id": "0f355912-4363-4080-9273-f8d6cd5b9b10",
   "metadata": {
    "tags": []
   },
   "outputs": [],
   "source": [
    "try:\n",
    "    repository = ensure_ecr_repository(REPO_NAME)\n",
    "    print(f\"Repository URI: {repository['repositoryUri']}\")\n",
    "except Exception as e:\n",
    "    print(f\"Failed to ensure repository exists: {str(e)}\")"
   ]
  },
  {
   "cell_type": "code",
   "execution_count": null,
   "id": "9a25a644-dbdf-4333-8409-f0ea70e34a93",
   "metadata": {
    "tags": []
   },
   "outputs": [],
   "source": [
    "!docker push {ECR_ACCOUNT_ID}.dkr.ecr.{ECR_REGION}.amazonaws.com/{IMG_NAME}"
   ]
  },
  {
   "cell_type": "markdown",
   "id": "a606925a-43c9-471c-8536-6addeeeaaddb",
   "metadata": {},
   "source": [
    "#### Pull from ECR (Required to work with SM Notebookes in Local Mode)"
   ]
  },
  {
   "cell_type": "code",
   "execution_count": null,
   "id": "aee7951a-d64a-4bc1-a55e-877140e3a360",
   "metadata": {
    "tags": []
   },
   "outputs": [],
   "source": [
    "!docker pull {ECR_ACCOUNT_ID}.dkr.ecr.{ECR_REGION}.amazonaws.com/{IMG_NAME}"
   ]
  }
 ],
 "metadata": {
  "kernelspec": {
   "display_name": "conda_python3",
   "language": "python",
   "name": "conda_python3"
  },
  "language_info": {
   "codemirror_mode": {
    "name": "ipython",
    "version": 3
   },
   "file_extension": ".py",
   "mimetype": "text/x-python",
   "name": "python",
   "nbconvert_exporter": "python",
   "pygments_lexer": "ipython3",
   "version": "3.10.16"
  }
 },
 "nbformat": 4,
 "nbformat_minor": 5
}
