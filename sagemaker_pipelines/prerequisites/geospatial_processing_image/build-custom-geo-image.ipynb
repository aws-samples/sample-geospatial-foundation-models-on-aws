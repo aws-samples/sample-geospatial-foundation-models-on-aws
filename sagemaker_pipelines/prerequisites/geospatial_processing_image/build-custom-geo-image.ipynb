{
 "cells": [
  {
   "cell_type": "markdown",
   "id": "58f24bfe-4126-492d-95b0-3a7278d6da51",
   "metadata": {},
   "source": [
    "## Build and Register Docker image to run geospatial processing on SageMaker"
   ]
  },
  {
   "cell_type": "code",
   "execution_count": null,
   "id": "179a12ed-e367-4259-9468-bf3322d55a8a",
   "metadata": {
    "tags": []
   },
   "outputs": [],
   "source": [
    "import boto3\n",
    "import sagemaker\n",
    "\n",
    "# Create a SageMaker session\n",
    "sagemaker_session = sagemaker.Session()\n",
    "\n",
    "# Get the regio\n",
    "ECR_REGION = sagemaker_session.boto_region_name\n",
    "\n",
    "# Get the account number\n",
    "sts_client = boto3.client('sts')\n",
    "ECR_ACCOUNT_ID = sts_client.get_caller_identity()[\"Account\"]\n",
    "\n",
    "# Set other parameters\n",
    "DISTRO = \"cpu\"\n",
    "REPO_NAME=\"geo-img-cpu\"\n",
    "IMG_NAME=f\"{REPO_NAME}:latest\"\n",
    "\n",
    "print(f\"Region: {ECR_REGION}\")\n",
    "print(f\"Account Number: {ECR_ACCOUNT_ID}\")\n",
    "print(f\"ECR Repository Name: {REPO_NAME}\")\n",
    "print(f\"Image Name: {IMG_NAME}\")"
   ]
  },
  {
   "cell_type": "markdown",
   "id": "62e8b957-f59c-4991-8045-4d94b23adeaf",
   "metadata": {},
   "source": [
    "### Log into ECR"
   ]
  },
  {
   "cell_type": "code",
   "execution_count": null,
   "id": "e4ad8d50-e3cf-4505-8d24-af4b43dc341e",
   "metadata": {
    "tags": []
   },
   "outputs": [],
   "source": [
    "!aws ecr get-login-password --region {ECR_REGION} | docker login --username AWS --password-stdin {ECR_ACCOUNT_ID}.dkr.ecr.{ECR_REGION}.amazonaws.com"
   ]
  },
  {
   "cell_type": "markdown",
   "id": "621e96db-7d29-4ee1-83bb-63c9301fcedf",
   "metadata": {},
   "source": [
    "### Build the image\n",
    "\n",
    "Note: this will take up to 15 minutes"
   ]
  },
  {
   "cell_type": "code",
   "execution_count": null,
   "id": "ae3acad0-4515-490a-a5cc-e127717e65b8",
   "metadata": {
    "tags": []
   },
   "outputs": [],
   "source": [
    "!docker build --quiet -f Dockerfilev2 --build-arg DISTRIBUTION_TYPE={DISTRO} -t {IMG_NAME} ."
   ]
  },
  {
   "cell_type": "markdown",
   "id": "593399db-3186-4744-b391-fa567e4024a7",
   "metadata": {},
   "source": [
    "### Tag the image"
   ]
  },
  {
   "cell_type": "code",
   "execution_count": null,
   "id": "439cd58d-0370-4c4e-adf1-7ee6d1dd5f9a",
   "metadata": {
    "tags": []
   },
   "outputs": [],
   "source": [
    "!docker tag {IMG_NAME} {ECR_ACCOUNT_ID}.dkr.ecr.{ECR_REGION}.amazonaws.com/{IMG_NAME}"
   ]
  },
  {
   "cell_type": "markdown",
   "id": "29fd309f-e3fe-45b4-8487-66c3fbf8ae3f",
   "metadata": {},
   "source": [
    "### Push the image to ECR\n",
    "Ensure that the ECR repository exists. Create it if it does not."
   ]
  },
  {
   "cell_type": "code",
   "execution_count": null,
   "id": "c83a9ad5-f1fa-4910-b6bd-3a9b1cd5c3f0",
   "metadata": {},
   "outputs": [],
   "source": [
    "def ensure_ecr_repository(repository_name, region=ECR_REGION):\n",
    "    \"\"\"\n",
    "    Check if ECR repository exists and create it if it doesn't.\n",
    "    \n",
    "    Args:\n",
    "        repository_name (str): Name of the ECR repository\n",
    "        region (str, optional): AWS region. If None, uses default region\n",
    "    \n",
    "    Returns:\n",
    "        dict: Repository details\n",
    "    \"\"\"\n",
    "    try:\n",
    "        # Initialize ECR client\n",
    "        ecr_client = boto3.client('ecr', region_name=region)\n",
    "        \n",
    "        try:\n",
    "            # Try to describe the repository to check if it exists\n",
    "            response = ecr_client.describe_repositories(\n",
    "                repositoryNames=[repository_name]\n",
    "            )\n",
    "            print(f\"Repository '{repository_name}' already exists\")\n",
    "            return response['repositories'][0]\n",
    "            \n",
    "        except ecr_client.exceptions.RepositoryNotFoundException:\n",
    "            # Repository doesn't exist, create it\n",
    "            print(f\"Creating repository '{repository_name}'...\")\n",
    "            response = ecr_client.create_repository(\n",
    "                repositoryName=repository_name,\n",
    "                imageScanningConfiguration={'scanOnPush': True},\n",
    "                encryptionConfiguration={'encryptionType': 'AES256'}\n",
    "            )\n",
    "            print(f\"Repository '{repository_name}' created successfully\")\n",
    "            return response['repository']\n",
    "            \n",
    "    except Exception as e:\n",
    "        print(f\"Error managing ECR repository: {str(e)}\")\n",
    "        raise"
   ]
  },
  {
   "cell_type": "code",
   "execution_count": null,
   "id": "ab127bfe-1168-499a-85fe-a9fcfede284b",
   "metadata": {},
   "outputs": [],
   "source": [
    "try:\n",
    "    repository = ensure_ecr_repository(REPO_NAME)\n",
    "    print(f\"Repository URI: {repository['repositoryUri']}\")\n",
    "except Exception as e:\n",
    "    print(f\"Failed to ensure repository exists: {str(e)}\")"
   ]
  },
  {
   "cell_type": "code",
   "execution_count": null,
   "id": "e6947fdc-c0d2-41cb-a569-c117cf5cc13f",
   "metadata": {
    "tags": []
   },
   "outputs": [],
   "source": [
    "!docker push {ECR_ACCOUNT_ID}.dkr.ecr.{ECR_REGION}.amazonaws.com/{IMG_NAME}"
   ]
  },
  {
   "cell_type": "markdown",
   "id": "e8f1f845-e10b-44d4-b506-0d0673728f1c",
   "metadata": {},
   "source": [
    "### Verify Upload to ECR"
   ]
  },
  {
   "cell_type": "code",
   "execution_count": null,
   "id": "6d4b3002-60c1-4d17-ae7b-a30cb7eebb27",
   "metadata": {
    "tags": []
   },
   "outputs": [],
   "source": [
    "import boto3\n",
    "\n",
    "def list_ecr_images(repository_name, registry_id=None):\n",
    "    # Initialize the ECR client\n",
    "    ecr_client = boto3.client('ecr')\n",
    "    \n",
    "    # Prepare parameters for the request\n",
    "    params = {'repositoryName': repository_name}\n",
    "    if registry_id:\n",
    "        params['registryId'] = registry_id\n",
    "    \n",
    "    # Fetch images with pagination handling\n",
    "    images = []\n",
    "    paginator = ecr_client.get_paginator('list_images')\n",
    "    for page in paginator.paginate(**params):\n",
    "        images.extend(page['imageIds'])\n",
    "    \n",
    "    return images\n",
    "\n",
    "# Example usage\n",
    "repository_name = 'geo-img-cpu'\n",
    "images = list_ecr_images(repository_name)\n",
    "print(\"Images in repository:\", images)\n"
   ]
  },
  {
   "cell_type": "code",
   "execution_count": null,
   "id": "c8b2f99b-aa25-474d-9352-b9be880de91b",
   "metadata": {},
   "outputs": [],
   "source": []
  }
 ],
 "metadata": {
  "kernelspec": {
   "display_name": "conda_pytorch_p310",
   "language": "python",
   "name": "conda_pytorch_p310"
  },
  "language_info": {
   "codemirror_mode": {
    "name": "ipython",
    "version": 3
   },
   "file_extension": ".py",
   "mimetype": "text/x-python",
   "name": "python",
   "nbconvert_exporter": "python",
   "pygments_lexer": "ipython3",
   "version": "3.10.14"
  }
 },
 "nbformat": 4,
 "nbformat_minor": 5
}
