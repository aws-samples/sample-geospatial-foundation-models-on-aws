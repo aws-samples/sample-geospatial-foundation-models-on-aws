{
 "cells": [
  {
   "cell_type": "markdown",
   "id": "b19eb436-6bed-48c1-9cda-513f779be521",
   "metadata": {},
   "source": [
    "# Run Large-scale Geospatial Processing Routines using an Amazon SageMaker Processing Job"
   ]
  },
  {
   "cell_type": "markdown",
   "id": "2731b54a-92cc-49ab-a2e5-aaa8319821fb",
   "metadata": {},
   "source": [
    "__Prerequisites:__ We recommend running this notebook on an `m5.xlarge`. Running this notebook requires several geospatial libraries. You can either pip-install these, or set up a custom geospatial Kernel (see [this](https://aws.amazon.com/blogs/machine-learning/create-custom-images-for-geospatial-analysis-with-amazon-sagemaker-distribution-in-amazon-sagemaker-studio/) blog post for details). \n",
    "\n",
    "You also need to have built and registered two custom Docker images on the Amazon Elastic Container Registry (ECR) and have set appropriate permission on this Notebook's execution role for it to access the image for each of the processing jobs contained that form the pipeline. Please see the `/prerequisites` folder for the Docker files and notebooks to build and register the Docker images.\n",
    "\n",
    "This pipeline has four steps:\n",
    "1. __Step 1 - Pre-process Satellite Tile__ divide tiles into nxn pixel-sized chips, save each chip as a netcdf datacube and a rgb .png thumbnail along with metatdata as .parquet. The metatdata files contains all geospatial information for each chip as well as the file paths. \n",
    "2. __Step 2: Generate Embeddings__ generate patch and class embeddings using an off-the-shelve geospatial embedding model\n",
    "4. __Step 3 - Process Embeddings:__ run dimensionality reduction and similarity computations on the embeddings\n",
    "3. __Step 4 - Consolidate Metadata and Load into Vector DB:__ run dimensionality reduction and similarity computations on the embeddings"
   ]
  },
  {
   "cell_type": "code",
   "execution_count": 1,
   "id": "552d3dc2-986b-4119-b7c4-55ed814c6661",
   "metadata": {
    "tags": []
   },
   "outputs": [],
   "source": [
    "!pip install -q geopandas pystac_client leafmap"
   ]
  },
  {
   "cell_type": "code",
   "execution_count": 39,
   "id": "895dc450-eff6-472e-ad46-12188f60d991",
   "metadata": {
    "tags": []
   },
   "outputs": [],
   "source": [
    "#geo libraries\n",
    "import geopandas as gpd\n",
    "import pandas as pd\n",
    "import pystac_client\n",
    "import leafmap\n",
    "import leafmap.foliumap as leafmap\n",
    "#other libraries\n",
    "import os\n",
    "import pandas as pd\n",
    "import json\n",
    "import boto3\n",
    "from botocore.exceptions import ClientError\n",
    "import warnings\n",
    "warnings.filterwarnings('ignore') # Ignore all warnings\n",
    "#sagemaker\n",
    "import sagemaker\n",
    "from sagemaker import get_execution_role\n",
    "from sagemaker.sklearn.processing import ScriptProcessor\n",
    "from sagemaker.processing import ProcessingInput, ProcessingOutput\n",
    "from sagemaker.workflow.steps import ProcessingStep\n",
    "from sagemaker.workflow.pipeline import Pipeline\n",
    "from sagemaker.workflow.steps import CacheConfig\n",
    "from sagemaker.workflow.parameters import (\n",
    "    ParameterString,\n",
    "    ParameterInteger)"
   ]
  },
  {
   "cell_type": "code",
   "execution_count": 40,
   "id": "de96f620-7327-4131-81a6-7876e5203445",
   "metadata": {
    "scrolled": true,
    "tags": []
   },
   "outputs": [
    {
     "name": "stdout",
     "output_type": "stream",
     "text": [
      "aws-geofm-data-bucket-785721480234-us-west-2-dev\n"
     ]
    }
   ],
   "source": [
    "#instantiate sessions and clients\n",
    "session = boto3.Session()\n",
    "sagemaker_session = sagemaker.Session()\n",
    "execution_role = sagemaker.get_execution_role()\n",
    "s3_client = boto3.client('s3')\n",
    "region = session.region_name\n",
    "\n",
    "# Get the account number\n",
    "sts_client = boto3.client('sts')\n",
    "account_number = sts_client.get_caller_identity()[\"Account\"]\n",
    "\n",
    "# instantiate data bucket, create if it does not exist\n",
    "env_name= \"dev\" #<-- align with settings in CDK stack \n",
    "bucket_name = f\"aws-geofm-data-bucket-{account_number}-{region}-{env_name}\"\n",
    "print(bucket_name)\n",
    "\n",
    "try:\n",
    "    s3_client.head_bucket(Bucket=bucket_name)\n",
    "except ClientError:\n",
    "    s3_client.create_bucket(\n",
    "            Bucket=bucket_name,\n",
    "            CreateBucketConfiguration={\n",
    "                'LocationConstraint': region\n",
    "            }\n",
    "        )\n",
    "    s3_client.put_public_access_block(\n",
    "        Bucket=bucket_name,\n",
    "        PublicAccessBlockConfiguration={\n",
    "            'BlockPublicAcls': True,\n",
    "            'IgnorePublicAcls': True,\n",
    "            'BlockPublicPolicy': True,\n",
    "            'RestrictPublicBuckets': True\n",
    "        }\n",
    "    )\n",
    "\n",
    "#custom images\n",
    "geo_processing_cpu_img = f\"{account_number}.dkr.ecr.{region}.amazonaws.com/geo-img-cpu\" #<--- verify URI of the geo processing image\n",
    "geofm_embedding_gpu_img = f\"{account_number}.dkr.ecr.{region}.amazonaws.com/clay-gpu-container-new\" #<--- verify URI of the geofm embedding generation image\n",
    "\n",
    "#create folder for processing scripts\n",
    "os.makedirs(\"./scripts/\", exist_ok=True)"
   ]
  },
  {
   "cell_type": "markdown",
   "id": "29b0180d-19d2-4e58-8cfe-2df15a083b02",
   "metadata": {},
   "source": [
    "___"
   ]
  },
  {
   "cell_type": "markdown",
   "id": "1bc4ecfc-93c5-4dd8-91a4-94f9e3921364",
   "metadata": {},
   "source": [
    "## Set up Manifest Files"
   ]
  },
  {
   "cell_type": "code",
   "execution_count": 41,
   "id": "88251707-fe66-4eb5-96a9-cb4ff4372e96",
   "metadata": {
    "tags": []
   },
   "outputs": [],
   "source": [
    "aoi_name=\"brazil-mato-grosso\" #<-- pick an descriptive name for your area of observation, do not use underscores!"
   ]
  },
  {
   "cell_type": "markdown",
   "id": "d04462ea-2d67-4b1b-97bc-21ef42f4f3b2",
   "metadata": {},
   "source": [
    "__Define an exemplary Geometry__\n",
    "\n",
    "You can use geojson.io to define a bounding box, then paste it below."
   ]
  },
  {
   "cell_type": "code",
   "execution_count": 42,
   "id": "1037f669-ec0c-474a-83bf-8cdcd7f1ea97",
   "metadata": {
    "tags": []
   },
   "outputs": [],
   "source": [
    "# brazil-mato-grosso Bounding Box\n",
    "geo={\n",
    "  \"type\": \"FeatureCollection\",\n",
    "  \"features\": [\n",
    "    {\n",
    "      \"type\": \"Feature\",\n",
    "      \"properties\": {},\n",
    "      \"geometry\": {\n",
    "        \"coordinates\": [[[-61.092623344875769, -10.253101623520225], \n",
    "                          [-61.092623344875769, -10.90655037748293], \n",
    "                          [-61.757376655124226, -10.90655037748293], \n",
    "                          [-61.757376655124226, -10.253101623520225], \n",
    "                          [-61.092623344875769, -10.253101623520225]]],\n",
    "        \"type\": \"Polygon\"\n",
    "      }\n",
    "    }\n",
    "  ]\n",
    "}"
   ]
  },
  {
   "cell_type": "code",
   "execution_count": 43,
   "id": "764eb4c3-a09b-4f8a-b045-7375cd0052d2",
   "metadata": {
    "tags": []
   },
   "outputs": [
    {
     "name": "stdout",
     "output_type": "stream",
     "text": [
      "\n",
      "Geometry Type: 0    Polygon\n",
      "dtype: object\n",
      "Coordinate Reference System (CRS): epsg:4326\n"
     ]
    }
   ],
   "source": [
    "# Convert to GeoDataFrame\n",
    "aoi_gdf = gpd.GeoDataFrame.from_features(geo['features'])\n",
    "aoi_gdf.crs='epsg:4326'\n",
    "# Check the geometry type and CRS\n",
    "print(\"\\nGeometry Type:\", aoi_gdf.geometry.geom_type)\n",
    "print(\"Coordinate Reference System (CRS):\", aoi_gdf.crs)\n"
   ]
  },
  {
   "cell_type": "markdown",
   "id": "47866404-d4bd-4d43-8d17-6a32d870fb76",
   "metadata": {},
   "source": [
    "__Visualize the Geometry__"
   ]
  },
  {
   "cell_type": "code",
   "execution_count": 44,
   "id": "91958a2c-8890-4b9b-a17f-e4acac931147",
   "metadata": {
    "tags": []
   },
   "outputs": [
    {
     "data": {
      "text/html": [
       "<iframe srcdoc=\"&lt;!DOCTYPE html&gt;\n",
       "&lt;html&gt;\n",
       "&lt;head&gt;\n",
       "    \n",
       "    &lt;meta http-equiv=&quot;content-type&quot; content=&quot;text/html; charset=UTF-8&quot; /&gt;\n",
       "    \n",
       "        &lt;script&gt;\n",
       "            L_NO_TOUCH = false;\n",
       "            L_DISABLE_3D = false;\n",
       "        &lt;/script&gt;\n",
       "    \n",
       "    &lt;style&gt;html, body {width: 100%;height: 100%;margin: 0;padding: 0;}&lt;/style&gt;\n",
       "    &lt;style&gt;#map {position:absolute;top:0;bottom:0;right:0;left:0;}&lt;/style&gt;\n",
       "    &lt;script src=&quot;https://cdn.jsdelivr.net/npm/leaflet@1.9.3/dist/leaflet.js&quot;&gt;&lt;/script&gt;\n",
       "    &lt;script src=&quot;https://code.jquery.com/jquery-3.7.1.min.js&quot;&gt;&lt;/script&gt;\n",
       "    &lt;script src=&quot;https://cdn.jsdelivr.net/npm/bootstrap@5.2.2/dist/js/bootstrap.bundle.min.js&quot;&gt;&lt;/script&gt;\n",
       "    &lt;script src=&quot;https://cdnjs.cloudflare.com/ajax/libs/Leaflet.awesome-markers/2.0.2/leaflet.awesome-markers.js&quot;&gt;&lt;/script&gt;\n",
       "    &lt;link rel=&quot;stylesheet&quot; href=&quot;https://cdn.jsdelivr.net/npm/leaflet@1.9.3/dist/leaflet.css&quot;/&gt;\n",
       "    &lt;link rel=&quot;stylesheet&quot; href=&quot;https://cdn.jsdelivr.net/npm/bootstrap@5.2.2/dist/css/bootstrap.min.css&quot;/&gt;\n",
       "    &lt;link rel=&quot;stylesheet&quot; href=&quot;https://netdna.bootstrapcdn.com/bootstrap/3.0.0/css/bootstrap-glyphicons.css&quot;/&gt;\n",
       "    &lt;link rel=&quot;stylesheet&quot; href=&quot;https://cdn.jsdelivr.net/npm/@fortawesome/fontawesome-free@6.2.0/css/all.min.css&quot;/&gt;\n",
       "    &lt;link rel=&quot;stylesheet&quot; href=&quot;https://cdnjs.cloudflare.com/ajax/libs/Leaflet.awesome-markers/2.0.2/leaflet.awesome-markers.css&quot;/&gt;\n",
       "    &lt;link rel=&quot;stylesheet&quot; href=&quot;https://cdn.jsdelivr.net/gh/python-visualization/folium/folium/templates/leaflet.awesome.rotate.min.css&quot;/&gt;\n",
       "    \n",
       "            &lt;meta name=&quot;viewport&quot; content=&quot;width=device-width,\n",
       "                initial-scale=1.0, maximum-scale=1.0, user-scalable=no&quot; /&gt;\n",
       "            &lt;style&gt;\n",
       "                #map_7ad6b7ff4edcfb5a6e1cd84a031fd3ba {\n",
       "                    position: relative;\n",
       "                    width: 100.0%;\n",
       "                    height: 100.0%;\n",
       "                    left: 0.0%;\n",
       "                    top: 0.0%;\n",
       "                }\n",
       "                .leaflet-container { font-size: 1rem; }\n",
       "            &lt;/style&gt;\n",
       "        \n",
       "    &lt;script src=&quot;https://cdn.jsdelivr.net/npm/leaflet.fullscreen@3.0.0/Control.FullScreen.min.js&quot;&gt;&lt;/script&gt;\n",
       "    &lt;link rel=&quot;stylesheet&quot; href=&quot;https://cdn.jsdelivr.net/npm/leaflet.fullscreen@3.0.0/Control.FullScreen.css&quot;/&gt;\n",
       "    &lt;script src=&quot;https://cdnjs.cloudflare.com/ajax/libs/leaflet.draw/1.0.2/leaflet.draw.js&quot;&gt;&lt;/script&gt;\n",
       "    &lt;link rel=&quot;stylesheet&quot; href=&quot;https://cdnjs.cloudflare.com/ajax/libs/leaflet.draw/1.0.2/leaflet.draw.css&quot;/&gt;\n",
       "    &lt;script src=&quot;https://cdn.jsdelivr.net/gh/ljagis/leaflet-measure@2.1.7/dist/leaflet-measure.min.js&quot;&gt;&lt;/script&gt;\n",
       "    &lt;link rel=&quot;stylesheet&quot; href=&quot;https://cdn.jsdelivr.net/gh/ljagis/leaflet-measure@2.1.7/dist/leaflet-measure.min.css&quot;/&gt;\n",
       "    &lt;script src=&quot;https://unpkg.com/leaflet-control-geocoder/dist/Control.Geocoder.js&quot;&gt;&lt;/script&gt;\n",
       "    &lt;link rel=&quot;stylesheet&quot; href=&quot;https://unpkg.com/leaflet-control-geocoder/dist/Control.Geocoder.css&quot;/&gt;\n",
       "    \n",
       "                    &lt;style&gt;\n",
       "                        .foliumtooltip {\n",
       "                            \n",
       "                        }\n",
       "                       .foliumtooltip table{\n",
       "                            margin: auto;\n",
       "                        }\n",
       "                        .foliumtooltip tr{\n",
       "                            text-align: left;\n",
       "                        }\n",
       "                        .foliumtooltip th{\n",
       "                            padding: 2px; padding-right: 8px;\n",
       "                        }\n",
       "                    &lt;/style&gt;\n",
       "            \n",
       "&lt;/head&gt;\n",
       "&lt;body&gt;\n",
       "    \n",
       "    \n",
       "            &lt;div class=&quot;folium-map&quot; id=&quot;map_7ad6b7ff4edcfb5a6e1cd84a031fd3ba&quot; &gt;&lt;/div&gt;\n",
       "        \n",
       "&lt;/body&gt;\n",
       "&lt;script&gt;\n",
       "    \n",
       "    \n",
       "            var map_7ad6b7ff4edcfb5a6e1cd84a031fd3ba = L.map(\n",
       "                &quot;map_7ad6b7ff4edcfb5a6e1cd84a031fd3ba&quot;,\n",
       "                {\n",
       "                    center: [-10.579826000501576, -61.425],\n",
       "                    crs: L.CRS.EPSG3857,\n",
       "                    ...{\n",
       "  &quot;zoom&quot;: 10,\n",
       "  &quot;zoomControl&quot;: true,\n",
       "  &quot;preferCanvas&quot;: false,\n",
       "  &quot;drawExport&quot;: false,\n",
       "  &quot;layersControl&quot;: true,\n",
       "}\n",
       "\n",
       "                }\n",
       "            );\n",
       "            L.control.scale().addTo(map_7ad6b7ff4edcfb5a6e1cd84a031fd3ba);\n",
       "\n",
       "            \n",
       "\n",
       "        \n",
       "    \n",
       "            var tile_layer_bd2112a55ce5d33ae644d248f2142412 = L.tileLayer(\n",
       "                &quot;https://tile.openstreetmap.org/{z}/{x}/{y}.png&quot;,\n",
       "                {\n",
       "  &quot;minZoom&quot;: 0,\n",
       "  &quot;maxZoom&quot;: 24,\n",
       "  &quot;maxNativeZoom&quot;: 24,\n",
       "  &quot;noWrap&quot;: false,\n",
       "  &quot;attribution&quot;: &quot;\\u0026copy; \\u003ca href=\\&quot;https://www.openstreetmap.org/copyright\\&quot;\\u003eOpenStreetMap\\u003c/a\\u003e contributors&quot;,\n",
       "  &quot;subdomains&quot;: &quot;abc&quot;,\n",
       "  &quot;detectRetina&quot;: false,\n",
       "  &quot;tms&quot;: false,\n",
       "  &quot;opacity&quot;: 1,\n",
       "}\n",
       "\n",
       "            );\n",
       "        \n",
       "    \n",
       "            tile_layer_bd2112a55ce5d33ae644d248f2142412.addTo(map_7ad6b7ff4edcfb5a6e1cd84a031fd3ba);\n",
       "        \n",
       "    \n",
       "            L.control.fullscreen(\n",
       "                {\n",
       "  &quot;position&quot;: &quot;topleft&quot;,\n",
       "  &quot;title&quot;: &quot;Full Screen&quot;,\n",
       "  &quot;titleCancel&quot;: &quot;Exit Full Screen&quot;,\n",
       "  &quot;forceSeparateButton&quot;: false,\n",
       "}\n",
       "            ).addTo(map_7ad6b7ff4edcfb5a6e1cd84a031fd3ba);\n",
       "        \n",
       "    \n",
       "            var options = {\n",
       "              position: &quot;topleft&quot;,\n",
       "              draw: {},\n",
       "              edit: {},\n",
       "            }\n",
       "                // FeatureGroup is to store editable layers.\n",
       "                var drawnItems_draw_control_338efa481a0c35b293483de16d81723f =\n",
       "                    new L.featureGroup().addTo(\n",
       "                        map_7ad6b7ff4edcfb5a6e1cd84a031fd3ba\n",
       "                    );\n",
       "\n",
       "            options.edit.featureGroup = drawnItems_draw_control_338efa481a0c35b293483de16d81723f;\n",
       "            var draw_control_338efa481a0c35b293483de16d81723f = new L.Control.Draw(\n",
       "                options\n",
       "            ).addTo( map_7ad6b7ff4edcfb5a6e1cd84a031fd3ba );\n",
       "            map_7ad6b7ff4edcfb5a6e1cd84a031fd3ba.on(L.Draw.Event.CREATED, function(e) {\n",
       "                var layer = e.layer,\n",
       "                    type = e.layerType;\n",
       "                var coords = JSON.stringify(layer.toGeoJSON());\n",
       "                layer.on(&#x27;click&#x27;, function() {\n",
       "                    alert(coords);\n",
       "                    console.log(coords);\n",
       "                });\n",
       "                drawnItems_draw_control_338efa481a0c35b293483de16d81723f.addLayer(layer);\n",
       "            });\n",
       "            map_7ad6b7ff4edcfb5a6e1cd84a031fd3ba.on(&#x27;draw:created&#x27;, function(e) {\n",
       "                drawnItems_draw_control_338efa481a0c35b293483de16d81723f.addLayer(e.layer);\n",
       "            });\n",
       "\n",
       "            \n",
       "        \n",
       "    \n",
       "            var measure_control_228be312af0a231150f10d2df4baa742 = new L.Control.Measure(\n",
       "                {\n",
       "  &quot;position&quot;: &quot;bottomleft&quot;,\n",
       "  &quot;primaryLengthUnit&quot;: &quot;meters&quot;,\n",
       "  &quot;secondaryLengthUnit&quot;: &quot;miles&quot;,\n",
       "  &quot;primaryAreaUnit&quot;: &quot;sqmeters&quot;,\n",
       "  &quot;secondaryAreaUnit&quot;: &quot;acres&quot;,\n",
       "});\n",
       "            map_7ad6b7ff4edcfb5a6e1cd84a031fd3ba.addControl(measure_control_228be312af0a231150f10d2df4baa742);\n",
       "\n",
       "            // Workaround for using this plugin with Leaflet&gt;=1.8.0\n",
       "            // https://github.com/ljagis/leaflet-measure/issues/171\n",
       "            L.Control.Measure.include({\n",
       "                _setCaptureMarkerIcon: function () {\n",
       "                    // disable autopan\n",
       "                    this._captureMarker.options.autoPanOnFocus = false;\n",
       "                    // default function\n",
       "                    this._captureMarker.setIcon(\n",
       "                        L.divIcon({\n",
       "                            iconSize: this._map.getSize().multiplyBy(2)\n",
       "                        })\n",
       "                    );\n",
       "                },\n",
       "            });\n",
       "\n",
       "        \n",
       "    \n",
       "\n",
       "            var geocoderOpts_geocoder_f09b31cf7327a99e42e6ea465c7686e0 = {\n",
       "  &quot;collapsed&quot;: true,\n",
       "  &quot;position&quot;: &quot;topleft&quot;,\n",
       "  &quot;defaultMarkGeocode&quot;: true,\n",
       "  &quot;zoom&quot;: 11,\n",
       "  &quot;provider&quot;: &quot;nominatim&quot;,\n",
       "  &quot;providerOptions&quot;: {\n",
       "},\n",
       "};\n",
       "\n",
       "            // note: geocoder name should start with lowercase\n",
       "            var geocoderName_geocoder_f09b31cf7327a99e42e6ea465c7686e0 = geocoderOpts_geocoder_f09b31cf7327a99e42e6ea465c7686e0[&quot;provider&quot;];\n",
       "\n",
       "            var customGeocoder_geocoder_f09b31cf7327a99e42e6ea465c7686e0 = L.Control.Geocoder[ geocoderName_geocoder_f09b31cf7327a99e42e6ea465c7686e0 ](\n",
       "                geocoderOpts_geocoder_f09b31cf7327a99e42e6ea465c7686e0[&#x27;providerOptions&#x27;]\n",
       "            );\n",
       "            geocoderOpts_geocoder_f09b31cf7327a99e42e6ea465c7686e0[&quot;geocoder&quot;] = customGeocoder_geocoder_f09b31cf7327a99e42e6ea465c7686e0;\n",
       "\n",
       "            L.Control.geocoder(\n",
       "                geocoderOpts_geocoder_f09b31cf7327a99e42e6ea465c7686e0\n",
       "            ).on(&#x27;markgeocode&#x27;, function(e) {\n",
       "                var zoom = geocoderOpts_geocoder_f09b31cf7327a99e42e6ea465c7686e0[&#x27;zoom&#x27;] || map_7ad6b7ff4edcfb5a6e1cd84a031fd3ba.getZoom();\n",
       "                map_7ad6b7ff4edcfb5a6e1cd84a031fd3ba.setView(e.geocode.center, zoom);\n",
       "            }).addTo(map_7ad6b7ff4edcfb5a6e1cd84a031fd3ba);\n",
       "\n",
       "        \n",
       "    \n",
       "            map_7ad6b7ff4edcfb5a6e1cd84a031fd3ba.fitBounds(\n",
       "                [[-10.579826000501576, -61.425], [-10.579826000501576, -61.425]],\n",
       "                {&quot;maxZoom&quot;: 10}\n",
       "            );\n",
       "        \n",
       "    \n",
       "        function geo_json_102c7d1f378ba5427276f5c1f51d5e0a_styler(feature) {\n",
       "            switch(feature.id) {\n",
       "                default:\n",
       "                    return {&quot;clickable&quot;: true, &quot;color&quot;: &quot;yellow&quot;, &quot;fillOpacity&quot;: 0.3, &quot;weight&quot;: 2};\n",
       "            }\n",
       "        }\n",
       "        function geo_json_102c7d1f378ba5427276f5c1f51d5e0a_highlighter(feature) {\n",
       "            switch(feature.id) {\n",
       "                default:\n",
       "                    return {&quot;fillOpacity&quot;: 0, &quot;weight&quot;: 4};\n",
       "            }\n",
       "        }\n",
       "\n",
       "        function geo_json_102c7d1f378ba5427276f5c1f51d5e0a_onEachFeature(feature, layer) {\n",
       "            layer.on({\n",
       "                mouseout: function(e) {\n",
       "                    if(typeof e.target.setStyle === &quot;function&quot;){\n",
       "                            geo_json_102c7d1f378ba5427276f5c1f51d5e0a.resetStyle(e.target);\n",
       "                    }\n",
       "                },\n",
       "                mouseover: function(e) {\n",
       "                    if(typeof e.target.setStyle === &quot;function&quot;){\n",
       "                        const highlightStyle = geo_json_102c7d1f378ba5427276f5c1f51d5e0a_highlighter(e.target.feature)\n",
       "                        e.target.setStyle(highlightStyle);\n",
       "                    }\n",
       "                },\n",
       "            });\n",
       "        };\n",
       "        var geo_json_102c7d1f378ba5427276f5c1f51d5e0a = L.geoJson(null, {\n",
       "                onEachFeature: geo_json_102c7d1f378ba5427276f5c1f51d5e0a_onEachFeature,\n",
       "            \n",
       "                style: geo_json_102c7d1f378ba5427276f5c1f51d5e0a_styler,\n",
       "            ...{\n",
       "}\n",
       "        });\n",
       "\n",
       "        function geo_json_102c7d1f378ba5427276f5c1f51d5e0a_add (data) {\n",
       "            geo_json_102c7d1f378ba5427276f5c1f51d5e0a\n",
       "                .addData(data);\n",
       "        }\n",
       "            geo_json_102c7d1f378ba5427276f5c1f51d5e0a_add({&quot;bbox&quot;: [-61.757376655124226, -10.90655037748293, -61.09262334487577, -10.253101623520225], &quot;features&quot;: [{&quot;bbox&quot;: [-61.757376655124226, -10.90655037748293, -61.09262334487577, -10.253101623520225], &quot;geometry&quot;: {&quot;coordinates&quot;: [[[-61.09262334487577, -10.253101623520225], [-61.09262334487577, -10.90655037748293], [-61.757376655124226, -10.90655037748293], [-61.757376655124226, -10.253101623520225], [-61.09262334487577, -10.253101623520225]]], &quot;type&quot;: &quot;Polygon&quot;}, &quot;id&quot;: &quot;0&quot;, &quot;properties&quot;: {}, &quot;type&quot;: &quot;Feature&quot;}], &quot;type&quot;: &quot;FeatureCollection&quot;});\n",
       "\n",
       "        \n",
       "    \n",
       "    geo_json_102c7d1f378ba5427276f5c1f51d5e0a.bindTooltip(\n",
       "    function(layer){\n",
       "    let div = L.DomUtil.create(&#x27;div&#x27;);\n",
       "    \n",
       "    return div\n",
       "    }\n",
       "    ,{\n",
       "  &quot;sticky&quot;: true,\n",
       "  &quot;className&quot;: &quot;foliumtooltip&quot;,\n",
       "});\n",
       "                     \n",
       "    \n",
       "            geo_json_102c7d1f378ba5427276f5c1f51d5e0a.addTo(map_7ad6b7ff4edcfb5a6e1cd84a031fd3ba);\n",
       "        \n",
       "    \n",
       "            map_7ad6b7ff4edcfb5a6e1cd84a031fd3ba.fitBounds(\n",
       "                [[-10.90655037748293, -61.757376655124226], [-10.253101623520225, -61.09262334487577]],\n",
       "                {}\n",
       "            );\n",
       "        \n",
       "    \n",
       "            var layer_control_22c35b56494b5cada5499410ecb573a1_layers = {\n",
       "                base_layers : {\n",
       "                    &quot;openstreetmap&quot; : tile_layer_bd2112a55ce5d33ae644d248f2142412,\n",
       "                },\n",
       "                overlays :  {\n",
       "                    &quot;test&quot; : geo_json_102c7d1f378ba5427276f5c1f51d5e0a,\n",
       "                },\n",
       "            };\n",
       "            let layer_control_22c35b56494b5cada5499410ecb573a1 = L.control.layers(\n",
       "                layer_control_22c35b56494b5cada5499410ecb573a1_layers.base_layers,\n",
       "                layer_control_22c35b56494b5cada5499410ecb573a1_layers.overlays,\n",
       "                {\n",
       "  &quot;position&quot;: &quot;topright&quot;,\n",
       "  &quot;collapsed&quot;: true,\n",
       "  &quot;autoZIndex&quot;: true,\n",
       "}\n",
       "            ).addTo(map_7ad6b7ff4edcfb5a6e1cd84a031fd3ba);\n",
       "\n",
       "        \n",
       "&lt;/script&gt;\n",
       "&lt;/html&gt;\" width=\"100%\" height=\"600\"style=\"border:none !important;\" \"allowfullscreen\" \"webkitallowfullscreen\" \"mozallowfullscreen\"></iframe>"
      ],
      "text/plain": [
       "<leafmap.foliumap.Map at 0x7fd6d82dbd60>"
      ]
     },
     "execution_count": 44,
     "metadata": {},
     "output_type": "execute_result"
    }
   ],
   "source": [
    "Map = leafmap.Map(center=aoi_gdf.geometry.centroid[0].coords[0][::-1], zoom=10)\n",
    "Map.add_gdf(aoi_gdf, layer_name=\"test\", style={\"color\": \"yellow\", \"fillOpacity\": 0.3, \"clickable\": True,})\n",
    "Map"
   ]
  },
  {
   "cell_type": "markdown",
   "id": "7fe2823a-820f-4850-8498-fa11c21c44a2",
   "metadata": {},
   "source": [
    "__Search Sentinel-2 Satellite Data for given Geometry__"
   ]
  },
  {
   "cell_type": "code",
   "execution_count": 45,
   "id": "ee9bf51b-86ee-46ba-829f-73bced1045c7",
   "metadata": {
    "tags": []
   },
   "outputs": [],
   "source": [
    "def search_sentinel2_collection(start_date, end_date, aoi_geometry,max_cloud=100):\n",
    "    \"\"\"\n",
    "    Search Sentinel 2 data collection for target_date\n",
    "    and collect results including meta data in a dictionary.\n",
    "    This function uses the PySTAC client\n",
    "    \"\"\"\n",
    "    client = pystac_client.Client.open(\"https://earth-search.aws.element84.com/v1\")\n",
    "    collection = \"sentinel-2-l2a\"\n",
    "    \n",
    "    search = client.search(\n",
    "        collections=[collection],\n",
    "        query = {\"eo:cloud_cover\":{\"lt\":max_cloud}},\n",
    "        intersects=aoi_geometry.to_crs(\"EPSG:4326\").geometry[0].__geo_interface__, \n",
    "        datetime=f\"{start_date}/{end_date}\"\n",
    "    )\n",
    "    \n",
    "    s2_items = []\n",
    "    for item in search.items_as_dicts():\n",
    "        s2_items.append(item)\n",
    "        \n",
    "    return s2_items"
   ]
  },
  {
   "cell_type": "code",
   "execution_count": 46,
   "id": "dc8c6aa3-a100-49b1-b4ee-426a7954ee5a",
   "metadata": {
    "tags": []
   },
   "outputs": [],
   "source": [
    "#search parameters\n",
    "analysis_start_date=pd.to_datetime(\"2023-01-01T00:00:00Z\").date()\n",
    "analysis_end_date=pd.to_datetime(\"2025-02-28T23:59:59Z\").date()\n",
    "aoi_geometry = aoi_gdf.geometry"
   ]
  },
  {
   "cell_type": "code",
   "execution_count": 47,
   "id": "7914188f-414e-44f6-bbbd-acc36c5b9096",
   "metadata": {
    "tags": []
   },
   "outputs": [],
   "source": [
    "sentinel2_items = search_sentinel2_collection(\n",
    "    start_date=analysis_start_date,\n",
    "    end_date=analysis_end_date,\n",
    "    aoi_geometry = aoi_geometry,\n",
    "    max_cloud=15\n",
    ")"
   ]
  },
  {
   "cell_type": "code",
   "execution_count": 48,
   "id": "523d0c8e-d7b7-472e-8461-00c609c3d48f",
   "metadata": {
    "tags": []
   },
   "outputs": [
    {
     "name": "stdout",
     "output_type": "stream",
     "text": [
      "Total Sentinel-2 items found: 281\n"
     ]
    }
   ],
   "source": [
    "print(\"Total Sentinel-2 items found:\", len(sentinel2_items))"
   ]
  },
  {
   "cell_type": "markdown",
   "id": "53abc5cd-1d1d-4284-97be-efc481a29278",
   "metadata": {},
   "source": [
    "__Create the Input Files for the Processing Job__\n",
    "\n",
    "We will create 2 types of files here:\n",
    "1. One file per selected Sentinel-2 scene with all metadata. Seperating scenes into individual files makes sharding for distributed training easy using the `ShardedByS3Key` distribution strategy.\n",
    "2. A single file with the geometry of the MGRS grid in scope"
   ]
  },
  {
   "cell_type": "code",
   "execution_count": 49,
   "id": "2a96d8d9-e9c6-459e-a8f9-befcffc55cc0",
   "metadata": {
    "tags": []
   },
   "outputs": [],
   "source": [
    "bucket_prefix_sentinel2_meta = f\"processing/{aoi_name}/input/sentinel2_scenes\"\n",
    "bucket_prefix_aoi = f\"processing/{aoi_name}/input/aoi\""
   ]
  },
  {
   "cell_type": "markdown",
   "id": "43da43e1-3ac4-44a4-a9d0-8a783cc5642b",
   "metadata": {},
   "source": [
    "__Generate and upload Sentinel-2 Tile Metadata Files to S3__"
   ]
  },
  {
   "cell_type": "code",
   "execution_count": 50,
   "id": "a1d97da4-b276-4c8c-9cf5-fd9333df31d5",
   "metadata": {
    "tags": []
   },
   "outputs": [
    {
     "data": {
      "text/plain": [
       "tile_id\n",
       "20LPN    98\n",
       "20LPP    91\n",
       "20LQN    46\n",
       "20LQP    46\n",
       "Name: id, dtype: int64"
      ]
     },
     "execution_count": 50,
     "metadata": {},
     "output_type": "execute_result"
    }
   ],
   "source": [
    "#let's review tile ids and their prevalence\n",
    "s2_search_results = pd.DataFrame(sentinel2_items)\n",
    "s2_search_results[\"tile_id\"] = s2_search_results[\"id\"].apply(lambda x: x.split(\"_\")[1])\n",
    "s2_search_results.groupby([\"tile_id\"]).count()[\"id\"]"
   ]
  },
  {
   "cell_type": "code",
   "execution_count": 51,
   "id": "53c6948b-2570-409e-9f26-d54a0f6d2964",
   "metadata": {
    "tags": []
   },
   "outputs": [
    {
     "name": "stdout",
     "output_type": "stream",
     "text": [
      "Scenes in scope: 83\n"
     ]
    }
   ],
   "source": [
    "#limit to one tile ID only\n",
    "tile_id=\"20LPP\" # Use one tile_id from previous cell\n",
    "\n",
    "manifest_file = [i for i in sentinel2_items if tile_id in i[\"id\"]]\n",
    "#limit to one processing level only\n",
    "processing_level=\"_0_\"\n",
    "manifest_file = [i for i in manifest_file if processing_level in i[\"id\"]]\n",
    "print(\"Scenes in scope:\",len(manifest_file))"
   ]
  },
  {
   "cell_type": "code",
   "execution_count": 52,
   "id": "55ddc14e-e81f-4b11-a3d9-a117793fbb48",
   "metadata": {
    "scrolled": true,
    "tags": []
   },
   "outputs": [],
   "source": [
    "#save manifest files to S3\n",
    "for s in manifest_file:\n",
    "    file_name = \"{}_metadata.json\".format(s[\"id\"])\n",
    "    response = s3_client.put_object(Body=(bytes(json.dumps(s, default=str).encode('UTF-8'))),\n",
    "                                    Bucket=bucket_name, Key=f\"{bucket_prefix_sentinel2_meta}/{file_name}\")"
   ]
  },
  {
   "cell_type": "code",
   "execution_count": 53,
   "id": "77897235-9b0d-43ea-bfde-f4f61065faf7",
   "metadata": {
    "tags": []
   },
   "outputs": [
    {
     "data": {
      "text/html": [
       "<pre style=\"white-space:pre;overflow-x:auto;line-height:normal;font-family:Menlo,'DejaVu Sans Mono',consolas,'Courier New',monospace\"><span style=\"color: #7fbfbf; text-decoration-color: #7fbfbf\">[03/19/25 13:36:36] </span><span style=\"color: #0069ff; text-decoration-color: #0069ff; font-weight: bold\">INFO    </span> Created <span style=\"color: #008080; text-decoration-color: #008080; font-weight: bold\">1</span> records                                                           <a href=\"file:///home/ec2-user/anaconda3/envs/python3/lib/python3.10/site-packages/pyogrio/raw.py\" target=\"_blank\"><span style=\"color: #7f7f7f; text-decoration-color: #7f7f7f\">raw.py</span></a><span style=\"color: #7f7f7f; text-decoration-color: #7f7f7f\">:</span><a href=\"file:///home/ec2-user/anaconda3/envs/python3/lib/python3.10/site-packages/pyogrio/raw.py#723\" target=\"_blank\"><span style=\"color: #7f7f7f; text-decoration-color: #7f7f7f\">723</span></a>\n",
       "</pre>\n"
      ],
      "text/plain": [
       "\u001b[2;36m[03/19/25 13:36:36]\u001b[0m\u001b[2;36m \u001b[0m\u001b[1;38;2;0;105;255mINFO    \u001b[0m Created \u001b[1;36m1\u001b[0m records                                                           \u001b]8;id=459041;file:///home/ec2-user/anaconda3/envs/python3/lib/python3.10/site-packages/pyogrio/raw.py\u001b\\\u001b[2mraw.py\u001b[0m\u001b]8;;\u001b\\\u001b[2m:\u001b[0m\u001b]8;id=291098;file:///home/ec2-user/anaconda3/envs/python3/lib/python3.10/site-packages/pyogrio/raw.py#723\u001b\\\u001b[2m723\u001b[0m\u001b]8;;\u001b\\\n"
      ]
     },
     "metadata": {},
     "output_type": "display_data"
    }
   ],
   "source": [
    "#save aoi geojson to S3\n",
    "s3_destination_aoi = f\"s3://{bucket_name}/{bucket_prefix_aoi}/aoi.geojson\"\n",
    "aoi_gdf.to_file(s3_destination_aoi,driver='GeoJSON')"
   ]
  },
  {
   "cell_type": "markdown",
   "id": "eba6e77e-8061-44cd-92d1-532b1e8397a5",
   "metadata": {},
   "source": [
    "## Step 1: Pre-Process Satellite Imagery\n",
    "\n",
    "- Divides satellite tiles into n×n pixel chips\n",
    "- Generates NetCDF datacubes (`.netcdf`) and PNG thumbnails (`.png` ) per each chip\n",
    "- Creates metadata in Parquet format (`.parquet`)\n",
    "- Distribution strategy: by Sentinel-2 tile id (e.g., `S2A_20LPP_20220606_0_L2A`)"
   ]
  },
  {
   "cell_type": "markdown",
   "id": "27b08f63-6ff0-466d-8b94-4cc0668b2f87",
   "metadata": {},
   "source": [
    "##### Input structure\n",
    "\n",
    "    processing/\n",
    "    └── <aoi_name>/\n",
    "        └── input/\n",
    "        ├── sentinel2_scenes/\n",
    "            └── <s2_scene_id>_metadata.json\n",
    "            └── <s2_scene_id>_metadata.json\n",
    "            └── ...\n",
    "\n",
    "##### Output structure\n",
    "\n",
    "    output/\n",
    "    └── <aoi_name>/\n",
    "        ├── meta/\n",
    "        │   ├── <s2_scene_id>_chip_meta.parquet\n",
    "        │   └── ...\n",
    "        ├── raw-chips/\n",
    "        │   └── <s2_product_level>/\n",
    "        │       └── <MGRS_grid>/\n",
    "        │           └── <year>/\n",
    "        │               └── <month>/\n",
    "        │                   └── <s2_scene_id>_<chip_size>_chipped_<x_dim>_<y_dim>.nc\n",
    "        └── rgb-imgs/\n",
    "        └── <s2_product_level>/\n",
    "                └── <MGRS_grid>/\n",
    "                    └── <year>/\n",
    "                    └── <month>/\n",
    "                            └── <s2_scene_id>_<chip_size>_rgb_thumbnail_<x_dim>_<y_dim>.png"
   ]
  },
  {
   "cell_type": "markdown",
   "id": "6a787e19-dab3-4da8-9608-ceefc35075c0",
   "metadata": {},
   "source": [
    "__Define Processing Job and Pipeline Step__"
   ]
  },
  {
   "cell_type": "code",
   "execution_count": 54,
   "id": "b0945c7a-dc35-42fe-b5d9-6858a753477a",
   "metadata": {
    "tags": []
   },
   "outputs": [],
   "source": [
    "#arguments\n",
    "s3_destination_chips = f\"s3://{bucket_name}/output/{aoi_name}/raw-chips/\"\n",
    "s3_destination_imgs = f\"s3://{bucket_name}/output/{aoi_name}/rgb-imgs/\"\n",
    "s3_destination_meta = f\"s3://{bucket_name}/output/{aoi_name}/meta/\"\n",
    "s3_destination_embeddings = f\"s3://{bucket_name}/output/{aoi_name}/embeddings/\"\n",
    "s3_destination_chip_ids = f\"s3://{bucket_name}/output/{aoi_name}/unique-chip-ids/{tile_id}/\"\n",
    "s3_destination_embeddings_processed = f\"s3://{bucket_name}/output/{aoi_name}/processed-embeddings/{tile_id}/\"\n",
    "s3_destination_consolidated_output = f's3://{bucket_name}/output/{aoi_name}/consolidated-output/{tile_id}/'\n",
    "s3_destination_lance_db = f's3://{bucket_name}/output/{aoi_name}/lance-db/'"
   ]
  },
  {
   "cell_type": "code",
   "execution_count": 55,
   "id": "7fddd819-2a7d-40b1-9f6e-2f770443b1d6",
   "metadata": {
    "tags": []
   },
   "outputs": [],
   "source": [
    "bucket_name_param = ParameterString(name=\"BucketName\", default_value=str(bucket_name))\n",
    "env_name_param = ParameterString(name=\"EnvName\", default_value=str(env_name))\n",
    "s2_processing_lvl_param = ParameterString(name=\"S2ProcessingLevel\", default_value=\"l2a\")\n",
    "aoi_name_param = ParameterString(name=\"AoiName\", default_value=str(aoi_name))\n",
    "s2_grid_id_param = ParameterString(name=\"GridId\", default_value=str(tile_id))\n",
    "chip_size_param = ParameterString(name=\"ChipSize\", default_value=str(256))\n",
    "geo_proc_image_uri_param = ParameterString(name=\"GeoProcImageURI\", default_value=str(geo_processing_cpu_img))\n",
    "geofm_emb_gen_image_uri_param = ParameterString(name=\"GeoFMEmbeddingImageURI\", default_value=str(geofm_embedding_gpu_img))\n",
    "raw_processing_instance_count_param = ParameterInteger(name=\"RawProcessingInstanceCount\",default_value=10)\n",
    "emb_generation_instance_count_param = ParameterInteger(name=\"EmbeddingGenerationInstanceCount\",default_value=5)\n",
    "emb_processing_instance_count_param = ParameterInteger(name=\"EmbeddingProcessingInstanceCount\",default_value=10)"
   ]
  },
  {
   "cell_type": "code",
   "execution_count": 56,
   "id": "a26bb545-8b4f-4a88-9bb7-ab07fe093a06",
   "metadata": {
    "tags": []
   },
   "outputs": [],
   "source": [
    "role = get_execution_role()\n",
    "cache_config = CacheConfig(\n",
    "    enable_caching=True,\n",
    "    expire_after=\"30d\"  # Cache expires after 30 days\n",
    ")"
   ]
  },
  {
   "cell_type": "code",
   "execution_count": 57,
   "id": "7d832a8b-10b3-4bb0-85e9-3e82b63e969c",
   "metadata": {
    "tags": []
   },
   "outputs": [],
   "source": [
    "preprocess_s2_tile = ScriptProcessor(\n",
    "    command=['python3'],\n",
    "    image_uri=geo_proc_image_uri_param, # geo_processing_cpu_img,\n",
    "    role=role,\n",
    "    instance_count=raw_processing_instance_count_param,\n",
    "    instance_type='ml.m5.4xlarge',\n",
    "    volume_size_in_gb=50\n",
    ")"
   ]
  },
  {
   "cell_type": "code",
   "execution_count": 58,
   "id": "93914929-c3fb-4fbb-a3f1-215839496d77",
   "metadata": {
    "tags": []
   },
   "outputs": [],
   "source": [
    "pipeline_step_1 = ProcessingStep(\n",
    "    name=\"GeoPreprocessingStep\",\n",
    "    processor=preprocess_s2_tile,\n",
    "    inputs=[       \n",
    "        ProcessingInput(\n",
    "            source=f\"s3://{bucket_name}/{bucket_prefix_sentinel2_meta}/\",\n",
    "            destination='/opt/ml/processing/input/sentinel2_meta/',\n",
    "            s3_data_distribution_type=\"ShardedByS3Key\"\n",
    "        ),\n",
    "    ],\n",
    "    outputs=[\n",
    "        ProcessingOutput(\n",
    "            source='/opt/ml/processing/output/chips/',\n",
    "            destination=s3_destination_chips\n",
    "        ),\n",
    "        ProcessingOutput(\n",
    "            source='/opt/ml/processing/output/imgs/',\n",
    "            destination=s3_destination_imgs\n",
    "        ),\n",
    "        ProcessingOutput(\n",
    "            source='/opt/ml/processing/output/meta/',\n",
    "            destination=s3_destination_meta\n",
    "        )\n",
    "    ],\n",
    "    job_arguments=[\n",
    "        \"--S2_PROCESSING_LEVEL\", s2_processing_lvl_param,\n",
    "        \"--AOI_NAME\", aoi_name_param,\n",
    "        \"--CHIP_SIZE\", chip_size_param,\n",
    "        \"--S3_DESTINATION_PATH_CHIPS\", s3_destination_chips,\n",
    "        \"--S3_DESTINATION_PATH_IMGS\", s3_destination_imgs,\n",
    "        \"--S3_DESTINATION_PATH_META\", s3_destination_meta],\n",
    "    code='scripts/preprocess_s2_tile.py',\n",
    "    cache_config=cache_config\n",
    ")"
   ]
  },
  {
   "cell_type": "markdown",
   "id": "7d2a0a7c-7afa-4d84-8e65-84bbd13c9965",
   "metadata": {},
   "source": [
    "## Step 2: Generate Embeddings\n",
    "\n",
    "- Generates patch and class embeddings per each chip\n",
    "- Uses a pre-trained geospatial embedding models (Clay_v1) hosted on HuggingFace\n",
    "- Stores embeddings as NumPy arrays (`.npy`)\n",
    "- Tracks file paths of generated embedding vectors by updating the metadata `.parquet` on S3\n",
    "- Generates a simple text file (`.txt`) per each unique step. These files are used for distribution in later pipeline steps.\n",
    "- Distribution strategy: by Sentinel-2 tile id (e.g., `S2A_20LPP_20220606_0_L2A`)"
   ]
  },
  {
   "cell_type": "markdown",
   "id": "65913cbd-cd0a-4926-a324-221a37ed0124",
   "metadata": {
    "tags": []
   },
   "source": [
    "##### Output structure\n",
    "\n",
    "\n",
    "      output/\n",
    "      └── <aoi_name>/\n",
    "         ├── meta/\n",
    "         │   └── <s2_scene_id>_chip_meta.parquet\n",
    "         ├── embeddings/\n",
    "         │   └── <s2_product_level>/\n",
    "         │       └── <MGRS_grid>/\n",
    "         │           └── <year>/\n",
    "         │               └── <month>/\n",
    "         │                   ├── <s2_scene_id>_<chip_size>_chip_cls_embeddings_<bands>_<x_dim>_<y_dim>.npy\n",
    "         │                   └── <s2_scene_id>_<chip_size>_chip_patch_embeddings_<bands>_<x_dim>_<y_dim>.npy\n",
    "         └── unique-chip-ids/\n",
    "            └── <MGRS_grid>/\n",
    "                  └── <x_dim>_<y_dim>.txt\n"
   ]
  },
  {
   "cell_type": "code",
   "execution_count": 59,
   "id": "86685f30-1bf7-47f3-ac9a-88c62df527b7",
   "metadata": {
    "tags": []
   },
   "outputs": [],
   "source": [
    "batch_size_param = ParameterString(name=\"BatchSize\", default_value=str(32))\n",
    "s2_bands_param = ParameterString(name=\"S2Bands\", default_value=str(\"red_green_blue_nir\")) #bands to use for emebedding generation; ,nir08,rededge1,rededge2,rededge3,swir16,swir22"
   ]
  },
  {
   "cell_type": "code",
   "execution_count": 60,
   "id": "ea473e75-63c3-42be-80b9-e59fcbc44fb5",
   "metadata": {
    "tags": []
   },
   "outputs": [],
   "source": [
    "role = get_execution_role()\n",
    "\n",
    "embedding_gen_processor = ScriptProcessor(\n",
    "    command=['python3'],\n",
    "    image_uri=geofm_emb_gen_image_uri_param,\n",
    "    role=role,\n",
    "    instance_count=emb_generation_instance_count_param,\n",
    "    instance_type='ml.g5.xlarge',\n",
    "    volume_size_in_gb=50\n",
    ")"
   ]
  },
  {
   "cell_type": "code",
   "execution_count": 61,
   "id": "d5280238-ccd4-46d8-a5fb-c48f5f584ba8",
   "metadata": {
    "tags": []
   },
   "outputs": [],
   "source": [
    "pipeline_step_2 = ProcessingStep(\n",
    "    name=\"EmbeddingGenerationStep\",\n",
    "    processor=embedding_gen_processor,\n",
    "    inputs=[\n",
    "         ProcessingInput( \n",
    "             source=s3_destination_meta,\n",
    "             destination='/opt/ml/processing/input/meta',\n",
    "             s3_data_distribution_type=\"ShardedByS3Key\",\n",
    "         )\n",
    "    ],\n",
    "    outputs=[\n",
    "            ProcessingOutput(\n",
    "                source='/opt/ml/processing/output/meta',\n",
    "                destination=s3_destination_meta\n",
    "            ),\n",
    "            ProcessingOutput(\n",
    "                        source='/opt/ml/processing/output/chip_ids',\n",
    "                        destination=s3_destination_chip_ids\n",
    "                    )],\n",
    "    job_arguments=['--BUCKET_NAME', bucket_name_param, \n",
    "               '--AOI_NAME',aoi_name_param,\n",
    "               '--CHIP_SIZE',chip_size_param,\n",
    "               '--BATCH_SIZE',batch_size_param,\n",
    "               '--S2_BANDS',s2_bands_param,                     \n",
    "               '--MAX_CLOUD_COVER_PERC','1.0', #retain, even if there are clouds! \n",
    "              ],\n",
    "    code='scripts/generate_embeddings.py',\n",
    "    depends_on=[pipeline_step_1],\n",
    "    cache_config=cache_config\n",
    ")"
   ]
  },
  {
   "cell_type": "markdown",
   "id": "5bfc76c9-87c9-447b-9f17-1080dc5efd4f",
   "metadata": {},
   "source": [
    "## Step 3: Process Embedding Vectors\n",
    "\n",
    "- Runs dimensionality reduction on the patch or class embedding vector (if distributed processing is used these will be run on a subsample of the full dataset)\n",
    "- Per each chip: computes cosine similarity over time versus a baseline date (the first date in the series)\n",
    "- Distribution strategy: by chip_id (e.g., `12_25`)"
   ]
  },
  {
   "cell_type": "markdown",
   "id": "36ff78ad-aeba-4536-bb15-65d49529c0bf",
   "metadata": {
    "tags": []
   },
   "source": [
    "##### Output structure\n",
    "\n",
    "```\n",
    "output/\n",
    "└── <aoi_name>/\n",
    "      └── processed-embeddings/\n",
    "      └── <MGRS_grid>/\n",
    "            └── <x_dim>_<y_dim>_processed_embeddings.parquet\n",
    "```"
   ]
  },
  {
   "cell_type": "code",
   "execution_count": 62,
   "id": "dc44498f-d2be-4cc8-bd6a-188f06bbaf10",
   "metadata": {
    "tags": []
   },
   "outputs": [],
   "source": [
    "import sagemaker\n",
    "from sagemaker import get_execution_role\n",
    "from sagemaker.sklearn.processing import ScriptProcessor\n",
    "from sagemaker.processing import ProcessingInput, ProcessingOutput\n",
    "\n",
    "region = sagemaker.Session().boto_region_name\n",
    "role = get_execution_role()\n",
    "\n",
    "\n",
    "embedding_proc_processor = ScriptProcessor(\n",
    "    command=['python3'],\n",
    "    image_uri=geo_proc_image_uri_param,\n",
    "    role=role,\n",
    "    instance_count=emb_processing_instance_count_param,\n",
    "    instance_type='ml.m5.24xlarge',\n",
    "    volume_size_in_gb=250\n",
    ")"
   ]
  },
  {
   "cell_type": "code",
   "execution_count": 63,
   "id": "73fb0fdf-25b9-47d8-aa60-1df9d0bae1e8",
   "metadata": {
    "tags": []
   },
   "outputs": [],
   "source": [
    "pipeline_step_3 = ProcessingStep(\n",
    "    name=\"EmbeddingProcessingStep\",\n",
    "    processor=embedding_proc_processor,\n",
    "    inputs=[\n",
    "         ProcessingInput( \n",
    "             source=s3_destination_meta,\n",
    "             destination='/opt/ml/processing/input/meta',\n",
    "             s3_data_distribution_type=\"FullyReplicated\",\n",
    "         ),\n",
    "        ProcessingInput( \n",
    "             source=s3_destination_chip_ids,\n",
    "             destination='/opt/ml/processing/input/chip_ids',\n",
    "             s3_data_distribution_type=\"ShardedByS3Key\", #shard by chip_id\n",
    "         )\n",
    "    ],\n",
    "    outputs=[\n",
    "            ProcessingOutput(\n",
    "                source='/opt/ml/processing/output/',\n",
    "                destination=s3_destination_embeddings_processed\n",
    "            )],\n",
    "    job_arguments=[\"--BUCKET_NAME\", bucket_name_param,\n",
    "                   \"--AOI_NAME\", aoi_name_param,\n",
    "                   \"--EMBEDDING_TYPE\",str(\"patch\"),\n",
    "                   \"--CHIP_MAX_CLOUD\",str(1.0),\n",
    "                  ],\n",
    "    code='scripts/run_chip_temporal_analysis.py',\n",
    "    depends_on=[pipeline_step_2],\n",
    "    cache_config=cache_config\n",
    ")"
   ]
  },
  {
   "cell_type": "markdown",
   "id": "d0158bf4-3935-42b1-8c64-f61ab3d116d4",
   "metadata": {},
   "source": [
    "## Step 4: Consolidate Outputs\n",
    "\n",
    "- Consolidates processed embedding `.parquet` files into a single results file per Sentinel-2 grid ID (i.e., MGRS grid) and loads vectors and metadata into a [LanceDB](https://lancedb.github.io/lancedb/) vector database. Also generates `.geojson` files that contain chips to be used as an overlay in the frontend.\n",
    "- Distribution strategy: none"
   ]
  },
  {
   "cell_type": "markdown",
   "id": "fdec1966",
   "metadata": {},
   "source": [
    "##### Output structure\n",
    "\n",
    "```\n",
    "output/\n",
    "└── <aoi_name>/\n",
    "      └── consolidated-output/\n",
    "      └── <MGRS_grid>/\n",
    "            └── consolidated_output.parquet\n",
    "            └── chip_grid_aoi.geojson\n",
    "            └── chip_grid_full_s2_tile.geojson\n",
    "            └── config_<aoi_name>.json\n",
    "      └── lance-db/\n",
    "      └── vector_db.lance\n",
    "```"
   ]
  },
  {
   "cell_type": "code",
   "execution_count": 64,
   "id": "35f97406-7c50-470f-95d6-285d8449c7df",
   "metadata": {
    "tags": []
   },
   "outputs": [],
   "source": [
    "import sagemaker\n",
    "from sagemaker import get_execution_role\n",
    "from sagemaker.sklearn.processing import ScriptProcessor\n",
    "from sagemaker.processing import ProcessingInput, ProcessingOutput\n",
    "\n",
    "region = sagemaker.Session().boto_region_name\n",
    "role = get_execution_role()\n",
    "\n",
    "consolidation_processor = ScriptProcessor(\n",
    "    command=['python3'],\n",
    "    image_uri=geo_proc_image_uri_param,\n",
    "    role=role,\n",
    "    instance_count=1,\n",
    "    instance_type='ml.m5.4xlarge',\n",
    "    volume_size_in_gb=50\n",
    ")"
   ]
  },
  {
   "cell_type": "code",
   "execution_count": 65,
   "id": "daac8e74-9b1d-4eb7-a573-37fc4607ae8b",
   "metadata": {
    "tags": []
   },
   "outputs": [],
   "source": [
    "pipeline_step_4 = ProcessingStep(\n",
    "    name=\"ResultsConsolidationandVectorDBLoadStep\",\n",
    "    processor=consolidation_processor,\n",
    "    inputs=[\n",
    "         ProcessingInput( \n",
    "             source=s3_destination_embeddings_processed,\n",
    "             destination='/opt/ml/processing/input/embeddings',\n",
    "             s3_data_distribution_type=\"FullyReplicated\",\n",
    "         ),\n",
    "        ProcessingInput(\n",
    "            source=s3_destination_meta,\n",
    "            destination='/opt/ml/processing/input/meta',\n",
    "            s3_data_distribution_type=\"FullyReplicated\",),\n",
    "        ProcessingInput(\n",
    "            source=s3_destination_aoi,\n",
    "            destination='/opt/ml/processing/input/aoi',\n",
    "            s3_data_distribution_type=\"FullyReplicated\",),\n",
    "    ],\n",
    "    outputs=[\n",
    "            ProcessingOutput(\n",
    "                source='/opt/ml/processing/output',\n",
    "                destination=s3_destination_consolidated_output              \n",
    "            )],    \n",
    "    job_arguments=[\"--LANCEDB_URI\", s3_destination_lance_db,\n",
    "                   \"--AOI_NAME\", aoi_name_param,\n",
    "                   \"--S2_TILE_ID\",s2_grid_id_param,\n",
    "                   \"--BUCKET_NAME\",bucket_name_param,\n",
    "                   \"--ENV_NAME\", env_name_param,\n",
    "                   \"--ACCOUNT_ID\", account_number,\n",
    "                   \"--REGION\", region,\n",
    "                  ],\n",
    "    code='scripts/consolidate.py',\n",
    "    depends_on=[pipeline_step_3],\n",
    "    cache_config=cache_config\n",
    ")"
   ]
  },
  {
   "cell_type": "markdown",
   "id": "8e4f47a9-c56b-4d7b-aa62-a92a185d05e0",
   "metadata": {},
   "source": [
    "## Define Pipeline"
   ]
  },
  {
   "cell_type": "markdown",
   "id": "e74469e4-acbd-47f2-8c3f-55707c5b6a7b",
   "metadata": {},
   "source": [
    "Initialize the pipeline"
   ]
  },
  {
   "cell_type": "code",
   "execution_count": 66,
   "id": "afc5708a-cb1c-4856-be0a-c23dfe54c4f4",
   "metadata": {
    "tags": []
   },
   "outputs": [
    {
     "data": {
      "text/html": [
       "<pre style=\"white-space:pre;overflow-x:auto;line-height:normal;font-family:Menlo,'DejaVu Sans Mono',consolas,'Courier New',monospace\"><span style=\"color: #7fbfbf; text-decoration-color: #7fbfbf\">[03/19/25 13:37:00] </span><span style=\"color: #d7af00; text-decoration-color: #d7af00; font-weight: bold\">WARNING </span> Popping out <span style=\"color: #008700; text-decoration-color: #008700\">'ProcessingJobName'</span> from the pipeline definition by       <a href=\"file:///home/ec2-user/anaconda3/envs/python3/lib/python3.10/site-packages/sagemaker/workflow/utilities.py\" target=\"_blank\"><span style=\"color: #7f7f7f; text-decoration-color: #7f7f7f\">utilities.py</span></a><span style=\"color: #7f7f7f; text-decoration-color: #7f7f7f\">:</span><a href=\"file:///home/ec2-user/anaconda3/envs/python3/lib/python3.10/site-packages/sagemaker/workflow/utilities.py#465\" target=\"_blank\"><span style=\"color: #7f7f7f; text-decoration-color: #7f7f7f\">465</span></a>\n",
       "<span style=\"color: #7fbfbf; text-decoration-color: #7fbfbf\">                    </span>         default since it will be overridden at pipeline execution time.       <span style=\"color: #7f7f7f; text-decoration-color: #7f7f7f\">                </span>\n",
       "<span style=\"color: #7fbfbf; text-decoration-color: #7fbfbf\">                    </span>         Please utilize the PipelineDefinitionConfig to persist this field in  <span style=\"color: #7f7f7f; text-decoration-color: #7f7f7f\">                </span>\n",
       "<span style=\"color: #7fbfbf; text-decoration-color: #7fbfbf\">                    </span>         the pipeline definition if desired.                                   <span style=\"color: #7f7f7f; text-decoration-color: #7f7f7f\">                </span>\n",
       "</pre>\n"
      ],
      "text/plain": [
       "\u001b[2;36m[03/19/25 13:37:00]\u001b[0m\u001b[2;36m \u001b[0m\u001b[1;38;2;215;175;0mWARNING \u001b[0m Popping out \u001b[38;2;0;135;0m'ProcessingJobName'\u001b[0m from the pipeline definition by       \u001b]8;id=67112;file:///home/ec2-user/anaconda3/envs/python3/lib/python3.10/site-packages/sagemaker/workflow/utilities.py\u001b\\\u001b[2mutilities.py\u001b[0m\u001b]8;;\u001b\\\u001b[2m:\u001b[0m\u001b]8;id=200101;file:///home/ec2-user/anaconda3/envs/python3/lib/python3.10/site-packages/sagemaker/workflow/utilities.py#465\u001b\\\u001b[2m465\u001b[0m\u001b]8;;\u001b\\\n",
       "\u001b[2;36m                    \u001b[0m         default since it will be overridden at pipeline execution time.       \u001b[2m                \u001b[0m\n",
       "\u001b[2;36m                    \u001b[0m         Please utilize the PipelineDefinitionConfig to persist this field in  \u001b[2m                \u001b[0m\n",
       "\u001b[2;36m                    \u001b[0m         the pipeline definition if desired.                                   \u001b[2m                \u001b[0m\n"
      ]
     },
     "metadata": {},
     "output_type": "display_data"
    },
    {
     "data": {
      "text/html": [
       "<pre style=\"white-space:pre;overflow-x:auto;line-height:normal;font-family:Menlo,'DejaVu Sans Mono',consolas,'Courier New',monospace\"><span style=\"color: #7fbfbf; text-decoration-color: #7fbfbf\">                    </span><span style=\"color: #d7af00; text-decoration-color: #d7af00; font-weight: bold\">WARNING </span> Popping out <span style=\"color: #008700; text-decoration-color: #008700\">'ProcessingJobName'</span> from the pipeline definition by       <a href=\"file:///home/ec2-user/anaconda3/envs/python3/lib/python3.10/site-packages/sagemaker/workflow/utilities.py\" target=\"_blank\"><span style=\"color: #7f7f7f; text-decoration-color: #7f7f7f\">utilities.py</span></a><span style=\"color: #7f7f7f; text-decoration-color: #7f7f7f\">:</span><a href=\"file:///home/ec2-user/anaconda3/envs/python3/lib/python3.10/site-packages/sagemaker/workflow/utilities.py#465\" target=\"_blank\"><span style=\"color: #7f7f7f; text-decoration-color: #7f7f7f\">465</span></a>\n",
       "<span style=\"color: #7fbfbf; text-decoration-color: #7fbfbf\">                    </span>         default since it will be overridden at pipeline execution time.       <span style=\"color: #7f7f7f; text-decoration-color: #7f7f7f\">                </span>\n",
       "<span style=\"color: #7fbfbf; text-decoration-color: #7fbfbf\">                    </span>         Please utilize the PipelineDefinitionConfig to persist this field in  <span style=\"color: #7f7f7f; text-decoration-color: #7f7f7f\">                </span>\n",
       "<span style=\"color: #7fbfbf; text-decoration-color: #7fbfbf\">                    </span>         the pipeline definition if desired.                                   <span style=\"color: #7f7f7f; text-decoration-color: #7f7f7f\">                </span>\n",
       "</pre>\n"
      ],
      "text/plain": [
       "\u001b[2;36m                   \u001b[0m\u001b[2;36m \u001b[0m\u001b[1;38;2;215;175;0mWARNING \u001b[0m Popping out \u001b[38;2;0;135;0m'ProcessingJobName'\u001b[0m from the pipeline definition by       \u001b]8;id=257149;file:///home/ec2-user/anaconda3/envs/python3/lib/python3.10/site-packages/sagemaker/workflow/utilities.py\u001b\\\u001b[2mutilities.py\u001b[0m\u001b]8;;\u001b\\\u001b[2m:\u001b[0m\u001b]8;id=732352;file:///home/ec2-user/anaconda3/envs/python3/lib/python3.10/site-packages/sagemaker/workflow/utilities.py#465\u001b\\\u001b[2m465\u001b[0m\u001b]8;;\u001b\\\n",
       "\u001b[2;36m                    \u001b[0m         default since it will be overridden at pipeline execution time.       \u001b[2m                \u001b[0m\n",
       "\u001b[2;36m                    \u001b[0m         Please utilize the PipelineDefinitionConfig to persist this field in  \u001b[2m                \u001b[0m\n",
       "\u001b[2;36m                    \u001b[0m         the pipeline definition if desired.                                   \u001b[2m                \u001b[0m\n"
      ]
     },
     "metadata": {},
     "output_type": "display_data"
    },
    {
     "data": {
      "text/html": [
       "<pre style=\"white-space:pre;overflow-x:auto;line-height:normal;font-family:Menlo,'DejaVu Sans Mono',consolas,'Courier New',monospace\"><span style=\"color: #7fbfbf; text-decoration-color: #7fbfbf\">                    </span><span style=\"color: #d7af00; text-decoration-color: #d7af00; font-weight: bold\">WARNING </span> Popping out <span style=\"color: #008700; text-decoration-color: #008700\">'ProcessingJobName'</span> from the pipeline definition by       <a href=\"file:///home/ec2-user/anaconda3/envs/python3/lib/python3.10/site-packages/sagemaker/workflow/utilities.py\" target=\"_blank\"><span style=\"color: #7f7f7f; text-decoration-color: #7f7f7f\">utilities.py</span></a><span style=\"color: #7f7f7f; text-decoration-color: #7f7f7f\">:</span><a href=\"file:///home/ec2-user/anaconda3/envs/python3/lib/python3.10/site-packages/sagemaker/workflow/utilities.py#465\" target=\"_blank\"><span style=\"color: #7f7f7f; text-decoration-color: #7f7f7f\">465</span></a>\n",
       "<span style=\"color: #7fbfbf; text-decoration-color: #7fbfbf\">                    </span>         default since it will be overridden at pipeline execution time.       <span style=\"color: #7f7f7f; text-decoration-color: #7f7f7f\">                </span>\n",
       "<span style=\"color: #7fbfbf; text-decoration-color: #7fbfbf\">                    </span>         Please utilize the PipelineDefinitionConfig to persist this field in  <span style=\"color: #7f7f7f; text-decoration-color: #7f7f7f\">                </span>\n",
       "<span style=\"color: #7fbfbf; text-decoration-color: #7fbfbf\">                    </span>         the pipeline definition if desired.                                   <span style=\"color: #7f7f7f; text-decoration-color: #7f7f7f\">                </span>\n",
       "</pre>\n"
      ],
      "text/plain": [
       "\u001b[2;36m                   \u001b[0m\u001b[2;36m \u001b[0m\u001b[1;38;2;215;175;0mWARNING \u001b[0m Popping out \u001b[38;2;0;135;0m'ProcessingJobName'\u001b[0m from the pipeline definition by       \u001b]8;id=850034;file:///home/ec2-user/anaconda3/envs/python3/lib/python3.10/site-packages/sagemaker/workflow/utilities.py\u001b\\\u001b[2mutilities.py\u001b[0m\u001b]8;;\u001b\\\u001b[2m:\u001b[0m\u001b]8;id=537928;file:///home/ec2-user/anaconda3/envs/python3/lib/python3.10/site-packages/sagemaker/workflow/utilities.py#465\u001b\\\u001b[2m465\u001b[0m\u001b]8;;\u001b\\\n",
       "\u001b[2;36m                    \u001b[0m         default since it will be overridden at pipeline execution time.       \u001b[2m                \u001b[0m\n",
       "\u001b[2;36m                    \u001b[0m         Please utilize the PipelineDefinitionConfig to persist this field in  \u001b[2m                \u001b[0m\n",
       "\u001b[2;36m                    \u001b[0m         the pipeline definition if desired.                                   \u001b[2m                \u001b[0m\n"
      ]
     },
     "metadata": {},
     "output_type": "display_data"
    },
    {
     "data": {
      "text/html": [
       "<pre style=\"white-space:pre;overflow-x:auto;line-height:normal;font-family:Menlo,'DejaVu Sans Mono',consolas,'Courier New',monospace\"><span style=\"color: #7fbfbf; text-decoration-color: #7fbfbf\">[03/19/25 13:37:01] </span><span style=\"color: #d7af00; text-decoration-color: #d7af00; font-weight: bold\">WARNING </span> Popping out <span style=\"color: #008700; text-decoration-color: #008700\">'ProcessingJobName'</span> from the pipeline definition by       <a href=\"file:///home/ec2-user/anaconda3/envs/python3/lib/python3.10/site-packages/sagemaker/workflow/utilities.py\" target=\"_blank\"><span style=\"color: #7f7f7f; text-decoration-color: #7f7f7f\">utilities.py</span></a><span style=\"color: #7f7f7f; text-decoration-color: #7f7f7f\">:</span><a href=\"file:///home/ec2-user/anaconda3/envs/python3/lib/python3.10/site-packages/sagemaker/workflow/utilities.py#465\" target=\"_blank\"><span style=\"color: #7f7f7f; text-decoration-color: #7f7f7f\">465</span></a>\n",
       "<span style=\"color: #7fbfbf; text-decoration-color: #7fbfbf\">                    </span>         default since it will be overridden at pipeline execution time.       <span style=\"color: #7f7f7f; text-decoration-color: #7f7f7f\">                </span>\n",
       "<span style=\"color: #7fbfbf; text-decoration-color: #7fbfbf\">                    </span>         Please utilize the PipelineDefinitionConfig to persist this field in  <span style=\"color: #7f7f7f; text-decoration-color: #7f7f7f\">                </span>\n",
       "<span style=\"color: #7fbfbf; text-decoration-color: #7fbfbf\">                    </span>         the pipeline definition if desired.                                   <span style=\"color: #7f7f7f; text-decoration-color: #7f7f7f\">                </span>\n",
       "</pre>\n"
      ],
      "text/plain": [
       "\u001b[2;36m[03/19/25 13:37:01]\u001b[0m\u001b[2;36m \u001b[0m\u001b[1;38;2;215;175;0mWARNING \u001b[0m Popping out \u001b[38;2;0;135;0m'ProcessingJobName'\u001b[0m from the pipeline definition by       \u001b]8;id=610583;file:///home/ec2-user/anaconda3/envs/python3/lib/python3.10/site-packages/sagemaker/workflow/utilities.py\u001b\\\u001b[2mutilities.py\u001b[0m\u001b]8;;\u001b\\\u001b[2m:\u001b[0m\u001b]8;id=79498;file:///home/ec2-user/anaconda3/envs/python3/lib/python3.10/site-packages/sagemaker/workflow/utilities.py#465\u001b\\\u001b[2m465\u001b[0m\u001b]8;;\u001b\\\n",
       "\u001b[2;36m                    \u001b[0m         default since it will be overridden at pipeline execution time.       \u001b[2m                \u001b[0m\n",
       "\u001b[2;36m                    \u001b[0m         Please utilize the PipelineDefinitionConfig to persist this field in  \u001b[2m                \u001b[0m\n",
       "\u001b[2;36m                    \u001b[0m         the pipeline definition if desired.                                   \u001b[2m                \u001b[0m\n"
      ]
     },
     "metadata": {},
     "output_type": "display_data"
    },
    {
     "data": {
      "text/html": [
       "<pre style=\"white-space:pre;overflow-x:auto;line-height:normal;font-family:Menlo,'DejaVu Sans Mono',consolas,'Courier New',monospace\"><span style=\"color: #7fbfbf; text-decoration-color: #7fbfbf\">                    </span><span style=\"color: #d7af00; text-decoration-color: #d7af00; font-weight: bold\">WARNING </span> Popping out <span style=\"color: #008700; text-decoration-color: #008700\">'ProcessingJobName'</span> from the pipeline definition by       <a href=\"file:///home/ec2-user/anaconda3/envs/python3/lib/python3.10/site-packages/sagemaker/workflow/utilities.py\" target=\"_blank\"><span style=\"color: #7f7f7f; text-decoration-color: #7f7f7f\">utilities.py</span></a><span style=\"color: #7f7f7f; text-decoration-color: #7f7f7f\">:</span><a href=\"file:///home/ec2-user/anaconda3/envs/python3/lib/python3.10/site-packages/sagemaker/workflow/utilities.py#465\" target=\"_blank\"><span style=\"color: #7f7f7f; text-decoration-color: #7f7f7f\">465</span></a>\n",
       "<span style=\"color: #7fbfbf; text-decoration-color: #7fbfbf\">                    </span>         default since it will be overridden at pipeline execution time.       <span style=\"color: #7f7f7f; text-decoration-color: #7f7f7f\">                </span>\n",
       "<span style=\"color: #7fbfbf; text-decoration-color: #7fbfbf\">                    </span>         Please utilize the PipelineDefinitionConfig to persist this field in  <span style=\"color: #7f7f7f; text-decoration-color: #7f7f7f\">                </span>\n",
       "<span style=\"color: #7fbfbf; text-decoration-color: #7fbfbf\">                    </span>         the pipeline definition if desired.                                   <span style=\"color: #7f7f7f; text-decoration-color: #7f7f7f\">                </span>\n",
       "</pre>\n"
      ],
      "text/plain": [
       "\u001b[2;36m                   \u001b[0m\u001b[2;36m \u001b[0m\u001b[1;38;2;215;175;0mWARNING \u001b[0m Popping out \u001b[38;2;0;135;0m'ProcessingJobName'\u001b[0m from the pipeline definition by       \u001b]8;id=931753;file:///home/ec2-user/anaconda3/envs/python3/lib/python3.10/site-packages/sagemaker/workflow/utilities.py\u001b\\\u001b[2mutilities.py\u001b[0m\u001b]8;;\u001b\\\u001b[2m:\u001b[0m\u001b]8;id=808201;file:///home/ec2-user/anaconda3/envs/python3/lib/python3.10/site-packages/sagemaker/workflow/utilities.py#465\u001b\\\u001b[2m465\u001b[0m\u001b]8;;\u001b\\\n",
       "\u001b[2;36m                    \u001b[0m         default since it will be overridden at pipeline execution time.       \u001b[2m                \u001b[0m\n",
       "\u001b[2;36m                    \u001b[0m         Please utilize the PipelineDefinitionConfig to persist this field in  \u001b[2m                \u001b[0m\n",
       "\u001b[2;36m                    \u001b[0m         the pipeline definition if desired.                                   \u001b[2m                \u001b[0m\n"
      ]
     },
     "metadata": {},
     "output_type": "display_data"
    },
    {
     "data": {
      "text/html": [
       "<pre style=\"white-space:pre;overflow-x:auto;line-height:normal;font-family:Menlo,'DejaVu Sans Mono',consolas,'Courier New',monospace\"><span style=\"color: #7fbfbf; text-decoration-color: #7fbfbf\">                    </span><span style=\"color: #d7af00; text-decoration-color: #d7af00; font-weight: bold\">WARNING </span> Popping out <span style=\"color: #008700; text-decoration-color: #008700\">'ProcessingJobName'</span> from the pipeline definition by       <a href=\"file:///home/ec2-user/anaconda3/envs/python3/lib/python3.10/site-packages/sagemaker/workflow/utilities.py\" target=\"_blank\"><span style=\"color: #7f7f7f; text-decoration-color: #7f7f7f\">utilities.py</span></a><span style=\"color: #7f7f7f; text-decoration-color: #7f7f7f\">:</span><a href=\"file:///home/ec2-user/anaconda3/envs/python3/lib/python3.10/site-packages/sagemaker/workflow/utilities.py#465\" target=\"_blank\"><span style=\"color: #7f7f7f; text-decoration-color: #7f7f7f\">465</span></a>\n",
       "<span style=\"color: #7fbfbf; text-decoration-color: #7fbfbf\">                    </span>         default since it will be overridden at pipeline execution time.       <span style=\"color: #7f7f7f; text-decoration-color: #7f7f7f\">                </span>\n",
       "<span style=\"color: #7fbfbf; text-decoration-color: #7fbfbf\">                    </span>         Please utilize the PipelineDefinitionConfig to persist this field in  <span style=\"color: #7f7f7f; text-decoration-color: #7f7f7f\">                </span>\n",
       "<span style=\"color: #7fbfbf; text-decoration-color: #7fbfbf\">                    </span>         the pipeline definition if desired.                                   <span style=\"color: #7f7f7f; text-decoration-color: #7f7f7f\">                </span>\n",
       "</pre>\n"
      ],
      "text/plain": [
       "\u001b[2;36m                   \u001b[0m\u001b[2;36m \u001b[0m\u001b[1;38;2;215;175;0mWARNING \u001b[0m Popping out \u001b[38;2;0;135;0m'ProcessingJobName'\u001b[0m from the pipeline definition by       \u001b]8;id=868162;file:///home/ec2-user/anaconda3/envs/python3/lib/python3.10/site-packages/sagemaker/workflow/utilities.py\u001b\\\u001b[2mutilities.py\u001b[0m\u001b]8;;\u001b\\\u001b[2m:\u001b[0m\u001b]8;id=806296;file:///home/ec2-user/anaconda3/envs/python3/lib/python3.10/site-packages/sagemaker/workflow/utilities.py#465\u001b\\\u001b[2m465\u001b[0m\u001b]8;;\u001b\\\n",
       "\u001b[2;36m                    \u001b[0m         default since it will be overridden at pipeline execution time.       \u001b[2m                \u001b[0m\n",
       "\u001b[2;36m                    \u001b[0m         Please utilize the PipelineDefinitionConfig to persist this field in  \u001b[2m                \u001b[0m\n",
       "\u001b[2;36m                    \u001b[0m         the pipeline definition if desired.                                   \u001b[2m                \u001b[0m\n"
      ]
     },
     "metadata": {},
     "output_type": "display_data"
    },
    {
     "data": {
      "text/html": [
       "<pre style=\"white-space:pre;overflow-x:auto;line-height:normal;font-family:Menlo,'DejaVu Sans Mono',consolas,'Courier New',monospace\"><span style=\"color: #7fbfbf; text-decoration-color: #7fbfbf\">                    </span><span style=\"color: #d7af00; text-decoration-color: #d7af00; font-weight: bold\">WARNING </span> Popping out <span style=\"color: #008700; text-decoration-color: #008700\">'ProcessingJobName'</span> from the pipeline definition by       <a href=\"file:///home/ec2-user/anaconda3/envs/python3/lib/python3.10/site-packages/sagemaker/workflow/utilities.py\" target=\"_blank\"><span style=\"color: #7f7f7f; text-decoration-color: #7f7f7f\">utilities.py</span></a><span style=\"color: #7f7f7f; text-decoration-color: #7f7f7f\">:</span><a href=\"file:///home/ec2-user/anaconda3/envs/python3/lib/python3.10/site-packages/sagemaker/workflow/utilities.py#465\" target=\"_blank\"><span style=\"color: #7f7f7f; text-decoration-color: #7f7f7f\">465</span></a>\n",
       "<span style=\"color: #7fbfbf; text-decoration-color: #7fbfbf\">                    </span>         default since it will be overridden at pipeline execution time.       <span style=\"color: #7f7f7f; text-decoration-color: #7f7f7f\">                </span>\n",
       "<span style=\"color: #7fbfbf; text-decoration-color: #7fbfbf\">                    </span>         Please utilize the PipelineDefinitionConfig to persist this field in  <span style=\"color: #7f7f7f; text-decoration-color: #7f7f7f\">                </span>\n",
       "<span style=\"color: #7fbfbf; text-decoration-color: #7fbfbf\">                    </span>         the pipeline definition if desired.                                   <span style=\"color: #7f7f7f; text-decoration-color: #7f7f7f\">                </span>\n",
       "</pre>\n"
      ],
      "text/plain": [
       "\u001b[2;36m                   \u001b[0m\u001b[2;36m \u001b[0m\u001b[1;38;2;215;175;0mWARNING \u001b[0m Popping out \u001b[38;2;0;135;0m'ProcessingJobName'\u001b[0m from the pipeline definition by       \u001b]8;id=735103;file:///home/ec2-user/anaconda3/envs/python3/lib/python3.10/site-packages/sagemaker/workflow/utilities.py\u001b\\\u001b[2mutilities.py\u001b[0m\u001b]8;;\u001b\\\u001b[2m:\u001b[0m\u001b]8;id=772891;file:///home/ec2-user/anaconda3/envs/python3/lib/python3.10/site-packages/sagemaker/workflow/utilities.py#465\u001b\\\u001b[2m465\u001b[0m\u001b]8;;\u001b\\\n",
       "\u001b[2;36m                    \u001b[0m         default since it will be overridden at pipeline execution time.       \u001b[2m                \u001b[0m\n",
       "\u001b[2;36m                    \u001b[0m         Please utilize the PipelineDefinitionConfig to persist this field in  \u001b[2m                \u001b[0m\n",
       "\u001b[2;36m                    \u001b[0m         the pipeline definition if desired.                                   \u001b[2m                \u001b[0m\n"
      ]
     },
     "metadata": {},
     "output_type": "display_data"
    },
    {
     "data": {
      "text/html": [
       "<pre style=\"white-space:pre;overflow-x:auto;line-height:normal;font-family:Menlo,'DejaVu Sans Mono',consolas,'Courier New',monospace\"><span style=\"color: #7fbfbf; text-decoration-color: #7fbfbf\">                    </span><span style=\"color: #d7af00; text-decoration-color: #d7af00; font-weight: bold\">WARNING </span> Popping out <span style=\"color: #008700; text-decoration-color: #008700\">'ProcessingJobName'</span> from the pipeline definition by       <a href=\"file:///home/ec2-user/anaconda3/envs/python3/lib/python3.10/site-packages/sagemaker/workflow/utilities.py\" target=\"_blank\"><span style=\"color: #7f7f7f; text-decoration-color: #7f7f7f\">utilities.py</span></a><span style=\"color: #7f7f7f; text-decoration-color: #7f7f7f\">:</span><a href=\"file:///home/ec2-user/anaconda3/envs/python3/lib/python3.10/site-packages/sagemaker/workflow/utilities.py#465\" target=\"_blank\"><span style=\"color: #7f7f7f; text-decoration-color: #7f7f7f\">465</span></a>\n",
       "<span style=\"color: #7fbfbf; text-decoration-color: #7fbfbf\">                    </span>         default since it will be overridden at pipeline execution time.       <span style=\"color: #7f7f7f; text-decoration-color: #7f7f7f\">                </span>\n",
       "<span style=\"color: #7fbfbf; text-decoration-color: #7fbfbf\">                    </span>         Please utilize the PipelineDefinitionConfig to persist this field in  <span style=\"color: #7f7f7f; text-decoration-color: #7f7f7f\">                </span>\n",
       "<span style=\"color: #7fbfbf; text-decoration-color: #7fbfbf\">                    </span>         the pipeline definition if desired.                                   <span style=\"color: #7f7f7f; text-decoration-color: #7f7f7f\">                </span>\n",
       "</pre>\n"
      ],
      "text/plain": [
       "\u001b[2;36m                   \u001b[0m\u001b[2;36m \u001b[0m\u001b[1;38;2;215;175;0mWARNING \u001b[0m Popping out \u001b[38;2;0;135;0m'ProcessingJobName'\u001b[0m from the pipeline definition by       \u001b]8;id=306205;file:///home/ec2-user/anaconda3/envs/python3/lib/python3.10/site-packages/sagemaker/workflow/utilities.py\u001b\\\u001b[2mutilities.py\u001b[0m\u001b]8;;\u001b\\\u001b[2m:\u001b[0m\u001b]8;id=699511;file:///home/ec2-user/anaconda3/envs/python3/lib/python3.10/site-packages/sagemaker/workflow/utilities.py#465\u001b\\\u001b[2m465\u001b[0m\u001b]8;;\u001b\\\n",
       "\u001b[2;36m                    \u001b[0m         default since it will be overridden at pipeline execution time.       \u001b[2m                \u001b[0m\n",
       "\u001b[2;36m                    \u001b[0m         Please utilize the PipelineDefinitionConfig to persist this field in  \u001b[2m                \u001b[0m\n",
       "\u001b[2;36m                    \u001b[0m         the pipeline definition if desired.                                   \u001b[2m                \u001b[0m\n"
      ]
     },
     "metadata": {},
     "output_type": "display_data"
    },
    {
     "data": {
      "text/plain": [
       "{'PipelineArn': 'arn:aws:sagemaker:us-west-2:785721480234:pipeline/EmbeddingPipeline-brazil-mato-grosso',\n",
       " 'ResponseMetadata': {'RequestId': 'aef0e88f-0ab9-4a8b-9f06-e8fb4e6ed0ee',\n",
       "  'HTTPStatusCode': 200,\n",
       "  'HTTPHeaders': {'x-amzn-requestid': 'aef0e88f-0ab9-4a8b-9f06-e8fb4e6ed0ee',\n",
       "   'content-type': 'application/x-amz-json-1.1',\n",
       "   'content-length': '104',\n",
       "   'date': 'Wed, 19 Mar 2025 13:37:01 GMT'},\n",
       "  'RetryAttempts': 0}}"
      ]
     },
     "execution_count": 66,
     "metadata": {},
     "output_type": "execute_result"
    }
   ],
   "source": [
    "pipeline = Pipeline(\n",
    "    name=f\"EmbeddingPipeline-{aoi_name}\",\n",
    "    steps=[pipeline_step_1, pipeline_step_2, pipeline_step_3,pipeline_step_4],\n",
    "    parameters=[bucket_name_param,\n",
    "                env_name_param,\n",
    "                aoi_name_param,\n",
    "                s2_grid_id_param,\n",
    "                s2_processing_lvl_param, \n",
    "                chip_size_param,\n",
    "                batch_size_param,\n",
    "                s2_bands_param,\n",
    "                geo_proc_image_uri_param,\n",
    "                geofm_emb_gen_image_uri_param,\n",
    "                raw_processing_instance_count_param,\n",
    "                emb_generation_instance_count_param, \n",
    "                emb_processing_instance_count_param,],\n",
    "    sagemaker_session=sagemaker_session\n",
    ")\n",
    "pipeline.upsert(role_arn=role)"
   ]
  },
  {
   "cell_type": "markdown",
   "id": "1e8c9473-5456-4f79-8041-9e02f51f3f68",
   "metadata": {},
   "source": [
    "Set parameters"
   ]
  },
  {
   "cell_type": "code",
   "execution_count": 67,
   "id": "868a6058-31e9-40cf-a2e1-08aa7032026f",
   "metadata": {
    "tags": []
   },
   "outputs": [],
   "source": [
    "#define pipeline parameters\n",
    "parameters=dict(\n",
    "        RawProcessingInstanceCount=20,\n",
    "        EmbeddingGenerationInstanceCount=5,\n",
    "        EmbeddingProcessingInstanceCount=5,\n",
    "    )"
   ]
  },
  {
   "cell_type": "markdown",
   "id": "9900f3a4",
   "metadata": {},
   "source": [
    "Execute the pipeline"
   ]
  },
  {
   "cell_type": "code",
   "execution_count": 37,
   "id": "e1473a30-93a9-4533-980e-a35d9d3fe35a",
   "metadata": {
    "tags": []
   },
   "outputs": [],
   "source": [
    "execution = pipeline.start(parameters=parameters)"
   ]
  },
  {
   "cell_type": "markdown",
   "id": "66314f51-5608-455f-8d1b-cadac20f2137",
   "metadata": {},
   "source": [
    "## Review Pipeline Output\n",
    "\n",
    "For details check the Pipeline Status on SageMaker Studio. After successful run you can deploy the ui. \n",
    "\n",
    "Ensure to copy and paste the content of the config file \n",
    "- from `s3://aws-geofm-data-bucket-{YOUR_ACCOUNT_NUMBER}-{AWS_REGION}-dev/output/{AOI_NAME}/consolidated-output/{TILE_ID}/{AOI_NAME}.json` \n",
    "- into `demo_config.json` situated at `ui/geofm-demo-stack/solara-fe/demo_config.json`"
   ]
  },
  {
   "cell_type": "markdown",
   "id": "4fd74a95-35e4-42a3-a013-a1b69bc35c24",
   "metadata": {},
   "source": [
    "**Get Metadata Files**"
   ]
  },
  {
   "cell_type": "code",
   "execution_count": 38,
   "id": "753c7590-ed50-4f91-b464-7158654b6525",
   "metadata": {
    "tags": []
   },
   "outputs": [
    {
     "data": {
      "text/html": [
       "<pre style=\"white-space:pre;overflow-x:auto;line-height:normal;font-family:Menlo,'DejaVu Sans Mono',consolas,'Courier New',monospace\"><span style=\"color: #ff0000; text-decoration-color: #ff0000\">╭─────────────────────────────── </span><span style=\"color: #ff0000; text-decoration-color: #ff0000; font-weight: bold\">Traceback </span><span style=\"color: #ff7f7f; text-decoration-color: #ff7f7f; font-weight: bold\">(most recent call last)</span><span style=\"color: #ff0000; text-decoration-color: #ff0000\"> ────────────────────────────────╮</span>\n",
       "<span style=\"color: #ff0000; text-decoration-color: #ff0000\">│</span> <span style=\"color: #bfbf7f; text-decoration-color: #bfbf7f\">/home/ec2-user/anaconda3/envs/python3/lib/python3.10/site-packages/geopandas/io/</span><span style=\"color: #808000; text-decoration-color: #808000; font-weight: bold\">arrow.py</span>:<span style=\"color: #0000ff; text-decoration-color: #0000ff\">653</span> in  <span style=\"color: #ff0000; text-decoration-color: #ff0000\">│</span>\n",
       "<span style=\"color: #ff0000; text-decoration-color: #ff0000\">│</span> <span style=\"color: #00ff00; text-decoration-color: #00ff00\">_read_parquet_schema_and_metadata</span>                                                                <span style=\"color: #ff0000; text-decoration-color: #ff0000\">│</span>\n",
       "<span style=\"color: #ff0000; text-decoration-color: #ff0000\">│</span>                                                                                                  <span style=\"color: #ff0000; text-decoration-color: #ff0000\">│</span>\n",
       "<span style=\"color: #ff0000; text-decoration-color: #ff0000\">│</span>   <span style=\"color: #7f7f7f; text-decoration-color: #7f7f7f\">650 </span><span style=\"color: #7f7f7f; text-decoration-color: #7f7f7f\">│   │   </span>kwargs = <span style=\"color: #00ffff; text-decoration-color: #00ffff\">dict</span>(use_legacy_dataset=<span style=\"color: #0000ff; text-decoration-color: #0000ff\">False</span>)                                            <span style=\"color: #ff0000; text-decoration-color: #ff0000\">│</span>\n",
       "<span style=\"color: #ff0000; text-decoration-color: #ff0000\">│</span>   <span style=\"color: #7f7f7f; text-decoration-color: #7f7f7f\">651 </span><span style=\"color: #7f7f7f; text-decoration-color: #7f7f7f\">│   </span>                                                                                       <span style=\"color: #ff0000; text-decoration-color: #ff0000\">│</span>\n",
       "<span style=\"color: #ff0000; text-decoration-color: #ff0000\">│</span>   <span style=\"color: #7f7f7f; text-decoration-color: #7f7f7f\">652 </span><span style=\"color: #7f7f7f; text-decoration-color: #7f7f7f\">│   </span><span style=\"color: #0000ff; text-decoration-color: #0000ff\">try</span>:                                                                                   <span style=\"color: #ff0000; text-decoration-color: #ff0000\">│</span>\n",
       "<span style=\"color: #ff0000; text-decoration-color: #ff0000\">│</span> <span style=\"color: #800000; text-decoration-color: #800000\">❱ </span>653 <span style=\"color: #7f7f7f; text-decoration-color: #7f7f7f\">│   │   </span>schema = parquet.ParquetDataset(path, filesystem=filesystem, **kwargs).schema      <span style=\"color: #ff0000; text-decoration-color: #ff0000\">│</span>\n",
       "<span style=\"color: #ff0000; text-decoration-color: #ff0000\">│</span>   <span style=\"color: #7f7f7f; text-decoration-color: #7f7f7f\">654 </span><span style=\"color: #7f7f7f; text-decoration-color: #7f7f7f\">│   </span><span style=\"color: #0000ff; text-decoration-color: #0000ff\">except</span> <span style=\"color: #00ffff; text-decoration-color: #00ffff\">Exception</span>:                                                                      <span style=\"color: #ff0000; text-decoration-color: #ff0000\">│</span>\n",
       "<span style=\"color: #ff0000; text-decoration-color: #ff0000\">│</span>   <span style=\"color: #7f7f7f; text-decoration-color: #7f7f7f\">655 </span><span style=\"color: #7f7f7f; text-decoration-color: #7f7f7f\">│   │   </span>schema = parquet.read_schema(path, filesystem=filesystem)                          <span style=\"color: #ff0000; text-decoration-color: #ff0000\">│</span>\n",
       "<span style=\"color: #ff0000; text-decoration-color: #ff0000\">│</span>   <span style=\"color: #7f7f7f; text-decoration-color: #7f7f7f\">656 </span>                                                                                           <span style=\"color: #ff0000; text-decoration-color: #ff0000\">│</span>\n",
       "<span style=\"color: #ff0000; text-decoration-color: #ff0000\">│</span>                                                                                                  <span style=\"color: #ff0000; text-decoration-color: #ff0000\">│</span>\n",
       "<span style=\"color: #ff0000; text-decoration-color: #ff0000\">│</span> <span style=\"color: #bfbf7f; text-decoration-color: #bfbf7f\">/home/ec2-user/anaconda3/envs/python3/lib/python3.10/site-packages/pyarrow/parquet/</span><span style=\"color: #808000; text-decoration-color: #808000; font-weight: bold\">core.py</span>:<span style=\"color: #0000ff; text-decoration-color: #0000ff\">1371</span>  <span style=\"color: #ff0000; text-decoration-color: #ff0000\">│</span>\n",
       "<span style=\"color: #ff0000; text-decoration-color: #ff0000\">│</span> in <span style=\"color: #00ff00; text-decoration-color: #00ff00\">__init__</span>                                                                                      <span style=\"color: #ff0000; text-decoration-color: #ff0000\">│</span>\n",
       "<span style=\"color: #ff0000; text-decoration-color: #ff0000\">│</span>                                                                                                  <span style=\"color: #ff0000; text-decoration-color: #ff0000\">│</span>\n",
       "<span style=\"color: #ff0000; text-decoration-color: #ff0000\">│</span>   <span style=\"color: #7f7f7f; text-decoration-color: #7f7f7f\">1368 </span><span style=\"color: #7f7f7f; text-decoration-color: #7f7f7f\">│   │   │   </span>partitioning = ds.HivePartitioning.discover(                                  <span style=\"color: #ff0000; text-decoration-color: #ff0000\">│</span>\n",
       "<span style=\"color: #ff0000; text-decoration-color: #ff0000\">│</span>   <span style=\"color: #7f7f7f; text-decoration-color: #7f7f7f\">1369 </span><span style=\"color: #7f7f7f; text-decoration-color: #7f7f7f\">│   │   │   │   </span>infer_dictionary=<span style=\"color: #0000ff; text-decoration-color: #0000ff\">True</span>)                                                    <span style=\"color: #ff0000; text-decoration-color: #ff0000\">│</span>\n",
       "<span style=\"color: #ff0000; text-decoration-color: #ff0000\">│</span>   <span style=\"color: #7f7f7f; text-decoration-color: #7f7f7f\">1370 </span><span style=\"color: #7f7f7f; text-decoration-color: #7f7f7f\">│   │   </span>                                                                                  <span style=\"color: #ff0000; text-decoration-color: #ff0000\">│</span>\n",
       "<span style=\"color: #ff0000; text-decoration-color: #ff0000\">│</span> <span style=\"color: #800000; text-decoration-color: #800000\">❱ </span>1371 <span style=\"color: #7f7f7f; text-decoration-color: #7f7f7f\">│   │   </span><span style=\"color: #00ffff; text-decoration-color: #00ffff\">self</span>._dataset = ds.dataset(path_or_paths, filesystem=filesystem,                  <span style=\"color: #ff0000; text-decoration-color: #ff0000\">│</span>\n",
       "<span style=\"color: #ff0000; text-decoration-color: #ff0000\">│</span>   <span style=\"color: #7f7f7f; text-decoration-color: #7f7f7f\">1372 </span><span style=\"color: #7f7f7f; text-decoration-color: #7f7f7f\">│   │   │   │   │   │   │   │      </span>schema=schema, <span style=\"color: #00ffff; text-decoration-color: #00ffff\">format</span>=parquet_format,                  <span style=\"color: #ff0000; text-decoration-color: #ff0000\">│</span>\n",
       "<span style=\"color: #ff0000; text-decoration-color: #ff0000\">│</span>   <span style=\"color: #7f7f7f; text-decoration-color: #7f7f7f\">1373 </span><span style=\"color: #7f7f7f; text-decoration-color: #7f7f7f\">│   │   │   │   │   │   │   │      </span>partitioning=partitioning,                             <span style=\"color: #ff0000; text-decoration-color: #ff0000\">│</span>\n",
       "<span style=\"color: #ff0000; text-decoration-color: #ff0000\">│</span>   <span style=\"color: #7f7f7f; text-decoration-color: #7f7f7f\">1374 </span><span style=\"color: #7f7f7f; text-decoration-color: #7f7f7f\">│   │   │   │   │   │   │   │      </span>ignore_prefixes=ignore_prefixes)                       <span style=\"color: #ff0000; text-decoration-color: #ff0000\">│</span>\n",
       "<span style=\"color: #ff0000; text-decoration-color: #ff0000\">│</span>                                                                                                  <span style=\"color: #ff0000; text-decoration-color: #ff0000\">│</span>\n",
       "<span style=\"color: #ff0000; text-decoration-color: #ff0000\">│</span> <span style=\"color: #bfbf7f; text-decoration-color: #bfbf7f\">/home/ec2-user/anaconda3/envs/python3/lib/python3.10/site-packages/pyarrow/</span><span style=\"color: #808000; text-decoration-color: #808000; font-weight: bold\">dataset.py</span>:<span style=\"color: #0000ff; text-decoration-color: #0000ff\">794</span> in     <span style=\"color: #ff0000; text-decoration-color: #ff0000\">│</span>\n",
       "<span style=\"color: #ff0000; text-decoration-color: #ff0000\">│</span> <span style=\"color: #00ff00; text-decoration-color: #00ff00\">dataset</span>                                                                                          <span style=\"color: #ff0000; text-decoration-color: #ff0000\">│</span>\n",
       "<span style=\"color: #ff0000; text-decoration-color: #ff0000\">│</span>                                                                                                  <span style=\"color: #ff0000; text-decoration-color: #ff0000\">│</span>\n",
       "<span style=\"color: #ff0000; text-decoration-color: #ff0000\">│</span>   <span style=\"color: #7f7f7f; text-decoration-color: #7f7f7f\"> 791 </span><span style=\"color: #7f7f7f; text-decoration-color: #7f7f7f\">│   </span>)                                                                                     <span style=\"color: #ff0000; text-decoration-color: #ff0000\">│</span>\n",
       "<span style=\"color: #ff0000; text-decoration-color: #ff0000\">│</span>   <span style=\"color: #7f7f7f; text-decoration-color: #7f7f7f\"> 792 </span><span style=\"color: #7f7f7f; text-decoration-color: #7f7f7f\">│   </span>                                                                                      <span style=\"color: #ff0000; text-decoration-color: #ff0000\">│</span>\n",
       "<span style=\"color: #ff0000; text-decoration-color: #ff0000\">│</span>   <span style=\"color: #7f7f7f; text-decoration-color: #7f7f7f\"> 793 </span><span style=\"color: #7f7f7f; text-decoration-color: #7f7f7f\">│   </span><span style=\"color: #0000ff; text-decoration-color: #0000ff\">if</span> _is_path_like(source):                                                             <span style=\"color: #ff0000; text-decoration-color: #ff0000\">│</span>\n",
       "<span style=\"color: #ff0000; text-decoration-color: #ff0000\">│</span> <span style=\"color: #800000; text-decoration-color: #800000\">❱ </span> 794 <span style=\"color: #7f7f7f; text-decoration-color: #7f7f7f\">│   │   </span><span style=\"color: #0000ff; text-decoration-color: #0000ff\">return</span> _filesystem_dataset(source, **kwargs)                                      <span style=\"color: #ff0000; text-decoration-color: #ff0000\">│</span>\n",
       "<span style=\"color: #ff0000; text-decoration-color: #ff0000\">│</span>   <span style=\"color: #7f7f7f; text-decoration-color: #7f7f7f\"> 795 </span><span style=\"color: #7f7f7f; text-decoration-color: #7f7f7f\">│   </span><span style=\"color: #0000ff; text-decoration-color: #0000ff\">elif</span> <span style=\"color: #00ffff; text-decoration-color: #00ffff\">isinstance</span>(source, (<span style=\"color: #00ffff; text-decoration-color: #00ffff\">tuple</span>, <span style=\"color: #00ffff; text-decoration-color: #00ffff\">list</span>)):                                               <span style=\"color: #ff0000; text-decoration-color: #ff0000\">│</span>\n",
       "<span style=\"color: #ff0000; text-decoration-color: #ff0000\">│</span>   <span style=\"color: #7f7f7f; text-decoration-color: #7f7f7f\"> 796 </span><span style=\"color: #7f7f7f; text-decoration-color: #7f7f7f\">│   │   </span><span style=\"color: #0000ff; text-decoration-color: #0000ff\">if</span> <span style=\"color: #00ffff; text-decoration-color: #00ffff\">all</span>(_is_path_like(elem) <span style=\"color: #ff00ff; text-decoration-color: #ff00ff\">or</span> <span style=\"color: #00ffff; text-decoration-color: #00ffff\">isinstance</span>(elem, FileInfo) <span style=\"color: #0000ff; text-decoration-color: #0000ff\">for</span> elem <span style=\"color: #ff00ff; text-decoration-color: #ff00ff\">in</span> source):     <span style=\"color: #ff0000; text-decoration-color: #ff0000\">│</span>\n",
       "<span style=\"color: #ff0000; text-decoration-color: #ff0000\">│</span>   <span style=\"color: #7f7f7f; text-decoration-color: #7f7f7f\"> 797 </span><span style=\"color: #7f7f7f; text-decoration-color: #7f7f7f\">│   │   │   </span><span style=\"color: #0000ff; text-decoration-color: #0000ff\">return</span> _filesystem_dataset(source, **kwargs)                                  <span style=\"color: #ff0000; text-decoration-color: #ff0000\">│</span>\n",
       "<span style=\"color: #ff0000; text-decoration-color: #ff0000\">│</span>                                                                                                  <span style=\"color: #ff0000; text-decoration-color: #ff0000\">│</span>\n",
       "<span style=\"color: #ff0000; text-decoration-color: #ff0000\">│</span> <span style=\"color: #bfbf7f; text-decoration-color: #bfbf7f\">/home/ec2-user/anaconda3/envs/python3/lib/python3.10/site-packages/pyarrow/</span><span style=\"color: #808000; text-decoration-color: #808000; font-weight: bold\">dataset.py</span>:<span style=\"color: #0000ff; text-decoration-color: #0000ff\">476</span> in     <span style=\"color: #ff0000; text-decoration-color: #ff0000\">│</span>\n",
       "<span style=\"color: #ff0000; text-decoration-color: #ff0000\">│</span> <span style=\"color: #00ff00; text-decoration-color: #00ff00\">_filesystem_dataset</span>                                                                              <span style=\"color: #ff0000; text-decoration-color: #ff0000\">│</span>\n",
       "<span style=\"color: #ff0000; text-decoration-color: #ff0000\">│</span>                                                                                                  <span style=\"color: #ff0000; text-decoration-color: #ff0000\">│</span>\n",
       "<span style=\"color: #ff0000; text-decoration-color: #ff0000\">│</span>   <span style=\"color: #7f7f7f; text-decoration-color: #7f7f7f\"> 473 </span><span style=\"color: #7f7f7f; text-decoration-color: #7f7f7f\">│   │   </span><span style=\"color: #0000ff; text-decoration-color: #0000ff\">else</span>:                                                                             <span style=\"color: #ff0000; text-decoration-color: #ff0000\">│</span>\n",
       "<span style=\"color: #ff0000; text-decoration-color: #ff0000\">│</span>   <span style=\"color: #7f7f7f; text-decoration-color: #7f7f7f\"> 474 </span><span style=\"color: #7f7f7f; text-decoration-color: #7f7f7f\">│   │   │   </span>fs, paths_or_selector = _ensure_multiple_sources(source, filesystem)          <span style=\"color: #ff0000; text-decoration-color: #ff0000\">│</span>\n",
       "<span style=\"color: #ff0000; text-decoration-color: #ff0000\">│</span>   <span style=\"color: #7f7f7f; text-decoration-color: #7f7f7f\"> 475 </span><span style=\"color: #7f7f7f; text-decoration-color: #7f7f7f\">│   </span><span style=\"color: #0000ff; text-decoration-color: #0000ff\">else</span>:                                                                                 <span style=\"color: #ff0000; text-decoration-color: #ff0000\">│</span>\n",
       "<span style=\"color: #ff0000; text-decoration-color: #ff0000\">│</span> <span style=\"color: #800000; text-decoration-color: #800000\">❱ </span> 476 <span style=\"color: #7f7f7f; text-decoration-color: #7f7f7f\">│   │   </span>fs, paths_or_selector = _ensure_single_source(source, filesystem)                 <span style=\"color: #ff0000; text-decoration-color: #ff0000\">│</span>\n",
       "<span style=\"color: #ff0000; text-decoration-color: #ff0000\">│</span>   <span style=\"color: #7f7f7f; text-decoration-color: #7f7f7f\"> 477 </span><span style=\"color: #7f7f7f; text-decoration-color: #7f7f7f\">│   </span>                                                                                      <span style=\"color: #ff0000; text-decoration-color: #ff0000\">│</span>\n",
       "<span style=\"color: #ff0000; text-decoration-color: #ff0000\">│</span>   <span style=\"color: #7f7f7f; text-decoration-color: #7f7f7f\"> 478 </span><span style=\"color: #7f7f7f; text-decoration-color: #7f7f7f\">│   </span>options = FileSystemFactoryOptions(                                                   <span style=\"color: #ff0000; text-decoration-color: #ff0000\">│</span>\n",
       "<span style=\"color: #ff0000; text-decoration-color: #ff0000\">│</span>   <span style=\"color: #7f7f7f; text-decoration-color: #7f7f7f\"> 479 </span><span style=\"color: #7f7f7f; text-decoration-color: #7f7f7f\">│   │   </span>partitioning=partitioning,                                                        <span style=\"color: #ff0000; text-decoration-color: #ff0000\">│</span>\n",
       "<span style=\"color: #ff0000; text-decoration-color: #ff0000\">│</span>                                                                                                  <span style=\"color: #ff0000; text-decoration-color: #ff0000\">│</span>\n",
       "<span style=\"color: #ff0000; text-decoration-color: #ff0000\">│</span> <span style=\"color: #bfbf7f; text-decoration-color: #bfbf7f\">/home/ec2-user/anaconda3/envs/python3/lib/python3.10/site-packages/pyarrow/</span><span style=\"color: #808000; text-decoration-color: #808000; font-weight: bold\">dataset.py</span>:<span style=\"color: #0000ff; text-decoration-color: #0000ff\">441</span> in     <span style=\"color: #ff0000; text-decoration-color: #ff0000\">│</span>\n",
       "<span style=\"color: #ff0000; text-decoration-color: #ff0000\">│</span> <span style=\"color: #00ff00; text-decoration-color: #00ff00\">_ensure_single_source</span>                                                                            <span style=\"color: #ff0000; text-decoration-color: #ff0000\">│</span>\n",
       "<span style=\"color: #ff0000; text-decoration-color: #ff0000\">│</span>                                                                                                  <span style=\"color: #ff0000; text-decoration-color: #ff0000\">│</span>\n",
       "<span style=\"color: #ff0000; text-decoration-color: #ff0000\">│</span>   <span style=\"color: #7f7f7f; text-decoration-color: #7f7f7f\"> 438 </span><span style=\"color: #7f7f7f; text-decoration-color: #7f7f7f\">│   </span><span style=\"color: #0000ff; text-decoration-color: #0000ff\">elif</span> file_info.type == FileType.File:                                                 <span style=\"color: #ff0000; text-decoration-color: #ff0000\">│</span>\n",
       "<span style=\"color: #ff0000; text-decoration-color: #ff0000\">│</span>   <span style=\"color: #7f7f7f; text-decoration-color: #7f7f7f\"> 439 </span><span style=\"color: #7f7f7f; text-decoration-color: #7f7f7f\">│   │   </span>paths_or_selector = [path]                                                        <span style=\"color: #ff0000; text-decoration-color: #ff0000\">│</span>\n",
       "<span style=\"color: #ff0000; text-decoration-color: #ff0000\">│</span>   <span style=\"color: #7f7f7f; text-decoration-color: #7f7f7f\"> 440 </span><span style=\"color: #7f7f7f; text-decoration-color: #7f7f7f\">│   </span><span style=\"color: #0000ff; text-decoration-color: #0000ff\">else</span>:                                                                                 <span style=\"color: #ff0000; text-decoration-color: #ff0000\">│</span>\n",
       "<span style=\"color: #ff0000; text-decoration-color: #ff0000\">│</span> <span style=\"color: #800000; text-decoration-color: #800000\">❱ </span> 441 <span style=\"color: #7f7f7f; text-decoration-color: #7f7f7f\">│   │   </span><span style=\"color: #0000ff; text-decoration-color: #0000ff\">raise</span> <span style=\"color: #00ffff; text-decoration-color: #00ffff\">FileNotFoundError</span>(path)                                                     <span style=\"color: #ff0000; text-decoration-color: #ff0000\">│</span>\n",
       "<span style=\"color: #ff0000; text-decoration-color: #ff0000\">│</span>   <span style=\"color: #7f7f7f; text-decoration-color: #7f7f7f\"> 442 </span><span style=\"color: #7f7f7f; text-decoration-color: #7f7f7f\">│   </span>                                                                                      <span style=\"color: #ff0000; text-decoration-color: #ff0000\">│</span>\n",
       "<span style=\"color: #ff0000; text-decoration-color: #ff0000\">│</span>   <span style=\"color: #7f7f7f; text-decoration-color: #7f7f7f\"> 443 </span><span style=\"color: #7f7f7f; text-decoration-color: #7f7f7f\">│   </span><span style=\"color: #0000ff; text-decoration-color: #0000ff\">return</span> filesystem, paths_or_selector                                                  <span style=\"color: #ff0000; text-decoration-color: #ff0000\">│</span>\n",
       "<span style=\"color: #ff0000; text-decoration-color: #ff0000\">│</span>   <span style=\"color: #7f7f7f; text-decoration-color: #7f7f7f\"> 444 </span>                                                                                          <span style=\"color: #ff0000; text-decoration-color: #ff0000\">│</span>\n",
       "<span style=\"color: #ff0000; text-decoration-color: #ff0000\">╰──────────────────────────────────────────────────────────────────────────────────────────────────╯</span>\n",
       "<span style=\"color: #ff0000; text-decoration-color: #ff0000; font-weight: bold\">FileNotFoundError: </span>aws-geofm-data-bucket-<span style=\"color: #008080; text-decoration-color: #008080; font-weight: bold\">785721480234</span>-us-west-<span style=\"color: #008080; text-decoration-color: #008080; font-weight: bold\">2</span>-dev/output/brazil-mato-grosso/meta\n",
       "\n",
       "<span style=\"font-style: italic\">During handling of the above exception, another exception occurred:</span>\n",
       "\n",
       "<span style=\"color: #ff0000; text-decoration-color: #ff0000\">╭─────────────────────────────── </span><span style=\"color: #ff0000; text-decoration-color: #ff0000; font-weight: bold\">Traceback </span><span style=\"color: #ff7f7f; text-decoration-color: #ff7f7f; font-weight: bold\">(most recent call last)</span><span style=\"color: #ff0000; text-decoration-color: #ff0000\"> ────────────────────────────────╮</span>\n",
       "<span style=\"color: #ff0000; text-decoration-color: #ff0000\">│</span> in <span style=\"color: #00ff00; text-decoration-color: #00ff00\">&lt;module&gt;</span>:<span style=\"color: #0000ff; text-decoration-color: #0000ff\">2</span>                                                                                    <span style=\"color: #ff0000; text-decoration-color: #ff0000\">│</span>\n",
       "<span style=\"color: #ff0000; text-decoration-color: #ff0000\">│</span>                                                                                                  <span style=\"color: #ff0000; text-decoration-color: #ff0000\">│</span>\n",
       "<span style=\"color: #ff0000; text-decoration-color: #ff0000\">│</span>   <span style=\"color: #7f7f7f; text-decoration-color: #7f7f7f\">1 </span>s3_destination_meta=<span style=\"color: #808000; text-decoration-color: #808000\">f's3://{</span>bucket_name<span style=\"color: #808000; text-decoration-color: #808000\">}/output/{</span>aoi_name<span style=\"color: #808000; text-decoration-color: #808000\">}/meta/'</span>                            <span style=\"color: #ff0000; text-decoration-color: #ff0000\">│</span>\n",
       "<span style=\"color: #ff0000; text-decoration-color: #ff0000\">│</span> <span style=\"color: #800000; text-decoration-color: #800000\">❱ </span>2 meta_files = gpd.read_parquet(s3_destination_meta)                                           <span style=\"color: #ff0000; text-decoration-color: #ff0000\">│</span>\n",
       "<span style=\"color: #ff0000; text-decoration-color: #ff0000\">│</span>   <span style=\"color: #7f7f7f; text-decoration-color: #7f7f7f\">3 </span>                                                                                             <span style=\"color: #ff0000; text-decoration-color: #ff0000\">│</span>\n",
       "<span style=\"color: #ff0000; text-decoration-color: #ff0000\">│</span>                                                                                                  <span style=\"color: #ff0000; text-decoration-color: #ff0000\">│</span>\n",
       "<span style=\"color: #ff0000; text-decoration-color: #ff0000\">│</span> <span style=\"color: #bfbf7f; text-decoration-color: #bfbf7f\">/home/ec2-user/anaconda3/envs/python3/lib/python3.10/site-packages/geopandas/io/</span><span style=\"color: #808000; text-decoration-color: #808000; font-weight: bold\">arrow.py</span>:<span style=\"color: #0000ff; text-decoration-color: #0000ff\">751</span> in  <span style=\"color: #ff0000; text-decoration-color: #ff0000\">│</span>\n",
       "<span style=\"color: #ff0000; text-decoration-color: #ff0000\">│</span> <span style=\"color: #00ff00; text-decoration-color: #00ff00\">_read_parquet</span>                                                                                    <span style=\"color: #ff0000; text-decoration-color: #ff0000\">│</span>\n",
       "<span style=\"color: #ff0000; text-decoration-color: #ff0000\">│</span>                                                                                                  <span style=\"color: #ff0000; text-decoration-color: #ff0000\">│</span>\n",
       "<span style=\"color: #ff0000; text-decoration-color: #ff0000\">│</span>   <span style=\"color: #7f7f7f; text-decoration-color: #7f7f7f\">748 </span><span style=\"color: #7f7f7f; text-decoration-color: #7f7f7f\">│   │   </span>path, filesystem=filesystem, storage_options=storage_options                       <span style=\"color: #ff0000; text-decoration-color: #ff0000\">│</span>\n",
       "<span style=\"color: #ff0000; text-decoration-color: #ff0000\">│</span>   <span style=\"color: #7f7f7f; text-decoration-color: #7f7f7f\">749 </span><span style=\"color: #7f7f7f; text-decoration-color: #7f7f7f\">│   </span>)                                                                                      <span style=\"color: #ff0000; text-decoration-color: #ff0000\">│</span>\n",
       "<span style=\"color: #ff0000; text-decoration-color: #ff0000\">│</span>   <span style=\"color: #7f7f7f; text-decoration-color: #7f7f7f\">750 </span><span style=\"color: #7f7f7f; text-decoration-color: #7f7f7f\">│   </span>path = _expand_user(path)                                                              <span style=\"color: #ff0000; text-decoration-color: #ff0000\">│</span>\n",
       "<span style=\"color: #ff0000; text-decoration-color: #ff0000\">│</span> <span style=\"color: #800000; text-decoration-color: #800000\">❱ </span>751 <span style=\"color: #7f7f7f; text-decoration-color: #7f7f7f\">│   </span>schema, metadata = _read_parquet_schema_and_metadata(path, filesystem)                 <span style=\"color: #ff0000; text-decoration-color: #ff0000\">│</span>\n",
       "<span style=\"color: #ff0000; text-decoration-color: #ff0000\">│</span>   <span style=\"color: #7f7f7f; text-decoration-color: #7f7f7f\">752 </span><span style=\"color: #7f7f7f; text-decoration-color: #7f7f7f\">│   </span>                                                                                       <span style=\"color: #ff0000; text-decoration-color: #ff0000\">│</span>\n",
       "<span style=\"color: #ff0000; text-decoration-color: #ff0000\">│</span>   <span style=\"color: #7f7f7f; text-decoration-color: #7f7f7f\">753 </span><span style=\"color: #7f7f7f; text-decoration-color: #7f7f7f\">│   </span>geo_metadata = _validate_and_decode_metadata(metadata)                                 <span style=\"color: #ff0000; text-decoration-color: #ff0000\">│</span>\n",
       "<span style=\"color: #ff0000; text-decoration-color: #ff0000\">│</span>   <span style=\"color: #7f7f7f; text-decoration-color: #7f7f7f\">754 </span>                                                                                           <span style=\"color: #ff0000; text-decoration-color: #ff0000\">│</span>\n",
       "<span style=\"color: #ff0000; text-decoration-color: #ff0000\">│</span>                                                                                                  <span style=\"color: #ff0000; text-decoration-color: #ff0000\">│</span>\n",
       "<span style=\"color: #ff0000; text-decoration-color: #ff0000\">│</span> <span style=\"color: #bfbf7f; text-decoration-color: #bfbf7f\">/home/ec2-user/anaconda3/envs/python3/lib/python3.10/site-packages/geopandas/io/</span><span style=\"color: #808000; text-decoration-color: #808000; font-weight: bold\">arrow.py</span>:<span style=\"color: #0000ff; text-decoration-color: #0000ff\">655</span> in  <span style=\"color: #ff0000; text-decoration-color: #ff0000\">│</span>\n",
       "<span style=\"color: #ff0000; text-decoration-color: #ff0000\">│</span> <span style=\"color: #00ff00; text-decoration-color: #00ff00\">_read_parquet_schema_and_metadata</span>                                                                <span style=\"color: #ff0000; text-decoration-color: #ff0000\">│</span>\n",
       "<span style=\"color: #ff0000; text-decoration-color: #ff0000\">│</span>                                                                                                  <span style=\"color: #ff0000; text-decoration-color: #ff0000\">│</span>\n",
       "<span style=\"color: #ff0000; text-decoration-color: #ff0000\">│</span>   <span style=\"color: #7f7f7f; text-decoration-color: #7f7f7f\">652 </span><span style=\"color: #7f7f7f; text-decoration-color: #7f7f7f\">│   </span><span style=\"color: #0000ff; text-decoration-color: #0000ff\">try</span>:                                                                                   <span style=\"color: #ff0000; text-decoration-color: #ff0000\">│</span>\n",
       "<span style=\"color: #ff0000; text-decoration-color: #ff0000\">│</span>   <span style=\"color: #7f7f7f; text-decoration-color: #7f7f7f\">653 </span><span style=\"color: #7f7f7f; text-decoration-color: #7f7f7f\">│   │   </span>schema = parquet.ParquetDataset(path, filesystem=filesystem, **kwargs).schema      <span style=\"color: #ff0000; text-decoration-color: #ff0000\">│</span>\n",
       "<span style=\"color: #ff0000; text-decoration-color: #ff0000\">│</span>   <span style=\"color: #7f7f7f; text-decoration-color: #7f7f7f\">654 </span><span style=\"color: #7f7f7f; text-decoration-color: #7f7f7f\">│   </span><span style=\"color: #0000ff; text-decoration-color: #0000ff\">except</span> <span style=\"color: #00ffff; text-decoration-color: #00ffff\">Exception</span>:                                                                      <span style=\"color: #ff0000; text-decoration-color: #ff0000\">│</span>\n",
       "<span style=\"color: #ff0000; text-decoration-color: #ff0000\">│</span> <span style=\"color: #800000; text-decoration-color: #800000\">❱ </span>655 <span style=\"color: #7f7f7f; text-decoration-color: #7f7f7f\">│   │   </span>schema = parquet.read_schema(path, filesystem=filesystem)                          <span style=\"color: #ff0000; text-decoration-color: #ff0000\">│</span>\n",
       "<span style=\"color: #ff0000; text-decoration-color: #ff0000\">│</span>   <span style=\"color: #7f7f7f; text-decoration-color: #7f7f7f\">656 </span><span style=\"color: #7f7f7f; text-decoration-color: #7f7f7f\">│   </span>                                                                                       <span style=\"color: #ff0000; text-decoration-color: #ff0000\">│</span>\n",
       "<span style=\"color: #ff0000; text-decoration-color: #ff0000\">│</span>   <span style=\"color: #7f7f7f; text-decoration-color: #7f7f7f\">657 </span><span style=\"color: #7f7f7f; text-decoration-color: #7f7f7f\">│   </span>metadata = schema.metadata                                                             <span style=\"color: #ff0000; text-decoration-color: #ff0000\">│</span>\n",
       "<span style=\"color: #ff0000; text-decoration-color: #ff0000\">│</span>   <span style=\"color: #7f7f7f; text-decoration-color: #7f7f7f\">658 </span>                                                                                           <span style=\"color: #ff0000; text-decoration-color: #ff0000\">│</span>\n",
       "<span style=\"color: #ff0000; text-decoration-color: #ff0000\">│</span>                                                                                                  <span style=\"color: #ff0000; text-decoration-color: #ff0000\">│</span>\n",
       "<span style=\"color: #ff0000; text-decoration-color: #ff0000\">│</span> <span style=\"color: #bfbf7f; text-decoration-color: #bfbf7f\">/home/ec2-user/anaconda3/envs/python3/lib/python3.10/site-packages/pyarrow/parquet/</span><span style=\"color: #808000; text-decoration-color: #808000; font-weight: bold\">core.py</span>:<span style=\"color: #0000ff; text-decoration-color: #0000ff\">2342</span>  <span style=\"color: #ff0000; text-decoration-color: #ff0000\">│</span>\n",
       "<span style=\"color: #ff0000; text-decoration-color: #ff0000\">│</span> in <span style=\"color: #00ff00; text-decoration-color: #00ff00\">read_schema</span>                                                                                   <span style=\"color: #ff0000; text-decoration-color: #ff0000\">│</span>\n",
       "<span style=\"color: #ff0000; text-decoration-color: #ff0000\">│</span>                                                                                                  <span style=\"color: #ff0000; text-decoration-color: #ff0000\">│</span>\n",
       "<span style=\"color: #ff0000; text-decoration-color: #ff0000\">│</span>   <span style=\"color: #7f7f7f; text-decoration-color: #7f7f7f\">2339 </span><span style=\"color: #7f7f7f; text-decoration-color: #7f7f7f\">│   </span>filesystem, where = _resolve_filesystem_and_path(where, filesystem)                   <span style=\"color: #ff0000; text-decoration-color: #ff0000\">│</span>\n",
       "<span style=\"color: #ff0000; text-decoration-color: #ff0000\">│</span>   <span style=\"color: #7f7f7f; text-decoration-color: #7f7f7f\">2340 </span><span style=\"color: #7f7f7f; text-decoration-color: #7f7f7f\">│   </span>file_ctx = nullcontext()                                                              <span style=\"color: #ff0000; text-decoration-color: #ff0000\">│</span>\n",
       "<span style=\"color: #ff0000; text-decoration-color: #ff0000\">│</span>   <span style=\"color: #7f7f7f; text-decoration-color: #7f7f7f\">2341 </span><span style=\"color: #7f7f7f; text-decoration-color: #7f7f7f\">│   </span><span style=\"color: #0000ff; text-decoration-color: #0000ff\">if</span> filesystem <span style=\"color: #ff00ff; text-decoration-color: #ff00ff\">is</span> <span style=\"color: #ff00ff; text-decoration-color: #ff00ff\">not</span> <span style=\"color: #0000ff; text-decoration-color: #0000ff\">None</span>:                                                            <span style=\"color: #ff0000; text-decoration-color: #ff0000\">│</span>\n",
       "<span style=\"color: #ff0000; text-decoration-color: #ff0000\">│</span> <span style=\"color: #800000; text-decoration-color: #800000\">❱ </span>2342 <span style=\"color: #7f7f7f; text-decoration-color: #7f7f7f\">│   │   </span>file_ctx = where = filesystem.open_input_file(where)                              <span style=\"color: #ff0000; text-decoration-color: #ff0000\">│</span>\n",
       "<span style=\"color: #ff0000; text-decoration-color: #ff0000\">│</span>   <span style=\"color: #7f7f7f; text-decoration-color: #7f7f7f\">2343 </span><span style=\"color: #7f7f7f; text-decoration-color: #7f7f7f\">│   </span>                                                                                      <span style=\"color: #ff0000; text-decoration-color: #ff0000\">│</span>\n",
       "<span style=\"color: #ff0000; text-decoration-color: #ff0000\">│</span>   <span style=\"color: #7f7f7f; text-decoration-color: #7f7f7f\">2344 </span><span style=\"color: #7f7f7f; text-decoration-color: #7f7f7f\">│   </span><span style=\"color: #0000ff; text-decoration-color: #0000ff\">with</span> file_ctx:                                                                        <span style=\"color: #ff0000; text-decoration-color: #ff0000\">│</span>\n",
       "<span style=\"color: #ff0000; text-decoration-color: #ff0000\">│</span>   <span style=\"color: #7f7f7f; text-decoration-color: #7f7f7f\">2345 </span><span style=\"color: #7f7f7f; text-decoration-color: #7f7f7f\">│   │   </span>file = ParquetFile(                                                               <span style=\"color: #ff0000; text-decoration-color: #ff0000\">│</span>\n",
       "<span style=\"color: #ff0000; text-decoration-color: #ff0000\">│</span>                                                                                                  <span style=\"color: #ff0000; text-decoration-color: #ff0000\">│</span>\n",
       "<span style=\"color: #ff0000; text-decoration-color: #ff0000\">│</span> in <span style=\"color: #00ff00; text-decoration-color: #00ff00\">pyarrow._fs.FileSystem.open_input_file</span>:<span style=\"color: #0000ff; text-decoration-color: #0000ff\">789</span>                                                    <span style=\"color: #ff0000; text-decoration-color: #ff0000\">│</span>\n",
       "<span style=\"color: #ff0000; text-decoration-color: #ff0000\">│</span>                                                                                                  <span style=\"color: #ff0000; text-decoration-color: #ff0000\">│</span>\n",
       "<span style=\"color: #ff0000; text-decoration-color: #ff0000\">│</span> in <span style=\"color: #00ff00; text-decoration-color: #00ff00\">pyarrow.lib.pyarrow_internal_check_status</span>:<span style=\"color: #0000ff; text-decoration-color: #0000ff\">155</span>                                                 <span style=\"color: #ff0000; text-decoration-color: #ff0000\">│</span>\n",
       "<span style=\"color: #ff0000; text-decoration-color: #ff0000\">│</span>                                                                                                  <span style=\"color: #ff0000; text-decoration-color: #ff0000\">│</span>\n",
       "<span style=\"color: #ff0000; text-decoration-color: #ff0000\">│</span> in <span style=\"color: #00ff00; text-decoration-color: #00ff00\">pyarrow.lib.check_status</span>:<span style=\"color: #0000ff; text-decoration-color: #0000ff\">92</span>                                                                   <span style=\"color: #ff0000; text-decoration-color: #ff0000\">│</span>\n",
       "<span style=\"color: #ff0000; text-decoration-color: #ff0000\">╰──────────────────────────────────────────────────────────────────────────────────────────────────╯</span>\n",
       "<span style=\"color: #ff0000; text-decoration-color: #ff0000; font-weight: bold\">FileNotFoundError: </span><span style=\"font-weight: bold\">[</span>Errno <span style=\"color: #008080; text-decoration-color: #008080; font-weight: bold\">2</span><span style=\"font-weight: bold\">]</span> Path does not exist \n",
       "<span style=\"color: #008700; text-decoration-color: #008700\">'aws-geofm-data-bucket-785721480234-us-west-2-dev/output/brazil-mato-grosso/meta'</span>. Detail: <span style=\"font-weight: bold\">[</span>errno <span style=\"color: #008080; text-decoration-color: #008080; font-weight: bold\">2</span><span style=\"font-weight: bold\">]</span> No such file \n",
       "or directory\n",
       "</pre>\n"
      ],
      "text/plain": [
       "\u001b[38;2;255;0;0m╭─\u001b[0m\u001b[38;2;255;0;0m──────────────────────────────\u001b[0m\u001b[38;2;255;0;0m \u001b[0m\u001b[1;38;2;255;0;0mTraceback \u001b[0m\u001b[1;2;38;2;255;0;0m(most recent call last)\u001b[0m\u001b[38;2;255;0;0m \u001b[0m\u001b[38;2;255;0;0m───────────────────────────────\u001b[0m\u001b[38;2;255;0;0m─╮\u001b[0m\n",
       "\u001b[38;2;255;0;0m│\u001b[0m \u001b[2;33m/home/ec2-user/anaconda3/envs/python3/lib/python3.10/site-packages/geopandas/io/\u001b[0m\u001b[1;33marrow.py\u001b[0m:\u001b[94m653\u001b[0m in  \u001b[38;2;255;0;0m│\u001b[0m\n",
       "\u001b[38;2;255;0;0m│\u001b[0m \u001b[92m_read_parquet_schema_and_metadata\u001b[0m                                                                \u001b[38;2;255;0;0m│\u001b[0m\n",
       "\u001b[38;2;255;0;0m│\u001b[0m                                                                                                  \u001b[38;2;255;0;0m│\u001b[0m\n",
       "\u001b[38;2;255;0;0m│\u001b[0m   \u001b[2m650 \u001b[0m\u001b[2m│   │   \u001b[0mkwargs = \u001b[96mdict\u001b[0m(use_legacy_dataset=\u001b[94mFalse\u001b[0m)                                            \u001b[38;2;255;0;0m│\u001b[0m\n",
       "\u001b[38;2;255;0;0m│\u001b[0m   \u001b[2m651 \u001b[0m\u001b[2m│   \u001b[0m                                                                                       \u001b[38;2;255;0;0m│\u001b[0m\n",
       "\u001b[38;2;255;0;0m│\u001b[0m   \u001b[2m652 \u001b[0m\u001b[2m│   \u001b[0m\u001b[94mtry\u001b[0m:                                                                                   \u001b[38;2;255;0;0m│\u001b[0m\n",
       "\u001b[38;2;255;0;0m│\u001b[0m \u001b[31m❱ \u001b[0m653 \u001b[2m│   │   \u001b[0mschema = parquet.ParquetDataset(path, filesystem=filesystem, **kwargs).schema      \u001b[38;2;255;0;0m│\u001b[0m\n",
       "\u001b[38;2;255;0;0m│\u001b[0m   \u001b[2m654 \u001b[0m\u001b[2m│   \u001b[0m\u001b[94mexcept\u001b[0m \u001b[96mException\u001b[0m:                                                                      \u001b[38;2;255;0;0m│\u001b[0m\n",
       "\u001b[38;2;255;0;0m│\u001b[0m   \u001b[2m655 \u001b[0m\u001b[2m│   │   \u001b[0mschema = parquet.read_schema(path, filesystem=filesystem)                          \u001b[38;2;255;0;0m│\u001b[0m\n",
       "\u001b[38;2;255;0;0m│\u001b[0m   \u001b[2m656 \u001b[0m                                                                                           \u001b[38;2;255;0;0m│\u001b[0m\n",
       "\u001b[38;2;255;0;0m│\u001b[0m                                                                                                  \u001b[38;2;255;0;0m│\u001b[0m\n",
       "\u001b[38;2;255;0;0m│\u001b[0m \u001b[2;33m/home/ec2-user/anaconda3/envs/python3/lib/python3.10/site-packages/pyarrow/parquet/\u001b[0m\u001b[1;33mcore.py\u001b[0m:\u001b[94m1371\u001b[0m  \u001b[38;2;255;0;0m│\u001b[0m\n",
       "\u001b[38;2;255;0;0m│\u001b[0m in \u001b[92m__init__\u001b[0m                                                                                      \u001b[38;2;255;0;0m│\u001b[0m\n",
       "\u001b[38;2;255;0;0m│\u001b[0m                                                                                                  \u001b[38;2;255;0;0m│\u001b[0m\n",
       "\u001b[38;2;255;0;0m│\u001b[0m   \u001b[2m1368 \u001b[0m\u001b[2m│   │   │   \u001b[0mpartitioning = ds.HivePartitioning.discover(                                  \u001b[38;2;255;0;0m│\u001b[0m\n",
       "\u001b[38;2;255;0;0m│\u001b[0m   \u001b[2m1369 \u001b[0m\u001b[2m│   │   │   │   \u001b[0minfer_dictionary=\u001b[94mTrue\u001b[0m)                                                    \u001b[38;2;255;0;0m│\u001b[0m\n",
       "\u001b[38;2;255;0;0m│\u001b[0m   \u001b[2m1370 \u001b[0m\u001b[2m│   │   \u001b[0m                                                                                  \u001b[38;2;255;0;0m│\u001b[0m\n",
       "\u001b[38;2;255;0;0m│\u001b[0m \u001b[31m❱ \u001b[0m1371 \u001b[2m│   │   \u001b[0m\u001b[96mself\u001b[0m._dataset = ds.dataset(path_or_paths, filesystem=filesystem,                  \u001b[38;2;255;0;0m│\u001b[0m\n",
       "\u001b[38;2;255;0;0m│\u001b[0m   \u001b[2m1372 \u001b[0m\u001b[2m│   │   │   │   │   │   │   │      \u001b[0mschema=schema, \u001b[96mformat\u001b[0m=parquet_format,                  \u001b[38;2;255;0;0m│\u001b[0m\n",
       "\u001b[38;2;255;0;0m│\u001b[0m   \u001b[2m1373 \u001b[0m\u001b[2m│   │   │   │   │   │   │   │      \u001b[0mpartitioning=partitioning,                             \u001b[38;2;255;0;0m│\u001b[0m\n",
       "\u001b[38;2;255;0;0m│\u001b[0m   \u001b[2m1374 \u001b[0m\u001b[2m│   │   │   │   │   │   │   │      \u001b[0mignore_prefixes=ignore_prefixes)                       \u001b[38;2;255;0;0m│\u001b[0m\n",
       "\u001b[38;2;255;0;0m│\u001b[0m                                                                                                  \u001b[38;2;255;0;0m│\u001b[0m\n",
       "\u001b[38;2;255;0;0m│\u001b[0m \u001b[2;33m/home/ec2-user/anaconda3/envs/python3/lib/python3.10/site-packages/pyarrow/\u001b[0m\u001b[1;33mdataset.py\u001b[0m:\u001b[94m794\u001b[0m in     \u001b[38;2;255;0;0m│\u001b[0m\n",
       "\u001b[38;2;255;0;0m│\u001b[0m \u001b[92mdataset\u001b[0m                                                                                          \u001b[38;2;255;0;0m│\u001b[0m\n",
       "\u001b[38;2;255;0;0m│\u001b[0m                                                                                                  \u001b[38;2;255;0;0m│\u001b[0m\n",
       "\u001b[38;2;255;0;0m│\u001b[0m   \u001b[2m 791 \u001b[0m\u001b[2m│   \u001b[0m)                                                                                     \u001b[38;2;255;0;0m│\u001b[0m\n",
       "\u001b[38;2;255;0;0m│\u001b[0m   \u001b[2m 792 \u001b[0m\u001b[2m│   \u001b[0m                                                                                      \u001b[38;2;255;0;0m│\u001b[0m\n",
       "\u001b[38;2;255;0;0m│\u001b[0m   \u001b[2m 793 \u001b[0m\u001b[2m│   \u001b[0m\u001b[94mif\u001b[0m _is_path_like(source):                                                             \u001b[38;2;255;0;0m│\u001b[0m\n",
       "\u001b[38;2;255;0;0m│\u001b[0m \u001b[31m❱ \u001b[0m 794 \u001b[2m│   │   \u001b[0m\u001b[94mreturn\u001b[0m _filesystem_dataset(source, **kwargs)                                      \u001b[38;2;255;0;0m│\u001b[0m\n",
       "\u001b[38;2;255;0;0m│\u001b[0m   \u001b[2m 795 \u001b[0m\u001b[2m│   \u001b[0m\u001b[94melif\u001b[0m \u001b[96misinstance\u001b[0m(source, (\u001b[96mtuple\u001b[0m, \u001b[96mlist\u001b[0m)):                                               \u001b[38;2;255;0;0m│\u001b[0m\n",
       "\u001b[38;2;255;0;0m│\u001b[0m   \u001b[2m 796 \u001b[0m\u001b[2m│   │   \u001b[0m\u001b[94mif\u001b[0m \u001b[96mall\u001b[0m(_is_path_like(elem) \u001b[95mor\u001b[0m \u001b[96misinstance\u001b[0m(elem, FileInfo) \u001b[94mfor\u001b[0m elem \u001b[95min\u001b[0m source):     \u001b[38;2;255;0;0m│\u001b[0m\n",
       "\u001b[38;2;255;0;0m│\u001b[0m   \u001b[2m 797 \u001b[0m\u001b[2m│   │   │   \u001b[0m\u001b[94mreturn\u001b[0m _filesystem_dataset(source, **kwargs)                                  \u001b[38;2;255;0;0m│\u001b[0m\n",
       "\u001b[38;2;255;0;0m│\u001b[0m                                                                                                  \u001b[38;2;255;0;0m│\u001b[0m\n",
       "\u001b[38;2;255;0;0m│\u001b[0m \u001b[2;33m/home/ec2-user/anaconda3/envs/python3/lib/python3.10/site-packages/pyarrow/\u001b[0m\u001b[1;33mdataset.py\u001b[0m:\u001b[94m476\u001b[0m in     \u001b[38;2;255;0;0m│\u001b[0m\n",
       "\u001b[38;2;255;0;0m│\u001b[0m \u001b[92m_filesystem_dataset\u001b[0m                                                                              \u001b[38;2;255;0;0m│\u001b[0m\n",
       "\u001b[38;2;255;0;0m│\u001b[0m                                                                                                  \u001b[38;2;255;0;0m│\u001b[0m\n",
       "\u001b[38;2;255;0;0m│\u001b[0m   \u001b[2m 473 \u001b[0m\u001b[2m│   │   \u001b[0m\u001b[94melse\u001b[0m:                                                                             \u001b[38;2;255;0;0m│\u001b[0m\n",
       "\u001b[38;2;255;0;0m│\u001b[0m   \u001b[2m 474 \u001b[0m\u001b[2m│   │   │   \u001b[0mfs, paths_or_selector = _ensure_multiple_sources(source, filesystem)          \u001b[38;2;255;0;0m│\u001b[0m\n",
       "\u001b[38;2;255;0;0m│\u001b[0m   \u001b[2m 475 \u001b[0m\u001b[2m│   \u001b[0m\u001b[94melse\u001b[0m:                                                                                 \u001b[38;2;255;0;0m│\u001b[0m\n",
       "\u001b[38;2;255;0;0m│\u001b[0m \u001b[31m❱ \u001b[0m 476 \u001b[2m│   │   \u001b[0mfs, paths_or_selector = _ensure_single_source(source, filesystem)                 \u001b[38;2;255;0;0m│\u001b[0m\n",
       "\u001b[38;2;255;0;0m│\u001b[0m   \u001b[2m 477 \u001b[0m\u001b[2m│   \u001b[0m                                                                                      \u001b[38;2;255;0;0m│\u001b[0m\n",
       "\u001b[38;2;255;0;0m│\u001b[0m   \u001b[2m 478 \u001b[0m\u001b[2m│   \u001b[0moptions = FileSystemFactoryOptions(                                                   \u001b[38;2;255;0;0m│\u001b[0m\n",
       "\u001b[38;2;255;0;0m│\u001b[0m   \u001b[2m 479 \u001b[0m\u001b[2m│   │   \u001b[0mpartitioning=partitioning,                                                        \u001b[38;2;255;0;0m│\u001b[0m\n",
       "\u001b[38;2;255;0;0m│\u001b[0m                                                                                                  \u001b[38;2;255;0;0m│\u001b[0m\n",
       "\u001b[38;2;255;0;0m│\u001b[0m \u001b[2;33m/home/ec2-user/anaconda3/envs/python3/lib/python3.10/site-packages/pyarrow/\u001b[0m\u001b[1;33mdataset.py\u001b[0m:\u001b[94m441\u001b[0m in     \u001b[38;2;255;0;0m│\u001b[0m\n",
       "\u001b[38;2;255;0;0m│\u001b[0m \u001b[92m_ensure_single_source\u001b[0m                                                                            \u001b[38;2;255;0;0m│\u001b[0m\n",
       "\u001b[38;2;255;0;0m│\u001b[0m                                                                                                  \u001b[38;2;255;0;0m│\u001b[0m\n",
       "\u001b[38;2;255;0;0m│\u001b[0m   \u001b[2m 438 \u001b[0m\u001b[2m│   \u001b[0m\u001b[94melif\u001b[0m file_info.type == FileType.File:                                                 \u001b[38;2;255;0;0m│\u001b[0m\n",
       "\u001b[38;2;255;0;0m│\u001b[0m   \u001b[2m 439 \u001b[0m\u001b[2m│   │   \u001b[0mpaths_or_selector = [path]                                                        \u001b[38;2;255;0;0m│\u001b[0m\n",
       "\u001b[38;2;255;0;0m│\u001b[0m   \u001b[2m 440 \u001b[0m\u001b[2m│   \u001b[0m\u001b[94melse\u001b[0m:                                                                                 \u001b[38;2;255;0;0m│\u001b[0m\n",
       "\u001b[38;2;255;0;0m│\u001b[0m \u001b[31m❱ \u001b[0m 441 \u001b[2m│   │   \u001b[0m\u001b[94mraise\u001b[0m \u001b[96mFileNotFoundError\u001b[0m(path)                                                     \u001b[38;2;255;0;0m│\u001b[0m\n",
       "\u001b[38;2;255;0;0m│\u001b[0m   \u001b[2m 442 \u001b[0m\u001b[2m│   \u001b[0m                                                                                      \u001b[38;2;255;0;0m│\u001b[0m\n",
       "\u001b[38;2;255;0;0m│\u001b[0m   \u001b[2m 443 \u001b[0m\u001b[2m│   \u001b[0m\u001b[94mreturn\u001b[0m filesystem, paths_or_selector                                                  \u001b[38;2;255;0;0m│\u001b[0m\n",
       "\u001b[38;2;255;0;0m│\u001b[0m   \u001b[2m 444 \u001b[0m                                                                                          \u001b[38;2;255;0;0m│\u001b[0m\n",
       "\u001b[38;2;255;0;0m╰──────────────────────────────────────────────────────────────────────────────────────────────────╯\u001b[0m\n",
       "\u001b[1;91mFileNotFoundError: \u001b[0maws-geofm-data-bucket-\u001b[1;36m785721480234\u001b[0m-us-west-\u001b[1;36m2\u001b[0m-dev/output/brazil-mato-grosso/meta\n",
       "\n",
       "\u001b[3mDuring handling of the above exception, another exception occurred:\u001b[0m\n",
       "\n",
       "\u001b[38;2;255;0;0m╭─\u001b[0m\u001b[38;2;255;0;0m──────────────────────────────\u001b[0m\u001b[38;2;255;0;0m \u001b[0m\u001b[1;38;2;255;0;0mTraceback \u001b[0m\u001b[1;2;38;2;255;0;0m(most recent call last)\u001b[0m\u001b[38;2;255;0;0m \u001b[0m\u001b[38;2;255;0;0m───────────────────────────────\u001b[0m\u001b[38;2;255;0;0m─╮\u001b[0m\n",
       "\u001b[38;2;255;0;0m│\u001b[0m in \u001b[92m<module>\u001b[0m:\u001b[94m2\u001b[0m                                                                                    \u001b[38;2;255;0;0m│\u001b[0m\n",
       "\u001b[38;2;255;0;0m│\u001b[0m                                                                                                  \u001b[38;2;255;0;0m│\u001b[0m\n",
       "\u001b[38;2;255;0;0m│\u001b[0m   \u001b[2m1 \u001b[0ms3_destination_meta=\u001b[33mf\u001b[0m\u001b[33m'\u001b[0m\u001b[33ms3://\u001b[0m\u001b[33m{\u001b[0mbucket_name\u001b[33m}\u001b[0m\u001b[33m/output/\u001b[0m\u001b[33m{\u001b[0maoi_name\u001b[33m}\u001b[0m\u001b[33m/meta/\u001b[0m\u001b[33m'\u001b[0m                            \u001b[38;2;255;0;0m│\u001b[0m\n",
       "\u001b[38;2;255;0;0m│\u001b[0m \u001b[31m❱ \u001b[0m2 meta_files = gpd.read_parquet(s3_destination_meta)                                           \u001b[38;2;255;0;0m│\u001b[0m\n",
       "\u001b[38;2;255;0;0m│\u001b[0m   \u001b[2m3 \u001b[0m                                                                                             \u001b[38;2;255;0;0m│\u001b[0m\n",
       "\u001b[38;2;255;0;0m│\u001b[0m                                                                                                  \u001b[38;2;255;0;0m│\u001b[0m\n",
       "\u001b[38;2;255;0;0m│\u001b[0m \u001b[2;33m/home/ec2-user/anaconda3/envs/python3/lib/python3.10/site-packages/geopandas/io/\u001b[0m\u001b[1;33marrow.py\u001b[0m:\u001b[94m751\u001b[0m in  \u001b[38;2;255;0;0m│\u001b[0m\n",
       "\u001b[38;2;255;0;0m│\u001b[0m \u001b[92m_read_parquet\u001b[0m                                                                                    \u001b[38;2;255;0;0m│\u001b[0m\n",
       "\u001b[38;2;255;0;0m│\u001b[0m                                                                                                  \u001b[38;2;255;0;0m│\u001b[0m\n",
       "\u001b[38;2;255;0;0m│\u001b[0m   \u001b[2m748 \u001b[0m\u001b[2m│   │   \u001b[0mpath, filesystem=filesystem, storage_options=storage_options                       \u001b[38;2;255;0;0m│\u001b[0m\n",
       "\u001b[38;2;255;0;0m│\u001b[0m   \u001b[2m749 \u001b[0m\u001b[2m│   \u001b[0m)                                                                                      \u001b[38;2;255;0;0m│\u001b[0m\n",
       "\u001b[38;2;255;0;0m│\u001b[0m   \u001b[2m750 \u001b[0m\u001b[2m│   \u001b[0mpath = _expand_user(path)                                                              \u001b[38;2;255;0;0m│\u001b[0m\n",
       "\u001b[38;2;255;0;0m│\u001b[0m \u001b[31m❱ \u001b[0m751 \u001b[2m│   \u001b[0mschema, metadata = _read_parquet_schema_and_metadata(path, filesystem)                 \u001b[38;2;255;0;0m│\u001b[0m\n",
       "\u001b[38;2;255;0;0m│\u001b[0m   \u001b[2m752 \u001b[0m\u001b[2m│   \u001b[0m                                                                                       \u001b[38;2;255;0;0m│\u001b[0m\n",
       "\u001b[38;2;255;0;0m│\u001b[0m   \u001b[2m753 \u001b[0m\u001b[2m│   \u001b[0mgeo_metadata = _validate_and_decode_metadata(metadata)                                 \u001b[38;2;255;0;0m│\u001b[0m\n",
       "\u001b[38;2;255;0;0m│\u001b[0m   \u001b[2m754 \u001b[0m                                                                                           \u001b[38;2;255;0;0m│\u001b[0m\n",
       "\u001b[38;2;255;0;0m│\u001b[0m                                                                                                  \u001b[38;2;255;0;0m│\u001b[0m\n",
       "\u001b[38;2;255;0;0m│\u001b[0m \u001b[2;33m/home/ec2-user/anaconda3/envs/python3/lib/python3.10/site-packages/geopandas/io/\u001b[0m\u001b[1;33marrow.py\u001b[0m:\u001b[94m655\u001b[0m in  \u001b[38;2;255;0;0m│\u001b[0m\n",
       "\u001b[38;2;255;0;0m│\u001b[0m \u001b[92m_read_parquet_schema_and_metadata\u001b[0m                                                                \u001b[38;2;255;0;0m│\u001b[0m\n",
       "\u001b[38;2;255;0;0m│\u001b[0m                                                                                                  \u001b[38;2;255;0;0m│\u001b[0m\n",
       "\u001b[38;2;255;0;0m│\u001b[0m   \u001b[2m652 \u001b[0m\u001b[2m│   \u001b[0m\u001b[94mtry\u001b[0m:                                                                                   \u001b[38;2;255;0;0m│\u001b[0m\n",
       "\u001b[38;2;255;0;0m│\u001b[0m   \u001b[2m653 \u001b[0m\u001b[2m│   │   \u001b[0mschema = parquet.ParquetDataset(path, filesystem=filesystem, **kwargs).schema      \u001b[38;2;255;0;0m│\u001b[0m\n",
       "\u001b[38;2;255;0;0m│\u001b[0m   \u001b[2m654 \u001b[0m\u001b[2m│   \u001b[0m\u001b[94mexcept\u001b[0m \u001b[96mException\u001b[0m:                                                                      \u001b[38;2;255;0;0m│\u001b[0m\n",
       "\u001b[38;2;255;0;0m│\u001b[0m \u001b[31m❱ \u001b[0m655 \u001b[2m│   │   \u001b[0mschema = parquet.read_schema(path, filesystem=filesystem)                          \u001b[38;2;255;0;0m│\u001b[0m\n",
       "\u001b[38;2;255;0;0m│\u001b[0m   \u001b[2m656 \u001b[0m\u001b[2m│   \u001b[0m                                                                                       \u001b[38;2;255;0;0m│\u001b[0m\n",
       "\u001b[38;2;255;0;0m│\u001b[0m   \u001b[2m657 \u001b[0m\u001b[2m│   \u001b[0mmetadata = schema.metadata                                                             \u001b[38;2;255;0;0m│\u001b[0m\n",
       "\u001b[38;2;255;0;0m│\u001b[0m   \u001b[2m658 \u001b[0m                                                                                           \u001b[38;2;255;0;0m│\u001b[0m\n",
       "\u001b[38;2;255;0;0m│\u001b[0m                                                                                                  \u001b[38;2;255;0;0m│\u001b[0m\n",
       "\u001b[38;2;255;0;0m│\u001b[0m \u001b[2;33m/home/ec2-user/anaconda3/envs/python3/lib/python3.10/site-packages/pyarrow/parquet/\u001b[0m\u001b[1;33mcore.py\u001b[0m:\u001b[94m2342\u001b[0m  \u001b[38;2;255;0;0m│\u001b[0m\n",
       "\u001b[38;2;255;0;0m│\u001b[0m in \u001b[92mread_schema\u001b[0m                                                                                   \u001b[38;2;255;0;0m│\u001b[0m\n",
       "\u001b[38;2;255;0;0m│\u001b[0m                                                                                                  \u001b[38;2;255;0;0m│\u001b[0m\n",
       "\u001b[38;2;255;0;0m│\u001b[0m   \u001b[2m2339 \u001b[0m\u001b[2m│   \u001b[0mfilesystem, where = _resolve_filesystem_and_path(where, filesystem)                   \u001b[38;2;255;0;0m│\u001b[0m\n",
       "\u001b[38;2;255;0;0m│\u001b[0m   \u001b[2m2340 \u001b[0m\u001b[2m│   \u001b[0mfile_ctx = nullcontext()                                                              \u001b[38;2;255;0;0m│\u001b[0m\n",
       "\u001b[38;2;255;0;0m│\u001b[0m   \u001b[2m2341 \u001b[0m\u001b[2m│   \u001b[0m\u001b[94mif\u001b[0m filesystem \u001b[95mis\u001b[0m \u001b[95mnot\u001b[0m \u001b[94mNone\u001b[0m:                                                            \u001b[38;2;255;0;0m│\u001b[0m\n",
       "\u001b[38;2;255;0;0m│\u001b[0m \u001b[31m❱ \u001b[0m2342 \u001b[2m│   │   \u001b[0mfile_ctx = where = filesystem.open_input_file(where)                              \u001b[38;2;255;0;0m│\u001b[0m\n",
       "\u001b[38;2;255;0;0m│\u001b[0m   \u001b[2m2343 \u001b[0m\u001b[2m│   \u001b[0m                                                                                      \u001b[38;2;255;0;0m│\u001b[0m\n",
       "\u001b[38;2;255;0;0m│\u001b[0m   \u001b[2m2344 \u001b[0m\u001b[2m│   \u001b[0m\u001b[94mwith\u001b[0m file_ctx:                                                                        \u001b[38;2;255;0;0m│\u001b[0m\n",
       "\u001b[38;2;255;0;0m│\u001b[0m   \u001b[2m2345 \u001b[0m\u001b[2m│   │   \u001b[0mfile = ParquetFile(                                                               \u001b[38;2;255;0;0m│\u001b[0m\n",
       "\u001b[38;2;255;0;0m│\u001b[0m                                                                                                  \u001b[38;2;255;0;0m│\u001b[0m\n",
       "\u001b[38;2;255;0;0m│\u001b[0m in \u001b[92mpyarrow._fs.FileSystem.open_input_file\u001b[0m:\u001b[94m789\u001b[0m                                                    \u001b[38;2;255;0;0m│\u001b[0m\n",
       "\u001b[38;2;255;0;0m│\u001b[0m                                                                                                  \u001b[38;2;255;0;0m│\u001b[0m\n",
       "\u001b[38;2;255;0;0m│\u001b[0m in \u001b[92mpyarrow.lib.pyarrow_internal_check_status\u001b[0m:\u001b[94m155\u001b[0m                                                 \u001b[38;2;255;0;0m│\u001b[0m\n",
       "\u001b[38;2;255;0;0m│\u001b[0m                                                                                                  \u001b[38;2;255;0;0m│\u001b[0m\n",
       "\u001b[38;2;255;0;0m│\u001b[0m in \u001b[92mpyarrow.lib.check_status\u001b[0m:\u001b[94m92\u001b[0m                                                                   \u001b[38;2;255;0;0m│\u001b[0m\n",
       "\u001b[38;2;255;0;0m╰──────────────────────────────────────────────────────────────────────────────────────────────────╯\u001b[0m\n",
       "\u001b[1;91mFileNotFoundError: \u001b[0m\u001b[1m[\u001b[0mErrno \u001b[1;36m2\u001b[0m\u001b[1m]\u001b[0m Path does not exist \n",
       "\u001b[38;2;0;135;0m'aws-geofm-data-bucket-785721480234-us-west-2-dev/output/brazil-mato-grosso/meta'\u001b[0m. Detail: \u001b[1m[\u001b[0merrno \u001b[1;36m2\u001b[0m\u001b[1m]\u001b[0m No such file \n",
       "or directory\n"
      ]
     },
     "metadata": {},
     "output_type": "display_data"
    }
   ],
   "source": [
    "s3_destination_meta=f's3://{bucket_name}/output/{aoi_name}/meta/'\n",
    "meta_files = gpd.read_parquet(s3_destination_meta)"
   ]
  },
  {
   "cell_type": "markdown",
   "id": "3dc435df-aa34-40b4-8545-86d31eb08cbb",
   "metadata": {},
   "source": [
    "__Check Data Cubes__\n",
    "\n",
    "Retrieve & Combine Scenes for a single chip into Data Cube with Dimensions (time, x, y)"
   ]
  },
  {
   "cell_type": "code",
   "execution_count": null,
   "id": "9c0eff0c-fe5c-434a-a762-f294cf88d383",
   "metadata": {
    "tags": []
   },
   "outputs": [],
   "source": [
    "x_tile_num = len(meta_files[\"x_dim\"].unique())\n",
    "y_tile_num = len(meta_files[\"y_dim\"].unique())\n",
    "time_num = len(meta_files[\"date\"].unique())\n",
    "print(f\"Tile has been split into {x_tile_num} by {y_tile_num} chips\")"
   ]
  },
  {
   "cell_type": "code",
   "execution_count": null,
   "id": "76c30831-a9b4-4fb2-8987-636a9c5214bd",
   "metadata": {
    "tags": []
   },
   "outputs": [],
   "source": [
    "x=20\n",
    "y=20\n",
    "chips = meta_files[(meta_files[\"x_dim\"]==x)&(meta_files[\"y_dim\"]==y)]"
   ]
  },
  {
   "cell_type": "code",
   "execution_count": null,
   "id": "1d47bc87-68d8-46ef-bcde-52455e764489",
   "metadata": {
    "tags": []
   },
   "outputs": [],
   "source": [
    "print(\"Date range covered: {} to {}\".format(chips[\"date\"].min(),chips[\"date\"].max()))"
   ]
  },
  {
   "cell_type": "code",
   "execution_count": null,
   "id": "4c1b5c31-43dc-4ece-bced-28054b8bdf4c",
   "metadata": {
    "tags": []
   },
   "outputs": [],
   "source": [
    "!pip install -q xarray"
   ]
  },
  {
   "cell_type": "code",
   "execution_count": 33,
   "id": "a109dd8f-664e-486b-8a7d-dccfceaca64a",
   "metadata": {
    "tags": []
   },
   "outputs": [
    {
     "data": {
      "text/html": [
       "<pre style=\"white-space:pre;overflow-x:auto;line-height:normal;font-family:Menlo,'DejaVu Sans Mono',consolas,'Courier New',monospace\"><span style=\"color: #ff0000; text-decoration-color: #ff0000\">╭─────────────────────────────── </span><span style=\"color: #ff0000; text-decoration-color: #ff0000; font-weight: bold\">Traceback </span><span style=\"color: #ff7f7f; text-decoration-color: #ff7f7f; font-weight: bold\">(most recent call last)</span><span style=\"color: #ff0000; text-decoration-color: #ff0000\"> ────────────────────────────────╮</span>\n",
       "<span style=\"color: #ff0000; text-decoration-color: #ff0000\">│</span> in <span style=\"color: #00ff00; text-decoration-color: #00ff00\">&lt;module&gt;</span>:<span style=\"color: #0000ff; text-decoration-color: #0000ff\">2</span>                                                                                    <span style=\"color: #ff0000; text-decoration-color: #ff0000\">│</span>\n",
       "<span style=\"color: #ff0000; text-decoration-color: #ff0000\">│</span>                                                                                                  <span style=\"color: #ff0000; text-decoration-color: #ff0000\">│</span>\n",
       "<span style=\"color: #ff0000; text-decoration-color: #ff0000\">│</span>   <span style=\"color: #7f7f7f; text-decoration-color: #7f7f7f\"> 1 </span><span style=\"color: #0000ff; text-decoration-color: #0000ff\">import</span><span style=\"color: #808080; text-decoration-color: #808080\"> </span><span style=\"color: #00ffff; text-decoration-color: #00ffff; text-decoration: underline\">fsspec</span>                                                                               <span style=\"color: #ff0000; text-decoration-color: #ff0000\">│</span>\n",
       "<span style=\"color: #ff0000; text-decoration-color: #ff0000\">│</span> <span style=\"color: #800000; text-decoration-color: #800000\">❱ </span> 2 <span style=\"color: #0000ff; text-decoration-color: #0000ff\">import</span><span style=\"color: #808080; text-decoration-color: #808080\"> </span><span style=\"color: #00ffff; text-decoration-color: #00ffff; text-decoration: underline\">xarray</span><span style=\"color: #808080; text-decoration-color: #808080\"> </span><span style=\"color: #0000ff; text-decoration-color: #0000ff\">as</span><span style=\"color: #808080; text-decoration-color: #808080\"> </span><span style=\"color: #00ffff; text-decoration-color: #00ffff; text-decoration: underline\">xr</span>                                                                         <span style=\"color: #ff0000; text-decoration-color: #ff0000\">│</span>\n",
       "<span style=\"color: #ff0000; text-decoration-color: #ff0000\">│</span>   <span style=\"color: #7f7f7f; text-decoration-color: #7f7f7f\"> 3 </span>scenes=[]                                                                                   <span style=\"color: #ff0000; text-decoration-color: #ff0000\">│</span>\n",
       "<span style=\"color: #ff0000; text-decoration-color: #ff0000\">│</span>   <span style=\"color: #7f7f7f; text-decoration-color: #7f7f7f\"> 4 </span><span style=\"color: #0000ff; text-decoration-color: #0000ff\">for</span> file <span style=\"color: #ff00ff; text-decoration-color: #ff00ff\">in</span> <span style=\"color: #00ffff; text-decoration-color: #00ffff\">list</span>(chips[<span style=\"color: #808000; text-decoration-color: #808000\">\"s3_location_netcdf\"</span>]):                                              <span style=\"color: #ff0000; text-decoration-color: #ff0000\">│</span>\n",
       "<span style=\"color: #ff0000; text-decoration-color: #ff0000\">│</span>   <span style=\"color: #7f7f7f; text-decoration-color: #7f7f7f\"> 5 </span><span style=\"color: #7f7f7f; text-decoration-color: #7f7f7f\">│   </span><span style=\"color: #0000ff; text-decoration-color: #0000ff\">with</span> fsspec.open(file) <span style=\"color: #0000ff; text-decoration-color: #0000ff\">as</span> f:                                                            <span style=\"color: #ff0000; text-decoration-color: #ff0000\">│</span>\n",
       "<span style=\"color: #ff0000; text-decoration-color: #ff0000\">╰──────────────────────────────────────────────────────────────────────────────────────────────────╯</span>\n",
       "<span style=\"color: #ff0000; text-decoration-color: #ff0000; font-weight: bold\">ModuleNotFoundError: </span>No module named <span style=\"color: #008700; text-decoration-color: #008700\">'xarray'</span>\n",
       "</pre>\n"
      ],
      "text/plain": [
       "\u001b[38;2;255;0;0m╭─\u001b[0m\u001b[38;2;255;0;0m──────────────────────────────\u001b[0m\u001b[38;2;255;0;0m \u001b[0m\u001b[1;38;2;255;0;0mTraceback \u001b[0m\u001b[1;2;38;2;255;0;0m(most recent call last)\u001b[0m\u001b[38;2;255;0;0m \u001b[0m\u001b[38;2;255;0;0m───────────────────────────────\u001b[0m\u001b[38;2;255;0;0m─╮\u001b[0m\n",
       "\u001b[38;2;255;0;0m│\u001b[0m in \u001b[92m<module>\u001b[0m:\u001b[94m2\u001b[0m                                                                                    \u001b[38;2;255;0;0m│\u001b[0m\n",
       "\u001b[38;2;255;0;0m│\u001b[0m                                                                                                  \u001b[38;2;255;0;0m│\u001b[0m\n",
       "\u001b[38;2;255;0;0m│\u001b[0m   \u001b[2m 1 \u001b[0m\u001b[94mimport\u001b[0m\u001b[90m \u001b[0m\u001b[4;96mfsspec\u001b[0m                                                                               \u001b[38;2;255;0;0m│\u001b[0m\n",
       "\u001b[38;2;255;0;0m│\u001b[0m \u001b[31m❱ \u001b[0m 2 \u001b[94mimport\u001b[0m\u001b[90m \u001b[0m\u001b[4;96mxarray\u001b[0m\u001b[90m \u001b[0m\u001b[94mas\u001b[0m\u001b[90m \u001b[0m\u001b[4;96mxr\u001b[0m                                                                         \u001b[38;2;255;0;0m│\u001b[0m\n",
       "\u001b[38;2;255;0;0m│\u001b[0m   \u001b[2m 3 \u001b[0mscenes=[]                                                                                   \u001b[38;2;255;0;0m│\u001b[0m\n",
       "\u001b[38;2;255;0;0m│\u001b[0m   \u001b[2m 4 \u001b[0m\u001b[94mfor\u001b[0m file \u001b[95min\u001b[0m \u001b[96mlist\u001b[0m(chips[\u001b[33m\"\u001b[0m\u001b[33ms3_location_netcdf\u001b[0m\u001b[33m\"\u001b[0m]):                                              \u001b[38;2;255;0;0m│\u001b[0m\n",
       "\u001b[38;2;255;0;0m│\u001b[0m   \u001b[2m 5 \u001b[0m\u001b[2m│   \u001b[0m\u001b[94mwith\u001b[0m fsspec.open(file) \u001b[94mas\u001b[0m f:                                                            \u001b[38;2;255;0;0m│\u001b[0m\n",
       "\u001b[38;2;255;0;0m╰──────────────────────────────────────────────────────────────────────────────────────────────────╯\u001b[0m\n",
       "\u001b[1;91mModuleNotFoundError: \u001b[0mNo module named \u001b[38;2;0;135;0m'xarray'\u001b[0m\n"
      ]
     },
     "metadata": {},
     "output_type": "display_data"
    }
   ],
   "source": [
    "import fsspec\n",
    "import xarray as xr\n",
    "scenes=[]\n",
    "for file in list(chips[\"s3_location_netcdf\"]):\n",
    "    with fsspec.open(file) as f:\n",
    "        scene = xr.open_dataset(f,decode_coords=\"all\")\n",
    "    scenes.append(scene)\n",
    "#generate cube\n",
    "s2_chip_cube=xr.concat(objs=scenes, coords=\"minimal\", dim=\"time\",join='outer')\n",
    "s2_chip_cube= s2_chip_cube.sortby(\"time\")"
   ]
  },
  {
   "cell_type": "code",
   "execution_count": 34,
   "id": "933c7936-da8c-4b51-90c1-76473a18cff9",
   "metadata": {
    "tags": []
   },
   "outputs": [
    {
     "data": {
      "text/html": [
       "<pre style=\"white-space:pre;overflow-x:auto;line-height:normal;font-family:Menlo,'DejaVu Sans Mono',consolas,'Courier New',monospace\"><span style=\"color: #ff0000; text-decoration-color: #ff0000\">╭─────────────────────────────── </span><span style=\"color: #ff0000; text-decoration-color: #ff0000; font-weight: bold\">Traceback </span><span style=\"color: #ff7f7f; text-decoration-color: #ff7f7f; font-weight: bold\">(most recent call last)</span><span style=\"color: #ff0000; text-decoration-color: #ff0000\"> ────────────────────────────────╮</span>\n",
       "<span style=\"color: #ff0000; text-decoration-color: #ff0000\">│</span> in <span style=\"color: #00ff00; text-decoration-color: #00ff00\">&lt;module&gt;</span>:<span style=\"color: #0000ff; text-decoration-color: #0000ff\">1</span>                                                                                    <span style=\"color: #ff0000; text-decoration-color: #ff0000\">│</span>\n",
       "<span style=\"color: #ff0000; text-decoration-color: #ff0000\">│</span>                                                                                                  <span style=\"color: #ff0000; text-decoration-color: #ff0000\">│</span>\n",
       "<span style=\"color: #ff0000; text-decoration-color: #ff0000\">│</span> <span style=\"color: #800000; text-decoration-color: #800000\">❱ </span>1 <span style=\"color: #00ffff; text-decoration-color: #00ffff\">print</span>(<span style=\"color: #808000; text-decoration-color: #808000\">\"Cube dims:\"</span>, s2_chip_cube.sizes)                                                      <span style=\"color: #ff0000; text-decoration-color: #ff0000\">│</span>\n",
       "<span style=\"color: #ff0000; text-decoration-color: #ff0000\">│</span>   <span style=\"color: #7f7f7f; text-decoration-color: #7f7f7f\">2 </span><span style=\"color: #00ffff; text-decoration-color: #00ffff\">print</span>(<span style=\"color: #808000; text-decoration-color: #808000\">\"Cube crs:\"</span>, s2_chip_cube.rio.crs)                                                     <span style=\"color: #ff0000; text-decoration-color: #ff0000\">│</span>\n",
       "<span style=\"color: #ff0000; text-decoration-color: #ff0000\">│</span>   <span style=\"color: #7f7f7f; text-decoration-color: #7f7f7f\">3 </span><span style=\"color: #00ffff; text-decoration-color: #00ffff\">print</span>(<span style=\"color: #808000; text-decoration-color: #808000\">\"Cube bounds:\"</span>, s2_chip_cube.rio.bounds())                                             <span style=\"color: #ff0000; text-decoration-color: #ff0000\">│</span>\n",
       "<span style=\"color: #ff0000; text-decoration-color: #ff0000\">│</span>   <span style=\"color: #7f7f7f; text-decoration-color: #7f7f7f\">4 </span>                                                                                             <span style=\"color: #ff0000; text-decoration-color: #ff0000\">│</span>\n",
       "<span style=\"color: #ff0000; text-decoration-color: #ff0000\">╰──────────────────────────────────────────────────────────────────────────────────────────────────╯</span>\n",
       "<span style=\"color: #ff0000; text-decoration-color: #ff0000; font-weight: bold\">NameError: </span>name <span style=\"color: #008700; text-decoration-color: #008700\">'s2_chip_cube'</span> is not defined\n",
       "</pre>\n"
      ],
      "text/plain": [
       "\u001b[38;2;255;0;0m╭─\u001b[0m\u001b[38;2;255;0;0m──────────────────────────────\u001b[0m\u001b[38;2;255;0;0m \u001b[0m\u001b[1;38;2;255;0;0mTraceback \u001b[0m\u001b[1;2;38;2;255;0;0m(most recent call last)\u001b[0m\u001b[38;2;255;0;0m \u001b[0m\u001b[38;2;255;0;0m───────────────────────────────\u001b[0m\u001b[38;2;255;0;0m─╮\u001b[0m\n",
       "\u001b[38;2;255;0;0m│\u001b[0m in \u001b[92m<module>\u001b[0m:\u001b[94m1\u001b[0m                                                                                    \u001b[38;2;255;0;0m│\u001b[0m\n",
       "\u001b[38;2;255;0;0m│\u001b[0m                                                                                                  \u001b[38;2;255;0;0m│\u001b[0m\n",
       "\u001b[38;2;255;0;0m│\u001b[0m \u001b[31m❱ \u001b[0m1 \u001b[96mprint\u001b[0m(\u001b[33m\"\u001b[0m\u001b[33mCube dims:\u001b[0m\u001b[33m\"\u001b[0m, s2_chip_cube.sizes)                                                      \u001b[38;2;255;0;0m│\u001b[0m\n",
       "\u001b[38;2;255;0;0m│\u001b[0m   \u001b[2m2 \u001b[0m\u001b[96mprint\u001b[0m(\u001b[33m\"\u001b[0m\u001b[33mCube crs:\u001b[0m\u001b[33m\"\u001b[0m, s2_chip_cube.rio.crs)                                                     \u001b[38;2;255;0;0m│\u001b[0m\n",
       "\u001b[38;2;255;0;0m│\u001b[0m   \u001b[2m3 \u001b[0m\u001b[96mprint\u001b[0m(\u001b[33m\"\u001b[0m\u001b[33mCube bounds:\u001b[0m\u001b[33m\"\u001b[0m, s2_chip_cube.rio.bounds())                                             \u001b[38;2;255;0;0m│\u001b[0m\n",
       "\u001b[38;2;255;0;0m│\u001b[0m   \u001b[2m4 \u001b[0m                                                                                             \u001b[38;2;255;0;0m│\u001b[0m\n",
       "\u001b[38;2;255;0;0m╰──────────────────────────────────────────────────────────────────────────────────────────────────╯\u001b[0m\n",
       "\u001b[1;91mNameError: \u001b[0mname \u001b[38;2;0;135;0m's2_chip_cube'\u001b[0m is not defined\n"
      ]
     },
     "metadata": {},
     "output_type": "display_data"
    }
   ],
   "source": [
    "print(\"Cube dims:\", s2_chip_cube.sizes)\n",
    "print(\"Cube crs:\", s2_chip_cube.rio.crs)\n",
    "print(\"Cube bounds:\", s2_chip_cube.rio.bounds())"
   ]
  },
  {
   "cell_type": "code",
   "execution_count": null,
   "id": "d88db7b9-6f65-4367-bbdc-d0c05b7065b1",
   "metadata": {
    "tags": []
   },
   "outputs": [],
   "source": [
    "s2_chip_cube.sel(time=s2_chip_cube.time[-1]).B02.plot()"
   ]
  },
  {
   "cell_type": "markdown",
   "id": "f40791c2-15ed-48c1-a74a-780f7e1a5d8f",
   "metadata": {},
   "source": [
    "__Check Embeddings__\n",
    "\n",
    "Load embeddings and check vector size"
   ]
  },
  {
   "cell_type": "code",
   "execution_count": null,
   "id": "e3f24463-5ba7-4b1f-b867-b9bbd277cc97",
   "metadata": {
    "tags": []
   },
   "outputs": [],
   "source": [
    "import numpy as np\n",
    "from io import BytesIO\n",
    "def readEmbeddingsFromS3(s3_bucket, s3_output_object):\n",
    "    # Initialize a session using your credentials\n",
    "    s3_client = boto3.client('s3')\n",
    "\n",
    "    # Get the object from the S3 bucket\n",
    "    response = s3_client.get_object(Bucket=s3_bucket, Key=s3_output_object)\n",
    "\n",
    "    # Read the object's content into a NumPy array\n",
    "    file_content = response['Body'].read()\n",
    "    np_array = np.load(BytesIO(file_content), allow_pickle=True)\n",
    "\n",
    "    return np_array\n",
    "\n",
    "def load_embeddings(s3_paths):\n",
    "    chip_embeddings = {}\n",
    "    for f in s3_paths:\n",
    "        try:\n",
    "            bucket = f.split(\"/\")[2]\n",
    "            #print(bucket)\n",
    "            obj_path = \"/\".join(f.split(\"/\")[3:])\n",
    "            emb = readEmbeddingsFromS3(bucket, obj_path)\n",
    "            chip_embeddings[emb['s3_location_netcdf']] = emb\n",
    "        except Exception as e:\n",
    "            print(f\"Exception: {e}\")\n",
    "            print(f\"No embeddings for file {f}\")\n",
    "            \n",
    "    return chip_embeddings"
   ]
  },
  {
   "cell_type": "markdown",
   "id": "2ce9073a-9f17-4192-bb15-c8fcfa7f927a",
   "metadata": {},
   "source": [
    "__End of Notebook__"
   ]
  }
 ],
 "metadata": {
  "availableInstances": [
   {
    "_defaultOrder": 0,
    "_isFastLaunch": true,
    "category": "General purpose",
    "gpuNum": 0,
    "hideHardwareSpecs": false,
    "memoryGiB": 4,
    "name": "ml.t3.medium",
    "vcpuNum": 2
   },
   {
    "_defaultOrder": 1,
    "_isFastLaunch": false,
    "category": "General purpose",
    "gpuNum": 0,
    "hideHardwareSpecs": false,
    "memoryGiB": 8,
    "name": "ml.t3.large",
    "vcpuNum": 2
   },
   {
    "_defaultOrder": 2,
    "_isFastLaunch": false,
    "category": "General purpose",
    "gpuNum": 0,
    "hideHardwareSpecs": false,
    "memoryGiB": 16,
    "name": "ml.t3.xlarge",
    "vcpuNum": 4
   },
   {
    "_defaultOrder": 3,
    "_isFastLaunch": false,
    "category": "General purpose",
    "gpuNum": 0,
    "hideHardwareSpecs": false,
    "memoryGiB": 32,
    "name": "ml.t3.2xlarge",
    "vcpuNum": 8
   },
   {
    "_defaultOrder": 4,
    "_isFastLaunch": true,
    "category": "General purpose",
    "gpuNum": 0,
    "hideHardwareSpecs": false,
    "memoryGiB": 8,
    "name": "ml.m5.large",
    "vcpuNum": 2
   },
   {
    "_defaultOrder": 5,
    "_isFastLaunch": false,
    "category": "General purpose",
    "gpuNum": 0,
    "hideHardwareSpecs": false,
    "memoryGiB": 16,
    "name": "ml.m5.xlarge",
    "vcpuNum": 4
   },
   {
    "_defaultOrder": 6,
    "_isFastLaunch": false,
    "category": "General purpose",
    "gpuNum": 0,
    "hideHardwareSpecs": false,
    "memoryGiB": 32,
    "name": "ml.m5.2xlarge",
    "vcpuNum": 8
   },
   {
    "_defaultOrder": 7,
    "_isFastLaunch": false,
    "category": "General purpose",
    "gpuNum": 0,
    "hideHardwareSpecs": false,
    "memoryGiB": 64,
    "name": "ml.m5.4xlarge",
    "vcpuNum": 16
   },
   {
    "_defaultOrder": 8,
    "_isFastLaunch": false,
    "category": "General purpose",
    "gpuNum": 0,
    "hideHardwareSpecs": false,
    "memoryGiB": 128,
    "name": "ml.m5.8xlarge",
    "vcpuNum": 32
   },
   {
    "_defaultOrder": 9,
    "_isFastLaunch": false,
    "category": "General purpose",
    "gpuNum": 0,
    "hideHardwareSpecs": false,
    "memoryGiB": 192,
    "name": "ml.m5.12xlarge",
    "vcpuNum": 48
   },
   {
    "_defaultOrder": 10,
    "_isFastLaunch": false,
    "category": "General purpose",
    "gpuNum": 0,
    "hideHardwareSpecs": false,
    "memoryGiB": 256,
    "name": "ml.m5.16xlarge",
    "vcpuNum": 64
   },
   {
    "_defaultOrder": 11,
    "_isFastLaunch": false,
    "category": "General purpose",
    "gpuNum": 0,
    "hideHardwareSpecs": false,
    "memoryGiB": 384,
    "name": "ml.m5.24xlarge",
    "vcpuNum": 96
   },
   {
    "_defaultOrder": 12,
    "_isFastLaunch": false,
    "category": "General purpose",
    "gpuNum": 0,
    "hideHardwareSpecs": false,
    "memoryGiB": 8,
    "name": "ml.m5d.large",
    "vcpuNum": 2
   },
   {
    "_defaultOrder": 13,
    "_isFastLaunch": false,
    "category": "General purpose",
    "gpuNum": 0,
    "hideHardwareSpecs": false,
    "memoryGiB": 16,
    "name": "ml.m5d.xlarge",
    "vcpuNum": 4
   },
   {
    "_defaultOrder": 14,
    "_isFastLaunch": false,
    "category": "General purpose",
    "gpuNum": 0,
    "hideHardwareSpecs": false,
    "memoryGiB": 32,
    "name": "ml.m5d.2xlarge",
    "vcpuNum": 8
   },
   {
    "_defaultOrder": 15,
    "_isFastLaunch": false,
    "category": "General purpose",
    "gpuNum": 0,
    "hideHardwareSpecs": false,
    "memoryGiB": 64,
    "name": "ml.m5d.4xlarge",
    "vcpuNum": 16
   },
   {
    "_defaultOrder": 16,
    "_isFastLaunch": false,
    "category": "General purpose",
    "gpuNum": 0,
    "hideHardwareSpecs": false,
    "memoryGiB": 128,
    "name": "ml.m5d.8xlarge",
    "vcpuNum": 32
   },
   {
    "_defaultOrder": 17,
    "_isFastLaunch": false,
    "category": "General purpose",
    "gpuNum": 0,
    "hideHardwareSpecs": false,
    "memoryGiB": 192,
    "name": "ml.m5d.12xlarge",
    "vcpuNum": 48
   },
   {
    "_defaultOrder": 18,
    "_isFastLaunch": false,
    "category": "General purpose",
    "gpuNum": 0,
    "hideHardwareSpecs": false,
    "memoryGiB": 256,
    "name": "ml.m5d.16xlarge",
    "vcpuNum": 64
   },
   {
    "_defaultOrder": 19,
    "_isFastLaunch": false,
    "category": "General purpose",
    "gpuNum": 0,
    "hideHardwareSpecs": false,
    "memoryGiB": 384,
    "name": "ml.m5d.24xlarge",
    "vcpuNum": 96
   },
   {
    "_defaultOrder": 20,
    "_isFastLaunch": false,
    "category": "General purpose",
    "gpuNum": 0,
    "hideHardwareSpecs": true,
    "memoryGiB": 0,
    "name": "ml.geospatial.interactive",
    "supportedImageNames": [
     "sagemaker-geospatial-v1-0"
    ],
    "vcpuNum": 0
   },
   {
    "_defaultOrder": 21,
    "_isFastLaunch": true,
    "category": "Compute optimized",
    "gpuNum": 0,
    "hideHardwareSpecs": false,
    "memoryGiB": 4,
    "name": "ml.c5.large",
    "vcpuNum": 2
   },
   {
    "_defaultOrder": 22,
    "_isFastLaunch": false,
    "category": "Compute optimized",
    "gpuNum": 0,
    "hideHardwareSpecs": false,
    "memoryGiB": 8,
    "name": "ml.c5.xlarge",
    "vcpuNum": 4
   },
   {
    "_defaultOrder": 23,
    "_isFastLaunch": false,
    "category": "Compute optimized",
    "gpuNum": 0,
    "hideHardwareSpecs": false,
    "memoryGiB": 16,
    "name": "ml.c5.2xlarge",
    "vcpuNum": 8
   },
   {
    "_defaultOrder": 24,
    "_isFastLaunch": false,
    "category": "Compute optimized",
    "gpuNum": 0,
    "hideHardwareSpecs": false,
    "memoryGiB": 32,
    "name": "ml.c5.4xlarge",
    "vcpuNum": 16
   },
   {
    "_defaultOrder": 25,
    "_isFastLaunch": false,
    "category": "Compute optimized",
    "gpuNum": 0,
    "hideHardwareSpecs": false,
    "memoryGiB": 72,
    "name": "ml.c5.9xlarge",
    "vcpuNum": 36
   },
   {
    "_defaultOrder": 26,
    "_isFastLaunch": false,
    "category": "Compute optimized",
    "gpuNum": 0,
    "hideHardwareSpecs": false,
    "memoryGiB": 96,
    "name": "ml.c5.12xlarge",
    "vcpuNum": 48
   },
   {
    "_defaultOrder": 27,
    "_isFastLaunch": false,
    "category": "Compute optimized",
    "gpuNum": 0,
    "hideHardwareSpecs": false,
    "memoryGiB": 144,
    "name": "ml.c5.18xlarge",
    "vcpuNum": 72
   },
   {
    "_defaultOrder": 28,
    "_isFastLaunch": false,
    "category": "Compute optimized",
    "gpuNum": 0,
    "hideHardwareSpecs": false,
    "memoryGiB": 192,
    "name": "ml.c5.24xlarge",
    "vcpuNum": 96
   },
   {
    "_defaultOrder": 29,
    "_isFastLaunch": true,
    "category": "Accelerated computing",
    "gpuNum": 1,
    "hideHardwareSpecs": false,
    "memoryGiB": 16,
    "name": "ml.g4dn.xlarge",
    "vcpuNum": 4
   },
   {
    "_defaultOrder": 30,
    "_isFastLaunch": false,
    "category": "Accelerated computing",
    "gpuNum": 1,
    "hideHardwareSpecs": false,
    "memoryGiB": 32,
    "name": "ml.g4dn.2xlarge",
    "vcpuNum": 8
   },
   {
    "_defaultOrder": 31,
    "_isFastLaunch": false,
    "category": "Accelerated computing",
    "gpuNum": 1,
    "hideHardwareSpecs": false,
    "memoryGiB": 64,
    "name": "ml.g4dn.4xlarge",
    "vcpuNum": 16
   },
   {
    "_defaultOrder": 32,
    "_isFastLaunch": false,
    "category": "Accelerated computing",
    "gpuNum": 1,
    "hideHardwareSpecs": false,
    "memoryGiB": 128,
    "name": "ml.g4dn.8xlarge",
    "vcpuNum": 32
   },
   {
    "_defaultOrder": 33,
    "_isFastLaunch": false,
    "category": "Accelerated computing",
    "gpuNum": 4,
    "hideHardwareSpecs": false,
    "memoryGiB": 192,
    "name": "ml.g4dn.12xlarge",
    "vcpuNum": 48
   },
   {
    "_defaultOrder": 34,
    "_isFastLaunch": false,
    "category": "Accelerated computing",
    "gpuNum": 1,
    "hideHardwareSpecs": false,
    "memoryGiB": 256,
    "name": "ml.g4dn.16xlarge",
    "vcpuNum": 64
   },
   {
    "_defaultOrder": 35,
    "_isFastLaunch": false,
    "category": "Accelerated computing",
    "gpuNum": 1,
    "hideHardwareSpecs": false,
    "memoryGiB": 61,
    "name": "ml.p3.2xlarge",
    "vcpuNum": 8
   },
   {
    "_defaultOrder": 36,
    "_isFastLaunch": false,
    "category": "Accelerated computing",
    "gpuNum": 4,
    "hideHardwareSpecs": false,
    "memoryGiB": 244,
    "name": "ml.p3.8xlarge",
    "vcpuNum": 32
   },
   {
    "_defaultOrder": 37,
    "_isFastLaunch": false,
    "category": "Accelerated computing",
    "gpuNum": 8,
    "hideHardwareSpecs": false,
    "memoryGiB": 488,
    "name": "ml.p3.16xlarge",
    "vcpuNum": 64
   },
   {
    "_defaultOrder": 38,
    "_isFastLaunch": false,
    "category": "Accelerated computing",
    "gpuNum": 8,
    "hideHardwareSpecs": false,
    "memoryGiB": 768,
    "name": "ml.p3dn.24xlarge",
    "vcpuNum": 96
   },
   {
    "_defaultOrder": 39,
    "_isFastLaunch": false,
    "category": "Memory Optimized",
    "gpuNum": 0,
    "hideHardwareSpecs": false,
    "memoryGiB": 16,
    "name": "ml.r5.large",
    "vcpuNum": 2
   },
   {
    "_defaultOrder": 40,
    "_isFastLaunch": false,
    "category": "Memory Optimized",
    "gpuNum": 0,
    "hideHardwareSpecs": false,
    "memoryGiB": 32,
    "name": "ml.r5.xlarge",
    "vcpuNum": 4
   },
   {
    "_defaultOrder": 41,
    "_isFastLaunch": false,
    "category": "Memory Optimized",
    "gpuNum": 0,
    "hideHardwareSpecs": false,
    "memoryGiB": 64,
    "name": "ml.r5.2xlarge",
    "vcpuNum": 8
   },
   {
    "_defaultOrder": 42,
    "_isFastLaunch": false,
    "category": "Memory Optimized",
    "gpuNum": 0,
    "hideHardwareSpecs": false,
    "memoryGiB": 128,
    "name": "ml.r5.4xlarge",
    "vcpuNum": 16
   },
   {
    "_defaultOrder": 43,
    "_isFastLaunch": false,
    "category": "Memory Optimized",
    "gpuNum": 0,
    "hideHardwareSpecs": false,
    "memoryGiB": 256,
    "name": "ml.r5.8xlarge",
    "vcpuNum": 32
   },
   {
    "_defaultOrder": 44,
    "_isFastLaunch": false,
    "category": "Memory Optimized",
    "gpuNum": 0,
    "hideHardwareSpecs": false,
    "memoryGiB": 384,
    "name": "ml.r5.12xlarge",
    "vcpuNum": 48
   },
   {
    "_defaultOrder": 45,
    "_isFastLaunch": false,
    "category": "Memory Optimized",
    "gpuNum": 0,
    "hideHardwareSpecs": false,
    "memoryGiB": 512,
    "name": "ml.r5.16xlarge",
    "vcpuNum": 64
   },
   {
    "_defaultOrder": 46,
    "_isFastLaunch": false,
    "category": "Memory Optimized",
    "gpuNum": 0,
    "hideHardwareSpecs": false,
    "memoryGiB": 768,
    "name": "ml.r5.24xlarge",
    "vcpuNum": 96
   },
   {
    "_defaultOrder": 47,
    "_isFastLaunch": false,
    "category": "Accelerated computing",
    "gpuNum": 1,
    "hideHardwareSpecs": false,
    "memoryGiB": 16,
    "name": "ml.g5.xlarge",
    "vcpuNum": 4
   },
   {
    "_defaultOrder": 48,
    "_isFastLaunch": false,
    "category": "Accelerated computing",
    "gpuNum": 1,
    "hideHardwareSpecs": false,
    "memoryGiB": 32,
    "name": "ml.g5.2xlarge",
    "vcpuNum": 8
   },
   {
    "_defaultOrder": 49,
    "_isFastLaunch": false,
    "category": "Accelerated computing",
    "gpuNum": 1,
    "hideHardwareSpecs": false,
    "memoryGiB": 64,
    "name": "ml.g5.4xlarge",
    "vcpuNum": 16
   },
   {
    "_defaultOrder": 50,
    "_isFastLaunch": false,
    "category": "Accelerated computing",
    "gpuNum": 1,
    "hideHardwareSpecs": false,
    "memoryGiB": 128,
    "name": "ml.g5.8xlarge",
    "vcpuNum": 32
   },
   {
    "_defaultOrder": 51,
    "_isFastLaunch": false,
    "category": "Accelerated computing",
    "gpuNum": 1,
    "hideHardwareSpecs": false,
    "memoryGiB": 256,
    "name": "ml.g5.16xlarge",
    "vcpuNum": 64
   },
   {
    "_defaultOrder": 52,
    "_isFastLaunch": false,
    "category": "Accelerated computing",
    "gpuNum": 4,
    "hideHardwareSpecs": false,
    "memoryGiB": 192,
    "name": "ml.g5.12xlarge",
    "vcpuNum": 48
   },
   {
    "_defaultOrder": 53,
    "_isFastLaunch": false,
    "category": "Accelerated computing",
    "gpuNum": 4,
    "hideHardwareSpecs": false,
    "memoryGiB": 384,
    "name": "ml.g5.24xlarge",
    "vcpuNum": 96
   },
   {
    "_defaultOrder": 54,
    "_isFastLaunch": false,
    "category": "Accelerated computing",
    "gpuNum": 8,
    "hideHardwareSpecs": false,
    "memoryGiB": 768,
    "name": "ml.g5.48xlarge",
    "vcpuNum": 192
   },
   {
    "_defaultOrder": 55,
    "_isFastLaunch": false,
    "category": "Accelerated computing",
    "gpuNum": 8,
    "hideHardwareSpecs": false,
    "memoryGiB": 1152,
    "name": "ml.p4d.24xlarge",
    "vcpuNum": 96
   },
   {
    "_defaultOrder": 56,
    "_isFastLaunch": false,
    "category": "Accelerated computing",
    "gpuNum": 8,
    "hideHardwareSpecs": false,
    "memoryGiB": 1152,
    "name": "ml.p4de.24xlarge",
    "vcpuNum": 96
   },
   {
    "_defaultOrder": 57,
    "_isFastLaunch": false,
    "category": "Accelerated computing",
    "gpuNum": 0,
    "hideHardwareSpecs": false,
    "memoryGiB": 32,
    "name": "ml.trn1.2xlarge",
    "vcpuNum": 8
   },
   {
    "_defaultOrder": 58,
    "_isFastLaunch": false,
    "category": "Accelerated computing",
    "gpuNum": 0,
    "hideHardwareSpecs": false,
    "memoryGiB": 512,
    "name": "ml.trn1.32xlarge",
    "vcpuNum": 128
   },
   {
    "_defaultOrder": 59,
    "_isFastLaunch": false,
    "category": "Accelerated computing",
    "gpuNum": 0,
    "hideHardwareSpecs": false,
    "memoryGiB": 512,
    "name": "ml.trn1n.32xlarge",
    "vcpuNum": 128
   }
  ],
  "instance_type": "ml.geospatial.interactive",
  "kernelspec": {
   "display_name": "conda_python3",
   "language": "python",
   "name": "conda_python3"
  },
  "language_info": {
   "codemirror_mode": {
    "name": "ipython",
    "version": 3
   },
   "file_extension": ".py",
   "mimetype": "text/x-python",
   "name": "python",
   "nbconvert_exporter": "python",
   "pygments_lexer": "ipython3",
   "version": "3.10.16"
  }
 },
 "nbformat": 4,
 "nbformat_minor": 5
}
